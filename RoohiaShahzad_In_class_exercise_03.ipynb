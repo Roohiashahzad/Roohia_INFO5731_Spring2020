{
  "nbformat": 4,
  "nbformat_minor": 0,
  "metadata": {
    "colab": {
      "name": "RoohiaShahzad_In_class_exercise_03.ipynb",
      "provenance": [],
      "collapsed_sections": [],
      "mount_file_id": "1kumP7wuXQ0qmWsWLWqfdYNqjkXokchzT",
      "authorship_tag": "ABX9TyMuZP4hW+3a9pvVBR7G/ba6",
      "include_colab_link": true
    },
    "kernelspec": {
      "name": "python3",
      "display_name": "Python 3"
    }
  },
  "cells": [
    {
      "cell_type": "markdown",
      "metadata": {
        "id": "view-in-github",
        "colab_type": "text"
      },
      "source": [
        "<a href=\"https://colab.research.google.com/github/Roohiashahzad/Roohia_INFO5731_Spring2020/blob/main/RoohiaShahzad_In_class_exercise_03.ipynb\" target=\"_parent\"><img src=\"https://colab.research.google.com/assets/colab-badge.svg\" alt=\"Open In Colab\"/></a>"
      ]
    },
    {
      "cell_type": "code",
      "metadata": {
        "id": "5vS1XdntHLnU"
      },
      "source": [
        "# Question 1 (8 points): Describe an interesting research question (or practical question) you have in mind, \r\n",
        "#what kind of data should be collected to answer the question(s)? \r\n",
        "#How many data needed for the analysis? The detail steps for collecting and save the data.\r\n",
        "\r\n",
        "\r\n",
        "'''\r\n",
        "Please write you answer here:\r\n",
        "\r\n",
        "We are celebrating Black history month this February. It is also known as African American History month. This event raises awareness on the stories of african americans, their heritage and culture.\r\n",
        "Many events and information sessions are taking place virtually due to Covid-19 precautions. The events and stories are shared on twitter using \r\n",
        "BlackHistoryMonth hastags. I wanted to collect data based on tweets using hashtag #BlackHistoryMonth. \r\n",
        "Twitter credentials were created and stored seperately in a JSON file. 500 data items were collected including the tweet, author, hashtag and link.\r\n",
        "Data was accessed using Tweepy and was saved in a text file called \"tweets_with_hashtag_BlackHistoryMonth.txt\"\r\n",
        "\r\n",
        "Further analysis of the data can be done using Pandas dataframe in future.\r\n",
        "'''\r\n"
      ],
      "execution_count": null,
      "outputs": []
    },
    {
      "cell_type": "code",
      "metadata": {
        "colab": {
          "base_uri": "https://localhost:8080/"
        },
        "id": "xoTgq45eL19P",
        "outputId": "62eef38c-75f3-43de-bc50-ed54986f96d0"
      },
      "source": [
        "!pip install tweepy"
      ],
      "execution_count": null,
      "outputs": [
        {
          "output_type": "stream",
          "text": [
            "Requirement already satisfied: tweepy in /usr/local/lib/python3.6/dist-packages (3.6.0)\n",
            "Requirement already satisfied: requests-oauthlib>=0.7.0 in /usr/local/lib/python3.6/dist-packages (from tweepy) (1.3.0)\n",
            "Requirement already satisfied: PySocks>=1.5.7 in /usr/local/lib/python3.6/dist-packages (from tweepy) (1.7.1)\n",
            "Requirement already satisfied: six>=1.10.0 in /usr/local/lib/python3.6/dist-packages (from tweepy) (1.15.0)\n",
            "Requirement already satisfied: requests>=2.11.1 in /usr/local/lib/python3.6/dist-packages (from tweepy) (2.23.0)\n",
            "Requirement already satisfied: oauthlib>=3.0.0 in /usr/local/lib/python3.6/dist-packages (from requests-oauthlib>=0.7.0->tweepy) (3.1.0)\n",
            "Requirement already satisfied: urllib3!=1.25.0,!=1.25.1,<1.26,>=1.21.1 in /usr/local/lib/python3.6/dist-packages (from requests>=2.11.1->tweepy) (1.24.3)\n",
            "Requirement already satisfied: chardet<4,>=3.0.2 in /usr/local/lib/python3.6/dist-packages (from requests>=2.11.1->tweepy) (3.0.4)\n",
            "Requirement already satisfied: idna<3,>=2.5 in /usr/local/lib/python3.6/dist-packages (from requests>=2.11.1->tweepy) (2.10)\n",
            "Requirement already satisfied: certifi>=2017.4.17 in /usr/local/lib/python3.6/dist-packages (from requests>=2.11.1->tweepy) (2020.12.5)\n"
          ],
          "name": "stdout"
        }
      ]
    },
    {
      "cell_type": "code",
      "metadata": {
        "colab": {
          "base_uri": "https://localhost:8080/"
        },
        "id": "yE-HTmiaHec5",
        "outputId": "d3adb104-36d5-4b6b-b199-f19079ab393d"
      },
      "source": [
        "#Question 2 (12 points): Write python code to collect 500 items of the data you plan to collect above.\r\n",
        "\r\n",
        "# You code here (Please add comments in the code):\r\n",
        "\r\n",
        "'''\r\n",
        "import json\r\n",
        "\r\n",
        "twitter_cred = dict()\r\n",
        "\r\n",
        "\r\n",
        "twitter_cred['CONSUMER_KEY'] = 'u7L1lnR7HN85dn1qnTFO1cegb'\r\n",
        "twitter_cred['CONSUMER_SECRET'] = 'QN1JrEmit2To46ZcwWAT4aI5QGWZXWRDDUPnMCWV5M66SFc8wT'\r\n",
        "twitter_cred['ACCESS_KEY'] = '1144377060036620294-BSEicX3zH7hIhksbNZV9mrWFwa07cO'\r\n",
        "twitter_cred['ACCESS_SECRET'] = 'gxWMOodDq1nQAjix9mHEOUSAtgE7XH5ctHInm0XRslJce'\r\n",
        "\r\n",
        "\r\n",
        "with open('twitter_credentials.json', 'w') as secret_info:\r\n",
        "  json.dump(twitter_cred, secret_info, indent=4, sort_keys=True)\r\n",
        "'''\r\n",
        "import json\r\n",
        "import tweepy\r\n",
        "import csv\r\n",
        " \r\n",
        "with open('twitter_credentials.json') as cred_data:\r\n",
        "  info = json.load(cred_data)\r\n",
        "  consumer_key = info['CONSUMER_KEY']\r\n",
        "  consumer_secret = info['CONSUMER_SECRET']\r\n",
        "  access_key = info['ACCESS_KEY']\r\n",
        "  access_secret = info['ACCESS_SECRET']\r\n",
        "\r\n",
        "  auth = tweepy.OAuthHandler(consumer_key, consumer_secret)\r\n",
        "  api = tweepy.API(auth)\r\n",
        "\r\n",
        " \r\n",
        "  maximum_number_of_tweets_to_be_extracted = 500\r\n",
        "  hashtag = 'BlackHistoryMonth'\r\n",
        "\r\n",
        "  for tweet in tweepy.Cursor(api.search, q='#' + hashtag, rpp=100).items(maximum_number_of_tweets_to_be_extracted):\r\n",
        "    with open('tweets_with_hashtag_' + hashtag + '.txt', 'a') as the_file:\r\n",
        "       the_file.write(str(tweet.text.encode('utf-8')) + '\\n')\r\n",
        "  print ('Extracted ' + str(maximum_number_of_tweets_to_be_extracted) + ' tweets with hashtag #' + hashtag)\r\n",
        "  "
      ],
      "execution_count": 104,
      "outputs": [
        {
          "output_type": "stream",
          "text": [
            "Extracted 500 tweets with hashtag #BlackHistoryMonth\n"
          ],
          "name": "stdout"
        }
      ]
    }
  ]
}