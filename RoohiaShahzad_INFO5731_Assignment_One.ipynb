{
  "nbformat": 4,
  "nbformat_minor": 0,
  "metadata": {
    "colab": {
      "name": "RoohiaShahzad_INFO5731_Assignment_One.ipynb",
      "provenance": [],
      "collapsed_sections": [],
      "include_colab_link": true
    },
    "kernelspec": {
      "display_name": "Python 3",
      "language": "python",
      "name": "python3"
    },
    "language_info": {
      "codemirror_mode": {
        "name": "ipython",
        "version": 3
      },
      "file_extension": ".py",
      "mimetype": "text/x-python",
      "name": "python",
      "nbconvert_exporter": "python",
      "pygments_lexer": "ipython3",
      "version": "3.7.4"
    }
  },
  "cells": [
    {
      "cell_type": "markdown",
      "metadata": {
        "id": "view-in-github",
        "colab_type": "text"
      },
      "source": [
        "<a href=\"https://colab.research.google.com/github/Roohiashahzad/Roohia_INFO5731_Spring2020/blob/main/RoohiaShahzad_INFO5731_Assignment_One.ipynb\" target=\"_parent\"><img src=\"https://colab.research.google.com/assets/colab-badge.svg\" alt=\"Open In Colab\"/></a>"
      ]
    },
    {
      "cell_type": "markdown",
      "metadata": {
        "id": "Ryk8D1Q4Wsrp"
      },
      "source": [
        "# **INFO5731 Assignment One**"
      ]
    },
    {
      "cell_type": "markdown",
      "metadata": {
        "id": "90_NR8c5XGWc"
      },
      "source": [
        "# Question 1\n",
        "\n",
        "(20 points). Write a Python program to generate 12 random numbers between 1 and 100. Sort the list of numbers in ascending order and print it out. Sort the list of numbers in descending order and print it out. Calculate the average for the group and print it out."
      ]
    },
    {
      "cell_type": "code",
      "metadata": {
        "id": "5QX6bJjGWXY9",
        "colab": {
          "base_uri": "https://localhost:8080/"
        },
        "outputId": "17cbee61-d449-4647-f059-00b60dd4bc9a"
      },
      "source": [
        "# Your code here\n",
        "from random import randrange\n",
        "randomNum = [ randrange(1,100) for i in range(12)]\n",
        "ascend = print(\"Ascending\" , sorted(randomNum, reverse = False))\n",
        "descend = print(\"Descending\" , sorted(randomNum, reverse = True))\n",
        "Avg = sum(randomNum)/len(randomNum)\n",
        "print(\"Average: \" + str(Avg))\n"
      ],
      "execution_count": 61,
      "outputs": [
        {
          "output_type": "stream",
          "text": [
            "Ascending [5, 10, 14, 16, 22, 23, 30, 31, 42, 42, 65, 94]\n",
            "Descending [94, 65, 42, 42, 31, 30, 23, 22, 16, 14, 10, 5]\n",
            "Average: 32.833333333333336\n"
          ],
          "name": "stdout"
        }
      ]
    },
    {
      "cell_type": "markdown",
      "metadata": {
        "id": "1F_PZdH9Sh49"
      },
      "source": [
        "# Question 2\n",
        "(25 points). Write a program that will do the following string formatting tasks:\n",
        "\n",
        "(1) Ask the user to enter two sentences.\n",
        "\n",
        "(2) Make each sentence into a list. Each element in the list should correspond to a word in the sentence. For example, if the sentence is \"Alas! Am I alive? This is my first python program\", the program should print out ['Alas, '!', 'Am', 'I', 'alive, '?', 'This', 'is', 'my', 'first', 'python', 'program'].\n",
        "\n",
        "(3) Compare the two sentences. Print out a list of words that occur in both sentences.\n",
        "\n",
        "(4) Remove any punctuation from the sentence and print it back out. It should remove at least the following characters, but it can remove more: period(“.”), comma (“,”), semicolon (“;”), and colon (“:”)\n",
        "\n",
        "(5) Count the number of vowels in the sentences. Print out each vowel and the number of times it appears in the sentences, such as: a:2, e:1, i:0, etc"
      ]
    },
    {
      "cell_type": "code",
      "metadata": {
        "id": "Y0oOSlsOS0cq",
        "colab": {
          "base_uri": "https://localhost:8080/"
        },
        "outputId": "3667eebe-e3a5-4b3e-d969-fb607628d01d"
      },
      "source": [
        "# Your code here\n",
        "\n",
        "import string\n",
        "\n",
        "First_sentence = input(\"Give your first sentence: \")\n",
        "Second_sentence = input(\"Give your second sentence: \")\n",
        "\n",
        "print(\"Your 1st sentence: \"+ First_sentence)\n",
        "print(\"Your 2nd sentence: \"+ Second_sentence)\n",
        "\n",
        "\n",
        "First_list = First_sentence.split()\n",
        "print(First_list)\n",
        "Second_list = Second_sentence.split()\n",
        "print(Second_list)\n",
        "\n",
        "\n",
        "com_occurance = set(First_list) & set(Second_list)\n",
        "print(\"Common Occurances: \", com_occurance) \n",
        "\n",
        "\n",
        "Punctuations = set(string.punctuation)\n",
        "\n",
        "def remove_punc(a):\n",
        "  no_pun_sent  = \" \"\n",
        "  for puncs in a:\n",
        "      if puncs not in Punctuations:\n",
        "         no_pun_sent = no_pun_sent + puncs\n",
        "  print(\"Sentence without punctuations marks: \", no_pun_sent)\n",
        "\n",
        "remove_punc(First_sentence)\n",
        "remove_punc(Second_sentence)\n",
        "\n",
        "\n",
        "vowels = \"aeiou\"\n",
        "print(\"The vowels in your first sentence are: \" )\n",
        "\n",
        "def the_vowel1(alphabets):\n",
        " for alpha in vowels:\n",
        "     print(alpha, \":\", First_sentence.lower().count(alpha))\n",
        "\n",
        "the_vowel1(First_sentence)\n",
        "\n",
        "print(\"The vowles in your second sentence are: \")\n",
        "def the_vowel2(alphabets):\n",
        " for beta in vowels:\n",
        "     print(beta, \":\", Second_sentence.lower().count(beta))\n",
        "\n",
        "the_vowel2(Second_sentence)\n"
      ],
      "execution_count": 62,
      "outputs": [
        {
          "output_type": "stream",
          "text": [
            "Give your first sentence: aei!oou!\n",
            "Give your second sentence: aaaeiiiouuu\n",
            "Your 1st sentence: aei!oou!\n",
            "Your 2nd sentence: aaaeiiiouuu\n",
            "['aei!oou!']\n",
            "['aaaeiiiouuu']\n",
            "Common Occurances:  set()\n",
            "Sentence without punctuations marks:   aeioou\n",
            "Sentence without punctuations marks:   aaaeiiiouuu\n",
            "The vowels in your first sentence are: \n",
            "a : 1\n",
            "e : 1\n",
            "i : 1\n",
            "o : 2\n",
            "u : 1\n",
            "The vowles in your second sentence are: \n",
            "a : 3\n",
            "e : 1\n",
            "i : 3\n",
            "o : 1\n",
            "u : 3\n"
          ],
          "name": "stdout"
        }
      ]
    },
    {
      "cell_type": "markdown",
      "metadata": {
        "id": "CmFoI4jDS9nx"
      },
      "source": [
        "# Question 3 \n",
        "\n",
        "(15 points). The formula that describes the volume V of a sphere with radius r is the following:\n",
        "\n",
        "$ V=\\frac{4}{3}\\ast\\ \\pi\\ast\\ r^3 $\n",
        "\n",
        "Write a program to calculate the value of V when r is in the range of 1–10. Output the result in the following format:\n",
        "\n",
        "\tr\tV\n",
        "\t1\t…\n",
        "\t2\t…\n",
        "\t3\t…\n"
      ]
    },
    {
      "cell_type": "code",
      "metadata": {
        "id": "pEyqeioAT95b",
        "colab": {
          "base_uri": "https://localhost:8080/"
        },
        "outputId": "89e8f1ea-6dc0-4434-dea1-57ed38fe943d"
      },
      "source": [
        "# Your code here\n",
        "\n",
        "import math\n",
        "def volume_sphere(r):\n",
        "    return (4/3)*math.pi*(r**3)\n",
        "\n",
        "print(\"r\\t  V\")\n",
        "r=1\n",
        "while r<=10:\n",
        "  print(r, \"\\t\", round(volume_sphere(r), 2))\n",
        "  r += 1"
      ],
      "execution_count": 63,
      "outputs": [
        {
          "output_type": "stream",
          "text": [
            "r\t  V\n",
            "1 \t 4.19\n",
            "2 \t 33.51\n",
            "3 \t 113.1\n",
            "4 \t 268.08\n",
            "5 \t 523.6\n",
            "6 \t 904.78\n",
            "7 \t 1436.76\n",
            "8 \t 2144.66\n",
            "9 \t 3053.63\n",
            "10 \t 4188.79\n"
          ],
          "name": "stdout"
        }
      ]
    },
    {
      "cell_type": "markdown",
      "metadata": {
        "id": "z3tBE7E-Xn5X"
      },
      "source": [
        "# Question 4\n",
        "\n",
        "(40 points). In the field of Data Science, data is often formatted as a comma-delimited (CSV) file, where each line in a file corresponds to a field's value. Refer to Chapter 9 (p. 106) for more information on comma-delimited files. To answer this question, you will need to download the file [Assignment1_denton_housing.csv](https://github.com/unt-iialab/info5731_spring2021/blob/main/assignment/Assignment1_denton_housing.csv) included with this assignment. The file [Assignment1_denton_housing.csv](https://github.com/unt-iialab/info5731_spring2021/blob/main/assignment/Assignment1_denton_housing.csv) contains statistics about housing in the city of Denton from 2008 to 2014. Write a program to implement the following questions.\n",
        "\n",
        "(1) (10 pts) Calculate the difference in the number of Occupied Housing Units from year to year and print it. The difference must be calculated for the consecutive years such as 2008-2009, 2009-2010 etc. Finally, print the values in the ascending order.\n",
        "\n",
        "(2) (10 pts) For all the years, calculate the percentage of housing units which are vacant an occupied. Print the results in the following format:\n",
        "\n",
        "Year Vacant Housing Units Occupied Housing Units\n",
        "\n",
        "    2008  30%   70%                          \n",
        "\t2009 ----- -----\n",
        "\t2010 ----- -----\n",
        "    2011 ----- -----\n",
        "\t2012 ----- -----\n",
        "    2013 ----- -----\n",
        "\t2014 ----- -----\n",
        "  \n",
        "  \n",
        "\n",
        "(3) (10 pts) Calculate and print the valued and years in which the highest number of housing units were vacant and occupied. Print the results in the following format:  \n",
        "\n",
        "                              Year\tValue\n",
        "\tVacant Housing Units\t  -----   -----\n",
        "\tOccupied Housing Units\t-----   -----\n",
        "\n",
        "(4) (10 pts) Calculate the harmonic mean of the total housing units and print it out. You can find the information about harmonic mean here: https://ncalculators.com/statistics/harmonic-mean-calculator.htm"
      ]
    },
    {
      "cell_type": "code",
      "metadata": {
        "id": "lqGYuHBhcsRH",
        "colab": {
          "base_uri": "https://localhost:8080/"
        },
        "outputId": "a62b708f-6cbd-4fdd-d79b-045144e6a1de"
      },
      "source": [
        "# Your code here\n",
        "\n",
        "import csv\n",
        "house_value = {} \n",
        "\n",
        "with open(\"/content/Assignment1_denton_housing.csv\",'r') as f:\n",
        "    f_reader = csv.reader(f)\n",
        "    for line in f_reader: \n",
        "        if line[1] == \"Occupied Housing Units\": \n",
        "            house_value[int(line[0])] = int(line[2])\n",
        "            \n",
        "diff = {} \n",
        "year = 2008 \n",
        "while year < 2014: \n",
        "    diff[house_value[year+1]-house_value[year]] =  str(year)+\"-\"+str(year+1)\n",
        "    year+=1 \n",
        "for x in diff:\n",
        "    print(\"From \", diff[x]+\":\",x)\n",
        "\n",
        "\n"
      ],
      "execution_count": 64,
      "outputs": [
        {
          "output_type": "stream",
          "text": [
            "From  2008-2009: -795\n",
            "From  2009-2010: 5091\n",
            "From  2010-2011: -303\n",
            "From  2011-2012: 1404\n",
            "From  2012-2013: 1565\n",
            "From  2013-2014: 2622\n"
          ],
          "name": "stdout"
        }
      ]
    },
    {
      "cell_type": "code",
      "metadata": {
        "colab": {
          "base_uri": "https://localhost:8080/"
        },
        "id": "LRs4nguoQye-",
        "outputId": "b90d0a79-841e-4f24-efcc-1b40c457d6ca"
      },
      "source": [
        "import csv\r\n",
        "\r\n",
        "Total_Units = {}\r\n",
        "Occupied_Units = {}\r\n",
        "Vacant_Units = {}\r\n",
        "\r\n",
        "with open(\"/content/Assignment1_denton_housing.csv\",'r') as f:\r\n",
        "    f_reader = csv.reader(f) \r\n",
        "    for line in f_reader: \r\n",
        "        if line[1] == \"Total Housing Units\": \r\n",
        "            Total_Units[int(line[0])] = int(line[2])\r\n",
        "        elif line[1] == \"Occupied Housing Units\": \r\n",
        "            Occupied_Units[int(line[0])] = int(line[2])\r\n",
        "        elif line[1] == \"Vacant Housing Units\": \r\n",
        "            Vacant_Units[int(line[0])] = int(line[2])\r\n",
        "year = 2008 \r\n",
        "print(\"Year\\tVacant Housing Units\\tOccupied Housing Units\") \r\n",
        "while year <= 2014: \r\n",
        "    PercentVacant = (Vacant_Units[year]/Total_Units[year])*100\r\n",
        "    PercentOccupied = (Occupied_Units[year]/Total_Units[year])*100\r\n",
        "    print(str(year)+\"\\t\"+str(round(PercentVacant,2))+\"%\\t\\t\\t\"+str(round(PercentVacant,2))+\"%\")\r\n",
        "    year+=1"
      ],
      "execution_count": 65,
      "outputs": [
        {
          "output_type": "stream",
          "text": [
            "Year\tVacant Housing Units\tOccupied Housing Units\n",
            "2008\t10.88%\t\t\t10.88%\n",
            "2009\t9.07%\t\t\t9.07%\n",
            "2010\t8.14%\t\t\t8.14%\n",
            "2011\t9.38%\t\t\t9.38%\n",
            "2012\t6.68%\t\t\t6.68%\n",
            "2013\t8.8%\t\t\t8.8%\n",
            "2014\t5.73%\t\t\t5.73%\n"
          ],
          "name": "stdout"
        }
      ]
    },
    {
      "cell_type": "code",
      "metadata": {
        "colab": {
          "base_uri": "https://localhost:8080/"
        },
        "id": "eLOhLHSIVeG4",
        "outputId": "3e9dac09-9e30-4d69-be26-e5c86afe8bed"
      },
      "source": [
        "import csv\r\n",
        "\r\n",
        "occupiedUnits = {}\r\n",
        "vacantUnits = {}\r\n",
        "\r\n",
        "with open(\"/content/Assignment1_denton_housing.csv\",'r') as f:\r\n",
        "    f_reader = csv.reader(f)  \r\n",
        "    for line in f_reader: \r\n",
        "        if line[1] == \"Occupied Housing Units\": \r\n",
        "            occupiedUnits[int(line[0])] = int(line[2])\r\n",
        "        elif line[1] == \"Vacant Housing Units\": \r\n",
        "            vacantUnits[int(line[0])] = int(line[2])\r\n",
        "maxVacant = max(vacantUnits.values()) \r\n",
        "maxOccupied = max(occupiedUnits.values())\r\n",
        "print(\"\\t\\t\\tYear\\tValue\")\r\n",
        "for x in vacantUnits.items():\r\n",
        "    if x[1] == maxVacant:\r\n",
        "        print(\"Vacant Housing Units\\t\"+str(x[0])+\"\\t\"+str(maxVacant))\r\n",
        "for x in occupiedUnits.items():\r\n",
        "    if x[1] == maxOccupied:\r\n",
        "        print(\"Occupied Housing Units\\t\"+str(x[0])+\"\\t\"+str(maxOccupied))"
      ],
      "execution_count": 66,
      "outputs": [
        {
          "output_type": "stream",
          "text": [
            "\t\t\tYear\tValue\n",
            "Vacant Housing Units\t2008\t4483\n",
            "Occupied Housing Units\t2014\t46295\n"
          ],
          "name": "stdout"
        }
      ]
    },
    {
      "cell_type": "code",
      "metadata": {
        "colab": {
          "base_uri": "https://localhost:8080/"
        },
        "id": "QZ8YdeaPZLsy",
        "outputId": "9001d5cc-f8a0-481f-bfbf-0e79447ca2a5"
      },
      "source": [
        "def harmonic_mean(dataSet):\r\n",
        "    num = 0\r\n",
        "    for n in dataSet:\r\n",
        "        num += (1/n)\r\n",
        "    return round(len(dataSet)/num,2)\r\n",
        "\r\n",
        "import csv\r\n",
        "totalUnits = []\r\n",
        "\r\n",
        "with open(\"/content/Assignment1_denton_housing.csv\",'r') as f:\r\n",
        "    f_reader = csv.reader(f)  \r\n",
        "    for line in f_reader: \r\n",
        "        if line[1] == \"Total Housing Units\": \r\n",
        "            totalUnits.append(int(line[2]))\r\n",
        "\r\n",
        "print(\"Harmonic Mean \",str(harmonic_mean(totalUnits)))"
      ],
      "execution_count": 67,
      "outputs": [
        {
          "output_type": "stream",
          "text": [
            "Harmonic Mean  44398.29\n"
          ],
          "name": "stdout"
        }
      ]
    }
  ]
}