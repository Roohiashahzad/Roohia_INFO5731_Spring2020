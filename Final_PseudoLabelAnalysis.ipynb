{
  "nbformat": 4,
  "nbformat_minor": 0,
  "metadata": {
    "colab": {
      "name": "Final_PseudoLabelAnalysis.ipynb",
      "provenance": [],
      "collapsed_sections": [],
      "toc_visible": true,
      "include_colab_link": true
    },
    "kernelspec": {
      "name": "python3",
      "display_name": "Python 3"
    },
    "language_info": {
      "name": "python"
    }
  },
  "cells": [
    {
      "cell_type": "markdown",
      "metadata": {
        "id": "view-in-github",
        "colab_type": "text"
      },
      "source": [
        "<a href=\"https://colab.research.google.com/github/Roohiashahzad/Roohia_INFO5731_Spring2020/blob/main/Final_PseudoLabelAnalysis.ipynb\" target=\"_parent\"><img src=\"https://colab.research.google.com/assets/colab-badge.svg\" alt=\"Open In Colab\"/></a>"
      ]
    },
    {
      "cell_type": "markdown",
      "metadata": {
        "id": "Yv8GT8pgmQ6W"
      },
      "source": [
        "#Reading From Files"
      ]
    },
    {
      "cell_type": "code",
      "metadata": {
        "id": "9eWps20D-oYa"
      },
      "source": [
        "import pandas as pd\n",
        "testfilename = \"/content/AllDataSet.csv\" #Test data file\n",
        "trainfilename = \"/content/Final_TrainData_ACL&ALL.csv\" #Training/labeled data file \n",
        "d1 = pd.read_csv(testfilename, encoding= 'unicode_escape')\n",
        "d2 = pd.read_csv(trainfilename, encoding= 'unicode_escape')\n"
      ],
      "execution_count": null,
      "outputs": []
    },
    {
      "cell_type": "code",
      "metadata": {
        "colab": {
          "base_uri": "https://localhost:8080/",
          "height": 195
        },
        "id": "63PyZkIIfFVb",
        "outputId": "27203bfe-701c-4a86-ef97-02318154f74e"
      },
      "source": [
        "d1.head()"
      ],
      "execution_count": null,
      "outputs": [
        {
          "output_type": "execute_result",
          "data": {
            "text/html": [
              "<div>\n",
              "<style scoped>\n",
              "    .dataframe tbody tr th:only-of-type {\n",
              "        vertical-align: middle;\n",
              "    }\n",
              "\n",
              "    .dataframe tbody tr th {\n",
              "        vertical-align: top;\n",
              "    }\n",
              "\n",
              "    .dataframe thead th {\n",
              "        text-align: right;\n",
              "    }\n",
              "</style>\n",
              "<table border=\"1\" class=\"dataframe\">\n",
              "  <thead>\n",
              "    <tr style=\"text-align: right;\">\n",
              "      <th></th>\n",
              "      <th>Title</th>\n",
              "      <th>Contributions</th>\n",
              "      <th>Source</th>\n",
              "      <th>Labels</th>\n",
              "    </tr>\n",
              "  </thead>\n",
              "  <tbody>\n",
              "    <tr>\n",
              "      <th>0</th>\n",
              "      <td>The measurement of âinterdisciplinarityâ a...</td>\n",
              "      <td>In this study, we discuss recent advances in t...</td>\n",
              "      <td>JASIST</td>\n",
              "      <td>NaN</td>\n",
              "    </tr>\n",
              "    <tr>\n",
              "      <th>1</th>\n",
              "      <td>Innovation adoption: Broadcasting versus virality</td>\n",
              "      <td>broadcasting and virality have similar diffusi...</td>\n",
              "      <td>JASIST</td>\n",
              "      <td>NaN</td>\n",
              "    </tr>\n",
              "    <tr>\n",
              "      <th>2</th>\n",
              "      <td>Discovering underlying sensations of human emo...</td>\n",
              "      <td>we report the results of our study on sensatio...</td>\n",
              "      <td>JASIST</td>\n",
              "      <td>NaN</td>\n",
              "    </tr>\n",
              "    <tr>\n",
              "      <th>3</th>\n",
              "      <td>Discovering underlying sensations of human emo...</td>\n",
              "      <td>in the second part of the paper, we define nov...</td>\n",
              "      <td>JASIST</td>\n",
              "      <td>NaN</td>\n",
              "    </tr>\n",
              "    <tr>\n",
              "      <th>4</th>\n",
              "      <td>Discovering underlying sensations of human emo...</td>\n",
              "      <td>we design a method to classify texts into ones...</td>\n",
              "      <td>JASIST</td>\n",
              "      <td>NaN</td>\n",
              "    </tr>\n",
              "  </tbody>\n",
              "</table>\n",
              "</div>"
            ],
            "text/plain": [
              "                                               Title  ... Labels\n",
              "0  The measurement of âinterdisciplinarityâ a...  ...    NaN\n",
              "1  Innovation adoption: Broadcasting versus virality  ...    NaN\n",
              "2  Discovering underlying sensations of human emo...  ...    NaN\n",
              "3  Discovering underlying sensations of human emo...  ...    NaN\n",
              "4  Discovering underlying sensations of human emo...  ...    NaN\n",
              "\n",
              "[5 rows x 4 columns]"
            ]
          },
          "metadata": {
            "tags": []
          },
          "execution_count": 92
        }
      ]
    },
    {
      "cell_type": "code",
      "metadata": {
        "colab": {
          "base_uri": "https://localhost:8080/",
          "height": 195
        },
        "id": "PMps7FmffGua",
        "outputId": "3326e21a-aaff-41cc-e281-ca9702a221f2"
      },
      "source": [
        "d2.head()"
      ],
      "execution_count": null,
      "outputs": [
        {
          "output_type": "execute_result",
          "data": {
            "text/html": [
              "<div>\n",
              "<style scoped>\n",
              "    .dataframe tbody tr th:only-of-type {\n",
              "        vertical-align: middle;\n",
              "    }\n",
              "\n",
              "    .dataframe tbody tr th {\n",
              "        vertical-align: top;\n",
              "    }\n",
              "\n",
              "    .dataframe thead th {\n",
              "        text-align: right;\n",
              "    }\n",
              "</style>\n",
              "<table border=\"1\" class=\"dataframe\">\n",
              "  <thead>\n",
              "    <tr style=\"text-align: right;\">\n",
              "      <th></th>\n",
              "      <th>Title</th>\n",
              "      <th>Contributions</th>\n",
              "      <th>Source</th>\n",
              "      <th>Labels</th>\n",
              "    </tr>\n",
              "  </thead>\n",
              "  <tbody>\n",
              "    <tr>\n",
              "      <th>0</th>\n",
              "      <td>Text Mining for Personalized Knowledge Extract...</td>\n",
              "      <td>Extend and evaluate existing textâmining tec...</td>\n",
              "      <td>JASIST</td>\n",
              "      <td>Algorithm or Method or Technology Optimization</td>\n",
              "    </tr>\n",
              "    <tr>\n",
              "      <th>1</th>\n",
              "      <td>Text Mining for Personalized Knowledge Extract...</td>\n",
              "      <td>Design and develop a layer for extraction of k...</td>\n",
              "      <td>JASIST</td>\n",
              "      <td>New Algorithm or Method or Technology</td>\n",
              "    </tr>\n",
              "    <tr>\n",
              "      <th>2</th>\n",
              "      <td>Text Mining for Personalized Knowledge Extract...</td>\n",
              "      <td>Evaluate relevance, reliability, and demonstra...</td>\n",
              "      <td>JASIST</td>\n",
              "      <td>Performance Evaluation</td>\n",
              "    </tr>\n",
              "    <tr>\n",
              "      <th>3</th>\n",
              "      <td>PSI: A probabilistic semantic interpretable fr...</td>\n",
              "      <td>A novel semantic interpretable framework is pr...</td>\n",
              "      <td>JASIST</td>\n",
              "      <td>Model Construction</td>\n",
              "    </tr>\n",
              "    <tr>\n",
              "      <th>4</th>\n",
              "      <td>PSI: A probabilistic semantic interpretable fr...</td>\n",
              "      <td>with the attribute based representation and su...</td>\n",
              "      <td>JASIST</td>\n",
              "      <td>Algorithm or Method or Technology Optimization</td>\n",
              "    </tr>\n",
              "  </tbody>\n",
              "</table>\n",
              "</div>"
            ],
            "text/plain": [
              "                                               Title  ...                                          Labels\n",
              "0  Text Mining for Personalized Knowledge Extract...  ...  Algorithm or Method or Technology Optimization\n",
              "1  Text Mining for Personalized Knowledge Extract...  ...           New Algorithm or Method or Technology\n",
              "2  Text Mining for Personalized Knowledge Extract...  ...                          Performance Evaluation\n",
              "3  PSI: A probabilistic semantic interpretable fr...  ...                              Model Construction\n",
              "4  PSI: A probabilistic semantic interpretable fr...  ...  Algorithm or Method or Technology Optimization\n",
              "\n",
              "[5 rows x 4 columns]"
            ]
          },
          "metadata": {
            "tags": []
          },
          "execution_count": 93
        }
      ]
    },
    {
      "cell_type": "markdown",
      "metadata": {
        "id": "6DziZqJRmWEk"
      },
      "source": [
        "#Data Cleaning"
      ]
    },
    {
      "cell_type": "code",
      "metadata": {
        "id": "G1HpJX8aDxvr"
      },
      "source": [
        "d1['lower_Case'] = d1['Contributions'].apply(lambda x: \" \".join(x.lower() for x in str(x).split()))\n",
        "d2['lower_Case'] = d2['Contributions'].apply(lambda x: \" \".join(x.lower() for x in x.split()))"
      ],
      "execution_count": null,
      "outputs": []
    },
    {
      "cell_type": "code",
      "metadata": {
        "id": "7Siwg1h1DxxN"
      },
      "source": [
        "d1['remove_Punc'] = d1['lower_Case'].str.replace('[^\\w\\s]','')\n",
        "d2['remove_Punc'] = d2['lower_Case'].str.replace('[^\\w\\s]','')"
      ],
      "execution_count": null,
      "outputs": []
    },
    {
      "cell_type": "code",
      "metadata": {
        "colab": {
          "base_uri": "https://localhost:8080/"
        },
        "id": "BQLTVBfjDxzw",
        "outputId": "54088c60-141b-46f4-9796-58058eb57e80"
      },
      "source": [
        "import nltk\n",
        "nltk.download('punkt')\n",
        "nltk.download('stopwords')\n",
        "from nltk.corpus import stopwords\n",
        "stop_words = stopwords.words('english')\n",
        "d1['stop_words'] = d1['remove_Punc'].apply(lambda x: \" \".join(x for x in x.split() if x not in stop_words))\n",
        "d2['stop_words'] = d2['remove_Punc'].apply(lambda x: \" \".join(x for x in x.split() if x not in stop_words))"
      ],
      "execution_count": null,
      "outputs": [
        {
          "output_type": "stream",
          "text": [
            "[nltk_data] Downloading package punkt to /root/nltk_data...\n",
            "[nltk_data]   Package punkt is already up-to-date!\n",
            "[nltk_data] Downloading package stopwords to /root/nltk_data...\n",
            "[nltk_data]   Package stopwords is already up-to-date!\n"
          ],
          "name": "stdout"
        }
      ]
    },
    {
      "cell_type": "code",
      "metadata": {
        "id": "neDK5Pp4Dx1T"
      },
      "source": [
        "frequent_words = list(pd.Series(' '.join(str(d1['Contributions'])).split()).value_counts()[:15].index)\n",
        "d1[\"freq_words\"] = d1['stop_words'].apply(lambda x: ' '.join([i for i in x.split() if i not in frequent_words]))\n"
      ],
      "execution_count": null,
      "outputs": []
    },
    {
      "cell_type": "code",
      "metadata": {
        "id": "ijFy6yl3f56q"
      },
      "source": [
        "frequent_words = list(pd.Series(' '.join(d2['Contributions']).split()).value_counts()[:15].index)\n",
        "d2[\"freq_words\"] = d2['stop_words'].apply(lambda x: ' '.join([i for i in x.split() if i not in frequent_words]))\n"
      ],
      "execution_count": null,
      "outputs": []
    },
    {
      "cell_type": "code",
      "metadata": {
        "id": "XbDg3ZweDx_N"
      },
      "source": [
        "from textblob import TextBlob\n",
        "d1['word_tokenize'] = d1['freq_words'].apply(lambda x: TextBlob(x).words)"
      ],
      "execution_count": null,
      "outputs": []
    },
    {
      "cell_type": "code",
      "metadata": {
        "id": "1NXYmnXhf_9d"
      },
      "source": [
        "from textblob import TextBlob\n",
        "d2['word_tokenize'] = d2['freq_words'].apply(lambda x: TextBlob(x).words)"
      ],
      "execution_count": null,
      "outputs": []
    },
    {
      "cell_type": "code",
      "metadata": {
        "colab": {
          "base_uri": "https://localhost:8080/"
        },
        "id": "u0NNcc1hDyAv",
        "outputId": "60c2bbac-2013-4c4c-8ba3-783de246b074"
      },
      "source": [
        "import nltk\n",
        "nltk.download('wordnet')\n",
        "from textblob import Word\n",
        "d1['lemmatized'] = d1['word_tokenize'].apply(lambda x: \" \".join([Word(word).lemmatize() for word in x]))"
      ],
      "execution_count": null,
      "outputs": [
        {
          "output_type": "stream",
          "text": [
            "[nltk_data] Downloading package wordnet to /root/nltk_data...\n",
            "[nltk_data]   Package wordnet is already up-to-date!\n"
          ],
          "name": "stdout"
        }
      ]
    },
    {
      "cell_type": "code",
      "metadata": {
        "id": "L1K24AR8gEr8"
      },
      "source": [
        "from textblob import Word\n",
        "d2['lemmatized'] = d2['word_tokenize'].apply(lambda x: \" \".join([Word(word).lemmatize() for word in x]))"
      ],
      "execution_count": null,
      "outputs": []
    },
    {
      "cell_type": "code",
      "metadata": {
        "id": "dFKv6dXxDyDW"
      },
      "source": [
        "test = d1[['Title', 'Contributions', 'Source', 'Labels']] #clean test data\n",
        "train = d2[['Title', 'Contributions', 'Source', 'Labels']] #clean train data"
      ],
      "execution_count": null,
      "outputs": []
    },
    {
      "cell_type": "code",
      "metadata": {
        "id": "lRVpz0GaDyE9"
      },
      "source": [
        "test.to_csv('/content/test.csv', index = False)\n",
        "train.to_csv('/content/train.csv', index = False)"
      ],
      "execution_count": null,
      "outputs": []
    },
    {
      "cell_type": "code",
      "metadata": {
        "colab": {
          "base_uri": "https://localhost:8080/",
          "height": 402
        },
        "id": "NTJfUBlziQ5C",
        "outputId": "99a072e3-1b58-4432-fde3-a8b14d002193"
      },
      "source": [
        "test"
      ],
      "execution_count": null,
      "outputs": [
        {
          "output_type": "execute_result",
          "data": {
            "text/html": [
              "<div>\n",
              "<style scoped>\n",
              "    .dataframe tbody tr th:only-of-type {\n",
              "        vertical-align: middle;\n",
              "    }\n",
              "\n",
              "    .dataframe tbody tr th {\n",
              "        vertical-align: top;\n",
              "    }\n",
              "\n",
              "    .dataframe thead th {\n",
              "        text-align: right;\n",
              "    }\n",
              "</style>\n",
              "<table border=\"1\" class=\"dataframe\">\n",
              "  <thead>\n",
              "    <tr style=\"text-align: right;\">\n",
              "      <th></th>\n",
              "      <th>Title</th>\n",
              "      <th>Contributions</th>\n",
              "      <th>Source</th>\n",
              "      <th>Labels</th>\n",
              "    </tr>\n",
              "  </thead>\n",
              "  <tbody>\n",
              "    <tr>\n",
              "      <th>0</th>\n",
              "      <td>The measurement of âinterdisciplinarityâ a...</td>\n",
              "      <td>In this study, we discuss recent advances in t...</td>\n",
              "      <td>JASIST</td>\n",
              "      <td>NaN</td>\n",
              "    </tr>\n",
              "    <tr>\n",
              "      <th>1</th>\n",
              "      <td>Innovation adoption: Broadcasting versus virality</td>\n",
              "      <td>broadcasting and virality have similar diffusi...</td>\n",
              "      <td>JASIST</td>\n",
              "      <td>NaN</td>\n",
              "    </tr>\n",
              "    <tr>\n",
              "      <th>2</th>\n",
              "      <td>Discovering underlying sensations of human emo...</td>\n",
              "      <td>we report the results of our study on sensatio...</td>\n",
              "      <td>JASIST</td>\n",
              "      <td>NaN</td>\n",
              "    </tr>\n",
              "    <tr>\n",
              "      <th>3</th>\n",
              "      <td>Discovering underlying sensations of human emo...</td>\n",
              "      <td>in the second part of the paper, we define nov...</td>\n",
              "      <td>JASIST</td>\n",
              "      <td>NaN</td>\n",
              "    </tr>\n",
              "    <tr>\n",
              "      <th>4</th>\n",
              "      <td>Discovering underlying sensations of human emo...</td>\n",
              "      <td>we design a method to classify texts into ones...</td>\n",
              "      <td>JASIST</td>\n",
              "      <td>NaN</td>\n",
              "    </tr>\n",
              "    <tr>\n",
              "      <th>...</th>\n",
              "      <td>...</td>\n",
              "      <td>...</td>\n",
              "      <td>...</td>\n",
              "      <td>...</td>\n",
              "    </tr>\n",
              "    <tr>\n",
              "      <th>4854</th>\n",
              "      <td>Vulnerable community identification using hate...</td>\n",
              "      <td>We collected and annotated Amharic data for th...</td>\n",
              "      <td>IPM</td>\n",
              "      <td>NaN</td>\n",
              "    </tr>\n",
              "    <tr>\n",
              "      <th>4855</th>\n",
              "      <td>Vulnerable community identification using hate...</td>\n",
              "      <td>We utilize Apache Spark distributed platform f...</td>\n",
              "      <td>IPM</td>\n",
              "      <td>NaN</td>\n",
              "    </tr>\n",
              "    <tr>\n",
              "      <th>4856</th>\n",
              "      <td>Information behavior and ICT use of Latina imm...</td>\n",
              "      <td>Latina immigrants to the U.S. Midwest have at ...</td>\n",
              "      <td>IPM</td>\n",
              "      <td>NaN</td>\n",
              "    </tr>\n",
              "    <tr>\n",
              "      <th>4857</th>\n",
              "      <td>Information behavior and ICT use of Latina imm...</td>\n",
              "      <td>ICTs support information seeking and use along...</td>\n",
              "      <td>IPM</td>\n",
              "      <td>NaN</td>\n",
              "    </tr>\n",
              "    <tr>\n",
              "      <th>4858</th>\n",
              "      <td>Information behavior and ICT use of Latina imm...</td>\n",
              "      <td>Digital inclusion efforts must account for lan...</td>\n",
              "      <td>IPM</td>\n",
              "      <td>NaN</td>\n",
              "    </tr>\n",
              "  </tbody>\n",
              "</table>\n",
              "<p>4859 rows × 4 columns</p>\n",
              "</div>"
            ],
            "text/plain": [
              "                                                  Title  ... Labels\n",
              "0     The measurement of âinterdisciplinarityâ a...  ...    NaN\n",
              "1     Innovation adoption: Broadcasting versus virality  ...    NaN\n",
              "2     Discovering underlying sensations of human emo...  ...    NaN\n",
              "3     Discovering underlying sensations of human emo...  ...    NaN\n",
              "4     Discovering underlying sensations of human emo...  ...    NaN\n",
              "...                                                 ...  ...    ...\n",
              "4854  Vulnerable community identification using hate...  ...    NaN\n",
              "4855  Vulnerable community identification using hate...  ...    NaN\n",
              "4856  Information behavior and ICT use of Latina imm...  ...    NaN\n",
              "4857  Information behavior and ICT use of Latina imm...  ...    NaN\n",
              "4858  Information behavior and ICT use of Latina imm...  ...    NaN\n",
              "\n",
              "[4859 rows x 4 columns]"
            ]
          },
          "metadata": {
            "tags": []
          },
          "execution_count": 105
        }
      ]
    },
    {
      "cell_type": "code",
      "metadata": {
        "colab": {
          "base_uri": "https://localhost:8080/",
          "height": 402
        },
        "id": "iPf1MrcaiZPJ",
        "outputId": "202187bd-554f-4755-9022-00e684a74a7d"
      },
      "source": [
        "train"
      ],
      "execution_count": null,
      "outputs": [
        {
          "output_type": "execute_result",
          "data": {
            "text/html": [
              "<div>\n",
              "<style scoped>\n",
              "    .dataframe tbody tr th:only-of-type {\n",
              "        vertical-align: middle;\n",
              "    }\n",
              "\n",
              "    .dataframe tbody tr th {\n",
              "        vertical-align: top;\n",
              "    }\n",
              "\n",
              "    .dataframe thead th {\n",
              "        text-align: right;\n",
              "    }\n",
              "</style>\n",
              "<table border=\"1\" class=\"dataframe\">\n",
              "  <thead>\n",
              "    <tr style=\"text-align: right;\">\n",
              "      <th></th>\n",
              "      <th>Title</th>\n",
              "      <th>Contributions</th>\n",
              "      <th>Source</th>\n",
              "      <th>Labels</th>\n",
              "    </tr>\n",
              "  </thead>\n",
              "  <tbody>\n",
              "    <tr>\n",
              "      <th>0</th>\n",
              "      <td>Text Mining for Personalized Knowledge Extract...</td>\n",
              "      <td>Extend and evaluate existing textâmining tec...</td>\n",
              "      <td>JASIST</td>\n",
              "      <td>Algorithm or Method or Technology Optimization</td>\n",
              "    </tr>\n",
              "    <tr>\n",
              "      <th>1</th>\n",
              "      <td>Text Mining for Personalized Knowledge Extract...</td>\n",
              "      <td>Design and develop a layer for extraction of k...</td>\n",
              "      <td>JASIST</td>\n",
              "      <td>New Algorithm or Method or Technology</td>\n",
              "    </tr>\n",
              "    <tr>\n",
              "      <th>2</th>\n",
              "      <td>Text Mining for Personalized Knowledge Extract...</td>\n",
              "      <td>Evaluate relevance, reliability, and demonstra...</td>\n",
              "      <td>JASIST</td>\n",
              "      <td>Performance Evaluation</td>\n",
              "    </tr>\n",
              "    <tr>\n",
              "      <th>3</th>\n",
              "      <td>PSI: A probabilistic semantic interpretable fr...</td>\n",
              "      <td>A novel semantic interpretable framework is pr...</td>\n",
              "      <td>JASIST</td>\n",
              "      <td>Model Construction</td>\n",
              "    </tr>\n",
              "    <tr>\n",
              "      <th>4</th>\n",
              "      <td>PSI: A probabilistic semantic interpretable fr...</td>\n",
              "      <td>with the attribute based representation and su...</td>\n",
              "      <td>JASIST</td>\n",
              "      <td>Algorithm or Method or Technology Optimization</td>\n",
              "    </tr>\n",
              "    <tr>\n",
              "      <th>...</th>\n",
              "      <td>...</td>\n",
              "      <td>...</td>\n",
              "      <td>...</td>\n",
              "      <td>...</td>\n",
              "    </tr>\n",
              "    <tr>\n",
              "      <th>3128</th>\n",
              "      <td>NaN</td>\n",
              "      <td>we propose a simple and parameter-efficient ad...</td>\n",
              "      <td>ACL</td>\n",
              "      <td>Theory Proposal</td>\n",
              "    </tr>\n",
              "    <tr>\n",
              "      <th>3129</th>\n",
              "      <td>NaN</td>\n",
              "      <td>we propose an approach that uses both the sent...</td>\n",
              "      <td>ACL</td>\n",
              "      <td>Model Construction</td>\n",
              "    </tr>\n",
              "    <tr>\n",
              "      <th>3130</th>\n",
              "      <td>NaN</td>\n",
              "      <td>We propose an endto-end approach for jointly p...</td>\n",
              "      <td>ACL</td>\n",
              "      <td>Dataset Creation</td>\n",
              "    </tr>\n",
              "    <tr>\n",
              "      <th>3131</th>\n",
              "      <td>NaN</td>\n",
              "      <td>we aim to compare the performance of attention...</td>\n",
              "      <td>ACL</td>\n",
              "      <td>Performance Evaluation</td>\n",
              "    </tr>\n",
              "    <tr>\n",
              "      <th>3132</th>\n",
              "      <td>NaN</td>\n",
              "      <td>we propose a model that jointly identifies the...</td>\n",
              "      <td>ACL</td>\n",
              "      <td>Model Construction</td>\n",
              "    </tr>\n",
              "  </tbody>\n",
              "</table>\n",
              "<p>3133 rows × 4 columns</p>\n",
              "</div>"
            ],
            "text/plain": [
              "                                                  Title  ...                                          Labels\n",
              "0     Text Mining for Personalized Knowledge Extract...  ...  Algorithm or Method or Technology Optimization\n",
              "1     Text Mining for Personalized Knowledge Extract...  ...           New Algorithm or Method or Technology\n",
              "2     Text Mining for Personalized Knowledge Extract...  ...                          Performance Evaluation\n",
              "3     PSI: A probabilistic semantic interpretable fr...  ...                              Model Construction\n",
              "4     PSI: A probabilistic semantic interpretable fr...  ...  Algorithm or Method or Technology Optimization\n",
              "...                                                 ...  ...                                             ...\n",
              "3128                                                NaN  ...                                 Theory Proposal\n",
              "3129                                                NaN  ...                              Model Construction\n",
              "3130                                                NaN  ...                                Dataset Creation\n",
              "3131                                                NaN  ...                          Performance Evaluation\n",
              "3132                                                NaN  ...                              Model Construction\n",
              "\n",
              "[3133 rows x 4 columns]"
            ]
          },
          "metadata": {
            "tags": []
          },
          "execution_count": 106
        }
      ]
    },
    {
      "cell_type": "markdown",
      "metadata": {
        "id": "OMCQdGDdlw9L"
      },
      "source": [
        "# Preprocessing"
      ]
    },
    {
      "cell_type": "code",
      "metadata": {
        "id": "gSP9t0VXLyVM"
      },
      "source": [
        "import pandas as pd\n",
        "import numpy as np\n",
        "import matplotlib.pyplot as plt\n",
        "%matplotlib inline\n",
        "from sklearn.preprocessing import LabelEncoder"
      ],
      "execution_count": null,
      "outputs": []
    },
    {
      "cell_type": "code",
      "metadata": {
        "id": "_s0EWyzcLyXK",
        "colab": {
          "base_uri": "https://localhost:8080/"
        },
        "outputId": "6486b9e5-ed04-4c2c-b2da-5d81d816a9b2"
      },
      "source": [
        "### label encoding cate. var.\n",
        "col = ['Title','Contributions','Source','Labels']\n",
        "test['Labels'] = 0\n",
        "combi = train.append(test)\n",
        "number = LabelEncoder()\n",
        "for i in col:\n",
        "  combi[i] = number.fit_transform(combi[i].astype('str'))\n",
        "  combi[i] = combi[i].astype('int')\n",
        "train = combi[:train.shape[0]]\n",
        "test = combi[train.shape[0]:]\n",
        "test.drop('Labels',axis=1,inplace=True)\n",
        " \n",
        "training = train.drop(['Contributions'],axis=1)\n",
        "testing = test.drop(['Contributions'],axis=1)\n",
        "\n",
        "y_train = training['Labels']\n",
        "training.drop('Labels',axis=1,inplace=True)\n",
        "#y_test = testing['Labels']\n",
        "features = training.columns\n",
        "target = 'Labels'\n",
        "\n",
        "X_train, X_test = training, testing"
      ],
      "execution_count": null,
      "outputs": [
        {
          "output_type": "stream",
          "text": [
            "/usr/local/lib/python3.7/dist-packages/ipykernel_launcher.py:5: SettingWithCopyWarning: \n",
            "A value is trying to be set on a copy of a slice from a DataFrame.\n",
            "Try using .loc[row_indexer,col_indexer] = value instead\n",
            "\n",
            "See the caveats in the documentation: https://pandas.pydata.org/pandas-docs/stable/user_guide/indexing.html#returning-a-view-versus-a-copy\n",
            "  \"\"\"\n",
            "/usr/local/lib/python3.7/dist-packages/pandas/core/frame.py:4174: SettingWithCopyWarning: \n",
            "A value is trying to be set on a copy of a slice from a DataFrame\n",
            "\n",
            "See the caveats in the documentation: https://pandas.pydata.org/pandas-docs/stable/user_guide/indexing.html#returning-a-view-versus-a-copy\n",
            "  errors=errors,\n"
          ],
          "name": "stderr"
        }
      ]
    },
    {
      "cell_type": "code",
      "metadata": {
        "id": "WugiZI6MLyaB"
      },
      "source": [
        "from xgboost import XGBRegressor\n",
        "from sklearn.linear_model import BayesianRidge, Ridge, ElasticNet\n",
        "from sklearn.neighbors import KNeighborsRegressor\n",
        "from sklearn.ensemble import RandomForestRegressor, ExtraTreesRegressor, GradientBoostingRegressor\n",
        "#from sklearn.neural_network import MLPRegressor\n",
        "from sklearn.metrics import accuracy_score\n",
        "from sklearn.metrics import classification_report\n",
        "from sklearn.metrics import mean_squared_error\n",
        "from sklearn.model_selection import cross_val_score\n",
        "\n",
        "from sklearn.linear_model import LogisticRegression\n",
        "from sklearn.ensemble import RandomForestClassifier\n",
        "from sklearn.naive_bayes import MultinomialNB\n",
        "from sklearn.svm import LinearSVC\n",
        "\n",
        "from sklearn.model_selection import cross_val_score\n"
      ],
      "execution_count": null,
      "outputs": []
    },
    {
      "cell_type": "markdown",
      "metadata": {
        "id": "axOdgbKPlkT5"
      },
      "source": [
        "#Comparing rmse scores for 4 classifers\n"
      ]
    },
    {
      "cell_type": "code",
      "metadata": {
        "id": "lrfC7DiWLybY",
        "colab": {
          "base_uri": "https://localhost:8080/"
        },
        "outputId": "b279bb9e-17e5-498a-f5dc-cfa447979490"
      },
      "source": [
        "model_factory = [\n",
        " RandomForestClassifier(n_estimators=200, max_depth=3, random_state=0),\n",
        " LinearSVC(),\n",
        " MultinomialNB(),\n",
        " LogisticRegression(random_state=0),\n",
        "]\n",
        "\n",
        "\n",
        "num_folds = 3\n",
        "for model in model_factory:\n",
        "  model.seed = 42\n",
        "  model.fit(X_train,y_train)\n",
        "  scores = cross_val_score(model, X_train, y_train, cv=num_folds, scoring='neg_mean_squared_error')\n",
        "  score_description = \" %0.2f (+/- %0.2f)\" % (np.sqrt(scores.mean()*-1), scores.std() * 2)\n",
        "  print('{model:25} CV-5 RMSE: {score}'.format( model=model.__class__.__name__, score=score_description))\n",
        "  "
      ],
      "execution_count": null,
      "outputs": [
        {
          "output_type": "stream",
          "text": [
            "RandomForestClassifier    CV-5 RMSE:  2.57 (+/- 4.25)\n"
          ],
          "name": "stdout"
        },
        {
          "output_type": "stream",
          "text": [
            "/usr/local/lib/python3.7/dist-packages/sklearn/svm/_base.py:947: ConvergenceWarning: Liblinear failed to converge, increase the number of iterations.\n",
            "  \"the number of iterations.\", ConvergenceWarning)\n",
            "/usr/local/lib/python3.7/dist-packages/sklearn/svm/_base.py:947: ConvergenceWarning: Liblinear failed to converge, increase the number of iterations.\n",
            "  \"the number of iterations.\", ConvergenceWarning)\n",
            "/usr/local/lib/python3.7/dist-packages/sklearn/svm/_base.py:947: ConvergenceWarning: Liblinear failed to converge, increase the number of iterations.\n",
            "  \"the number of iterations.\", ConvergenceWarning)\n",
            "/usr/local/lib/python3.7/dist-packages/sklearn/svm/_base.py:947: ConvergenceWarning: Liblinear failed to converge, increase the number of iterations.\n",
            "  \"the number of iterations.\", ConvergenceWarning)\n"
          ],
          "name": "stderr"
        },
        {
          "output_type": "stream",
          "text": [
            "LinearSVC                 CV-5 RMSE:  3.51 (+/- 6.79)\n",
            "MultinomialNB             CV-5 RMSE:  2.89 (+/- 4.87)\n"
          ],
          "name": "stdout"
        },
        {
          "output_type": "stream",
          "text": [
            "/usr/local/lib/python3.7/dist-packages/sklearn/linear_model/_logistic.py:940: ConvergenceWarning: lbfgs failed to converge (status=1):\n",
            "STOP: TOTAL NO. of ITERATIONS REACHED LIMIT.\n",
            "\n",
            "Increase the number of iterations (max_iter) or scale the data as shown in:\n",
            "    https://scikit-learn.org/stable/modules/preprocessing.html\n",
            "Please also refer to the documentation for alternative solver options:\n",
            "    https://scikit-learn.org/stable/modules/linear_model.html#logistic-regression\n",
            "  extra_warning_msg=_LOGISTIC_SOLVER_CONVERGENCE_MSG)\n",
            "/usr/local/lib/python3.7/dist-packages/sklearn/linear_model/_logistic.py:940: ConvergenceWarning: lbfgs failed to converge (status=1):\n",
            "STOP: TOTAL NO. of ITERATIONS REACHED LIMIT.\n",
            "\n",
            "Increase the number of iterations (max_iter) or scale the data as shown in:\n",
            "    https://scikit-learn.org/stable/modules/preprocessing.html\n",
            "Please also refer to the documentation for alternative solver options:\n",
            "    https://scikit-learn.org/stable/modules/linear_model.html#logistic-regression\n",
            "  extra_warning_msg=_LOGISTIC_SOLVER_CONVERGENCE_MSG)\n"
          ],
          "name": "stderr"
        },
        {
          "output_type": "stream",
          "text": [
            "LogisticRegression        CV-5 RMSE:  2.82 (+/- 3.71)\n"
          ],
          "name": "stdout"
        },
        {
          "output_type": "stream",
          "text": [
            "/usr/local/lib/python3.7/dist-packages/sklearn/linear_model/_logistic.py:940: ConvergenceWarning: lbfgs failed to converge (status=1):\n",
            "STOP: TOTAL NO. of ITERATIONS REACHED LIMIT.\n",
            "\n",
            "Increase the number of iterations (max_iter) or scale the data as shown in:\n",
            "    https://scikit-learn.org/stable/modules/preprocessing.html\n",
            "Please also refer to the documentation for alternative solver options:\n",
            "    https://scikit-learn.org/stable/modules/linear_model.html#logistic-regression\n",
            "  extra_warning_msg=_LOGISTIC_SOLVER_CONVERGENCE_MSG)\n",
            "/usr/local/lib/python3.7/dist-packages/sklearn/linear_model/_logistic.py:940: ConvergenceWarning: lbfgs failed to converge (status=1):\n",
            "STOP: TOTAL NO. of ITERATIONS REACHED LIMIT.\n",
            "\n",
            "Increase the number of iterations (max_iter) or scale the data as shown in:\n",
            "    https://scikit-learn.org/stable/modules/preprocessing.html\n",
            "Please also refer to the documentation for alternative solver options:\n",
            "    https://scikit-learn.org/stable/modules/linear_model.html#logistic-regression\n",
            "  extra_warning_msg=_LOGISTIC_SOLVER_CONVERGENCE_MSG)\n"
          ],
          "name": "stderr"
        }
      ]
    },
    {
      "cell_type": "markdown",
      "metadata": {
        "id": "ZXuVnQIxlaSt"
      },
      "source": [
        "#Creating Pseudolabel model"
      ]
    },
    {
      "cell_type": "code",
      "metadata": {
        "id": "LDLwtgIgLyfr"
      },
      "source": [
        "from sklearn.utils import shuffle\n",
        "from sklearn.base import BaseEstimator, RegressorMixin\n",
        "\n",
        "\n",
        "#Sci-kit learn wrapper for creating pseudo-lebeled estimators.\n",
        "#\n",
        "class PseudoLabeler(BaseEstimator, RegressorMixin):\n",
        "\n",
        "  #sample_rate - percent of samples used as pseudo-labelled data from the unlabelled dataset\n",
        "  def __init__(self, model, unlabled_data, features, target, sample_rate=0.2, seed=42):    \n",
        "    assert sample_rate <= 1.0, 'Sample_rate should be between 0.0 and 1.0.'\n",
        "    self.sample_rate = sample_rate\n",
        "    self.seed = seed\n",
        "    self.model = model\n",
        "    self.model.seed = seed\n",
        "    self.unlabled_data = unlabled_data\n",
        "    self.features = features\n",
        "    self.target = target\n",
        "\n",
        "  def get_params(self, deep=True):\n",
        "    return {\n",
        "        \"sample_rate\": self.sample_rate,\n",
        "        \"seed\": self.seed,\n",
        "        \"model\": self.model,\n",
        "        \"unlabled_data\": self.unlabled_data,\n",
        "        \"features\": self.features,\n",
        "        \"target\": self.target}\n",
        "\n",
        "  def set_params(self, **parameters):\n",
        "    for parameter, value in parameters.items():\n",
        "      setattr(self, parameter, value)\n",
        "      return self\n",
        "\n",
        "#Fit the data using pseudo labeling.\n",
        "  def fit(self, X, y): \n",
        "    augemented_train = self.__create_augmented_train(X, y)\n",
        "    self.model.fit(\n",
        "        augemented_train[self.features], augemented_train[self.target])\n",
        "    return self\n",
        "#Create and return the augmented_train set that consists of pseudo-labeled and labeled data.\n",
        "  def __create_augmented_train(self, X, y):   \n",
        "    num_of_samples = int(len(self.unlabled_data) * self.sample_rate)\n",
        "\n",
        "# Train the model and create the pseudo-labels\n",
        "    self.model.fit(X, y)\n",
        "    pseudo_labels = self.model.predict(self.unlabled_data[self.features])\n",
        "\n",
        "# Add the pseudo-labels to the test set\n",
        "    pseudo_data = self.unlabled_data.copy(deep=True)\n",
        "    pseudo_data[self.target] = pseudo_labels\n",
        "    \n",
        "# Take a subset of the test set with pseudo-labels and append in onto\n",
        " # the training set\n",
        "    sampled_pseudo_data = pseudo_data.sample(n=num_of_samples)\n",
        "    temp_train = pd.concat([X, y], axis=1)\n",
        "    augemented_train = pd.concat([sampled_pseudo_data, temp_train])\n",
        "    return shuffle(augemented_train)\n",
        "\n",
        "#Returns the predicted values.\n",
        "  def predict(self, X):\n",
        "    return self.model.predict(X)\n",
        "\n",
        "  def get_model_name(self):\n",
        "    return self.model.__class__.__name__\n",
        "\n",
        "\n"
      ],
      "execution_count": null,
      "outputs": []
    },
    {
      "cell_type": "markdown",
      "metadata": {
        "id": "2RpPtJq5iIzY"
      },
      "source": [
        "#Comparing Random Forest classifier with Pseudo label model"
      ]
    },
    {
      "cell_type": "code",
      "metadata": {
        "colab": {
          "base_uri": "https://localhost:8080/"
        },
        "id": "XsMSUo1chYYC",
        "outputId": "b69fceb5-636a-4dd6-cc44-23dde229e624"
      },
      "source": [
        "model_factory = [\n",
        "RandomForestClassifier(n_estimators=200, max_depth=3, random_state=0),\n",
        " PseudoLabeler(\n",
        " RandomForestClassifier(n_estimators=200, max_depth=3, random_state=0),\n",
        " test,\n",
        " features,\n",
        " target,\n",
        " sample_rate=0.3\n",
        " ),\n",
        "]\n",
        "\n",
        "for model in model_factory:\n",
        "  model.seed = 42\n",
        "  num_folds = 8\n",
        "  scores = cross_val_score(model, X_train, y_train, cv=num_folds, scoring='neg_mean_squared_error', n_jobs=8)\n",
        "  score_description = \"MSE: %0.4f (+/- %0.4f)\" % (np.sqrt(scores.mean()*-1), scores.std() * 2)\n",
        "  print('{model:25} CV-{num_folds} {score_cv}'.format(\n",
        " model=model.__class__.__name__,\n",
        " num_folds=num_folds,\n",
        " score_cv=score_description\n",
        " ))"
      ],
      "execution_count": null,
      "outputs": [
        {
          "output_type": "stream",
          "text": [
            "RandomForestClassifier    CV-8 MSE: 2.9338 (+/- 6.5932)\n",
            "PseudoLabeler             CV-8 MSE: 2.8412 (+/- 5.8090)\n"
          ],
          "name": "stdout"
        }
      ]
    },
    {
      "cell_type": "markdown",
      "metadata": {
        "id": "MXVkRhF0iTvZ"
      },
      "source": [
        "#Comparing Linear SVC classifier with Pseudo label model"
      ]
    },
    {
      "cell_type": "code",
      "metadata": {
        "colab": {
          "base_uri": "https://localhost:8080/"
        },
        "id": "Ta7gYzBuhYp4",
        "outputId": "119d5977-9ecb-4353-dd9c-a0f3a5658a37"
      },
      "source": [
        "model_factory = [\n",
        "LinearSVC(),\n",
        " PseudoLabeler(\n",
        " LinearSVC(),\n",
        " test,\n",
        " features,\n",
        " target,\n",
        " sample_rate=0.3\n",
        " ),\n",
        "]\n",
        "\n",
        "for model in model_factory:\n",
        "  model.seed = 42\n",
        "  num_folds = 8\n",
        "  scores = cross_val_score(model, X_train, y_train, cv=num_folds, scoring='neg_mean_squared_error', n_jobs=8)\n",
        "  score_description = \"MSE: %0.4f (+/- %0.4f)\" % (np.sqrt(scores.mean()*-1), scores.std() * 2)\n",
        "  print('{model:25} CV-{num_folds} {score_cv}'.format(\n",
        " model=model.__class__.__name__,\n",
        " num_folds=num_folds,\n",
        " score_cv=score_description\n",
        " ))"
      ],
      "execution_count": null,
      "outputs": [
        {
          "output_type": "stream",
          "text": [
            "LinearSVC                 CV-8 MSE: 3.0458 (+/- 5.0020)\n",
            "PseudoLabeler             CV-8 MSE: 3.2041 (+/- 5.3727)\n"
          ],
          "name": "stdout"
        }
      ]
    },
    {
      "cell_type": "markdown",
      "metadata": {
        "id": "oVSSJNPgiWzh"
      },
      "source": [
        "#Comparing Mutlinomial NB classifier with Pseudo label model"
      ]
    },
    {
      "cell_type": "code",
      "metadata": {
        "colab": {
          "base_uri": "https://localhost:8080/"
        },
        "id": "Q2Meks1yhY3b",
        "outputId": "ce96f18e-38d0-468c-8fa0-8db8b183ad93"
      },
      "source": [
        "model_factory = [\n",
        "MultinomialNB(),\n",
        " PseudoLabeler(\n",
        " MultinomialNB(),\n",
        " test,\n",
        " features,\n",
        " target,\n",
        " sample_rate=0.3\n",
        " ),\n",
        "]\n",
        "\n",
        "for model in model_factory:\n",
        "  model.seed = 42\n",
        "  num_folds = 8\n",
        "  scores = cross_val_score(model, X_train, y_train, cv=num_folds, scoring='neg_mean_squared_error', n_jobs=8)\n",
        "  score_description = \"MSE: %0.4f (+/- %0.4f)\" % (np.sqrt(scores.mean()*-1), scores.std() * 2)\n",
        "  print('{model:25} CV-{num_folds} {score_cv}'.format(\n",
        " model=model.__class__.__name__,\n",
        " num_folds=num_folds,\n",
        " score_cv=score_description\n",
        " ))"
      ],
      "execution_count": null,
      "outputs": [
        {
          "output_type": "stream",
          "text": [
            "MultinomialNB             CV-8 MSE: 2.9483 (+/- 6.7870)\n",
            "PseudoLabeler             CV-8 MSE: 2.9649 (+/- 6.0384)\n"
          ],
          "name": "stdout"
        }
      ]
    },
    {
      "cell_type": "markdown",
      "metadata": {
        "id": "DKCC2PChieFJ"
      },
      "source": [
        "#Comparing Logistic Regression classifier with Pseudo label model"
      ]
    },
    {
      "cell_type": "code",
      "metadata": {
        "id": "r2XmbrQFdsOb",
        "colab": {
          "base_uri": "https://localhost:8080/"
        },
        "outputId": "5df5b9d7-5b4f-4855-cd6a-c77384e2a946"
      },
      "source": [
        "model_factory = [\n",
        "LogisticRegression(),\n",
        " PseudoLabeler(\n",
        " LogisticRegression(),\n",
        " test,\n",
        " features,\n",
        " target,\n",
        " sample_rate=0.3\n",
        " ),\n",
        "]\n",
        "\n",
        "for model in model_factory:\n",
        "  model.seed = 42\n",
        "  num_folds = 8\n",
        "  scores = cross_val_score(model, X_train, y_train, cv=num_folds, scoring='neg_mean_squared_error', n_jobs=8)\n",
        "  score_description = \"MSE: %0.4f (+/- %0.4f)\" % (np.sqrt(scores.mean()*-1), scores.std() * 2)\n",
        "  print('{model:25} CV-{num_folds} {score_cv}'.format(\n",
        " model=model.__class__.__name__,\n",
        " num_folds=num_folds,\n",
        " score_cv=score_description\n",
        " ))"
      ],
      "execution_count": null,
      "outputs": [
        {
          "output_type": "stream",
          "text": [
            "LogisticRegression        CV-8 MSE: 2.9659 (+/- 6.9536)\n",
            "PseudoLabeler             CV-8 MSE: 2.9294 (+/- 5.9966)\n"
          ],
          "name": "stdout"
        }
      ]
    },
    {
      "cell_type": "markdown",
      "metadata": {
        "id": "jlXGjKZmhQ0r"
      },
      "source": [
        "#Result\n",
        "From above analysis, we see that Random Forest classifier has the lowest pseudo label model rmse score. But logistic regression has highest CV score and second lowest pseudo label rmse score. \n",
        "\n",
        "![pseudolabelscore.JPG](data:image/jpeg;base64,/9j/4AAQSkZJRgABAQEAeAB4AAD/4RD4RXhpZgAATU0AKgAAAAgABAE7AAIAAAAPAAAISodpAAQAAAABAAAIWpydAAEAAAAeAAAQ0uocAAcAAAgMAAAAPgAAAAAc6gAAAAgAAAAAAAAAAAAAAAAAAAAAAAAAAAAAAAAAAAAAAAAAAAAAAAAAAAAAAAAAAAAAAAAAAAAAAAAAAAAAAAAAAAAAAAAAAAAAAAAAAAAAAAAAAAAAAAAAAAAAAAAAAAAAAAAAAAAAAAAAAAAAAAAAAAAAAAAAAAAAAAAAAAAAAAAAAAAAAAAAAAAAAAAAAAAAAAAAAAAAAAAAAAAAAAAAAAAAAAAAAAAAAAAAAAAAAAAAAAAAAAAAAAAAAAAAAAAAAAAAAAAAAAAAAAAAAAAAAAAAAAAAAAAAAAAAAAAAAAAAAAAAAAAAAAAAAAAAAAAAAAAAAAAAAAAAAAAAAAAAAAAAAAAAAAAAAAAAAAAAAAAAAAAAAAAAAAAAAAAAAAAAAAAAAAAAAAAAAAAAAAAAAAAAAAAAAAAAAAAAAAAAAAAAAAAAAAAAAAAAAAAAAAAAAAAAAAAAAAAAAAAAAAAAAAAAAAAAAAAAAAAAAAAAAAAAAAAAAAAAAAAAAAAAAAAAAAAAAAAAAAAAAAAAAAAAAAAAAAAAAAAAAAAAAAAAAAAAAAAAAAAAAAAAAAAAAAAAAAAAAAAAAAAAAAAAAAAAAAAAAAAAAAAAAAAAAAAAAAAAAAAAAAAAAAAAAAAAAAAAAAAAAAAAAAAAAAAAAAAAAAAAAAAAAAAAAAAAAAAAAAAAAAAAAAAAAAAAAAAAAAAAAAAAAAAAAAAAAAAAAAAAAAAAAAAAAAAAAAAAAAAAAAAAAAAAAAAAAAAAAAAAAAAAAAAAAAAAAAAAAAAAAAAAAAAAAAAAAAAAAAAAAAAAAAAAAAAAAAAAAAAAAAAAAAAAAAAAAAAAAAAAAAAAAAAAAAAAAAAAAAAAAAAAAAAAAAAAAAAAAAAAAAAAAAAAAAAAAAAAAAAAAAAAAAAAAAAAAAAAAAAAAAAAAAAAAAAAAAAAAAAAAAAAAAAAAAAAAAAAAAAAAAAAAAAAAAAAAAAAAAAAAAAAAAAAAAAAAAAAAAAAAAAAAAAAAAAAAAAAAAAAAAAAAAAAAAAAAAAAAAAAAAAAAAAAAAAAAAAAAAAAAAAAAAAAAAAAAAAAAAAAAAAAAAAAAAAAAAAAAAAAAAAAAAAAAAAAAAAAAAAAAAAAAAAAAAAAAAAAAAAAAAAAAAAAAAAAAAAAAAAAAAAAAAAAAAAAAAAAAAAAAAAAAAAAAAAAAAAAAAAAAAAAAAAAAAAAAAAAAAAAAAAAAAAAAAAAAAAAAAAAAAAAAAAAAAAAAAAAAAAAAAAAAAAAAAAAAAAAAAAAAAAAAAAAAAAAAAAAAAAAAAAAAAAAAAAAAAAAAAAAAAAAAAAAAAAAAAAAAAAAAAAAAAAAAAAAAAAAAAAAAAAAAAAAAAAAAAAAAAAAAAAAAAAAAAAAAAAAAAAAAAAAAAAAAAAAAAAAAAAAAAAAAAAAAAAAAAAAAAAAAAAAAAAAAAAAAAAAAAAAAAAAAAAAAAAAAAAAAAAAAAAAAAAAAAAAAAAAAAAAAAAAAAAAAAAAAAAAAAAAAAAAAAAAAAAAAAAAAAAAAAAAAAAAAAAAAAAAAAAAAAAAAAAAAAAAAAAAAAAAAAAAAAAAAAAAAAAAAAAAAAAAAAAAAAAAAAAAAAAAAAAAAAAAAAAAAAAAAAAAAAAAAAAAAAAAAAAAAAAAAAAAAAAAAAAAAAAAAAAAAAAAAAAAAAAAAAAAAAAAAAAAAAAAAAAAAAAAAAAAAAAAAAAAAAAAAAAAAAAAAAAAAAAAAAAAAAAAAAAAAAAAAAAAAAAAAAAAAAAAAAAAAAAAAAAAAAAAAAAAAAAAAAAAAAAAAAAAAAAAAAAAAAAAAAAAAAAAAAAAAAAAAAAAAAAAAAAAAAAAAAAAAAAAAAAAAAAAAAAAAAAAAAAAAAAAAAAAAAAAAAAAAAAAAAAAAAAAAAAAAAAAAAAAAAAAAAAAAAAAAAAAAAAAAAAAAAAAAAAAAAAAAAAAAAAAAAAAAAAAAAAAAAAAAAAAAAAAAAAAAAAAAAAAAAAAAAAAAAAAAAAAAAAAAAAAAAAAAAAAAAAAAAAAAAAAAAAAAAAAAAAAAAAAAAAAAAAAAAAAAAAAAAAAAAAAAAAAAAAAAAAAAAAAAAAAAAAAAAAAAAAAAAAAAAAAAAAAAAAAAAAAAAAAAAAAAAAAAAAAAAAAAAAAAAAAAAAAAAAAAAAAAAAAAAAAAAAAAAAAAAAAAAAAAAAAAAAAAAAAAAAAAAAAAAAAAAAAAAAAAAAAAAAAAAAAAAAAAAAAAAAAAAAAAAAAAAAAAAAAAAAAAAAAAAAAAAAAAAAAAAAAAAAAAAAAAAAAAAAAAAAAAAAAAAAAAAAAAAAAAAAAAAAAAAAAAAAAAAAAAAAAAAAAAAAAAAAAAAAAAAAAAAAAAAAAAAAAAAAAAAAAAAAAAAAAAAAAAAAAAAAAAAAAAAAAAAAAAAAAAAAAAAAAAAAAAAAAAAAAAAAAAAAAAAAAAAAAAAAAAAAAAAAAAAAAAAAAAAAAAAAAAAAAAAAAAAAAAAAAAAAAAAAAAAAAAAAAAAAAAAAAAAAAAAAAAAAAAAAAAAAAAAAAAAAAAAAAAAAAAAAAAAAAAAAAAAAAAAAAAAAAAAAAAAAAAAAAAAAAAAAAAAAAAAAAAAAAAAAAAAAAAAAAAAAAAAAAAAAAAAAAAAAAAAAAAAAAAAAAAAAAAAAAAAAAAAAAAAAAAAAAAAAAAAAAAAAAAAAAAAAAAAAAAAAAAAAAAFJvb2hpYSBTaGFoemFkAAAABZADAAIAAAAUAAAQqJAEAAIAAAAUAAAQvJKRAAIAAAADMTQAAJKSAAIAAAADMTQAAOocAAcAAAgMAAAInAAAAAAc6gAAAAgAAAAAAAAAAAAAAAAAAAAAAAAAAAAAAAAAAAAAAAAAAAAAAAAAAAAAAAAAAAAAAAAAAAAAAAAAAAAAAAAAAAAAAAAAAAAAAAAAAAAAAAAAAAAAAAAAAAAAAAAAAAAAAAAAAAAAAAAAAAAAAAAAAAAAAAAAAAAAAAAAAAAAAAAAAAAAAAAAAAAAAAAAAAAAAAAAAAAAAAAAAAAAAAAAAAAAAAAAAAAAAAAAAAAAAAAAAAAAAAAAAAAAAAAAAAAAAAAAAAAAAAAAAAAAAAAAAAAAAAAAAAAAAAAAAAAAAAAAAAAAAAAAAAAAAAAAAAAAAAAAAAAAAAAAAAAAAAAAAAAAAAAAAAAAAAAAAAAAAAAAAAAAAAAAAAAAAAAAAAAAAAAAAAAAAAAAAAAAAAAAAAAAAAAAAAAAAAAAAAAAAAAAAAAAAAAAAAAAAAAAAAAAAAAAAAAAAAAAAAAAAAAAAAAAAAAAAAAAAAAAAAAAAAAAAAAAAAAAAAAAAAAAAAAAAAAAAAAAAAAAAAAAAAAAAAAAAAAAAAAAAAAAAAAAAAAAAAAAAAAAAAAAAAAAAAAAAAAAAAAAAAAAAAAAAAAAAAAAAAAAAAAAAAAAAAAAAAAAAAAAAAAAAAAAAAAAAAAAAAAAAAAAAAAAAAAAAAAAAAAAAAAAAAAAAAAAAAAAAAAAAAAAAAAAAAAAAAAAAAAAAAAAAAAAAAAAAAAAAAAAAAAAAAAAAAAAAAAAAAAAAAAAAAAAAAAAAAAAAAAAAAAAAAAAAAAAAAAAAAAAAAAAAAAAAAAAAAAAAAAAAAAAAAAAAAAAAAAAAAAAAAAAAAAAAAAAAAAAAAAAAAAAAAAAAAAAAAAAAAAAAAAAAAAAAAAAAAAAAAAAAAAAAAAAAAAAAAAAAAAAAAAAAAAAAAAAAAAAAAAAAAAAAAAAAAAAAAAAAAAAAAAAAAAAAAAAAAAAAAAAAAAAAAAAAAAAAAAAAAAAAAAAAAAAAAAAAAAAAAAAAAAAAAAAAAAAAAAAAAAAAAAAAAAAAAAAAAAAAAAAAAAAAAAAAAAAAAAAAAAAAAAAAAAAAAAAAAAAAAAAAAAAAAAAAAAAAAAAAAAAAAAAAAAAAAAAAAAAAAAAAAAAAAAAAAAAAAAAAAAAAAAAAAAAAAAAAAAAAAAAAAAAAAAAAAAAAAAAAAAAAAAAAAAAAAAAAAAAAAAAAAAAAAAAAAAAAAAAAAAAAAAAAAAAAAAAAAAAAAAAAAAAAAAAAAAAAAAAAAAAAAAAAAAAAAAAAAAAAAAAAAAAAAAAAAAAAAAAAAAAAAAAAAAAAAAAAAAAAAAAAAAAAAAAAAAAAAAAAAAAAAAAAAAAAAAAAAAAAAAAAAAAAAAAAAAAAAAAAAAAAAAAAAAAAAAAAAAAAAAAAAAAAAAAAAAAAAAAAAAAAAAAAAAAAAAAAAAAAAAAAAAAAAAAAAAAAAAAAAAAAAAAAAAAAAAAAAAAAAAAAAAAAAAAAAAAAAAAAAAAAAAAAAAAAAAAAAAAAAAAAAAAAAAAAAAAAAAAAAAAAAAAAAAAAAAAAAAAAAAAAAAAAAAAAAAAAAAAAAAAAAAAAAAAAAAAAAAAAAAAAAAAAAAAAAAAAAAAAAAAAAAAAAAAAAAAAAAAAAAAAAAAAAAAAAAAAAAAAAAAAAAAAAAAAAAAAAAAAAAAAAAAAAAAAAAAAAAAAAAAAAAAAAAAAAAAAAAAAAAAAAAAAAAAAAAAAAAAAAAAAAAAAAAAAAAAAAAAAAAAAAAAAAAAAAAAAAAAAAAAAAAAAAAAAAAAAAAAAAAAAAAAAAAAAAAAAAAAAAAAAAAAAAAAAAAAAAAAAAAAAAAAAAAAAAAAAAAAAAAAAAAAAAAAAAAAAAAAAAAAAAAAAAAAAAAAAAAAAAAAAAAAAAAAAAAAAAAAAAAAAAAAAAAAAAAAAAAAAAAAAAAAAAAAAAAAAAAAAAAAAAAAAAAAAAAAAAAAAAAAAAAAAAAAAAAAAAAAAAAAAAAAAAAAAAAAAAAAAAAAAAAAAAAAAAAAAAAAAAAAAAAAAAAAAAAAAAAAAAAAAAAAAAAAAAAAAAAAAAAAAAAAAAAAAAAAAAAAAAAAAAAAAAAAAAAAAAAAAAAAAAAAAAAAAAAAAAAAAAAAAAAAAAAAAAAAAAAAAAAAAAAAAAAAAAAAAAAAAAAAAAAAAAAAAAAAAAAAAAAAAAAAAAAAAAAAAAAAAAAAAAAAAAAAAAAAAAAAAAAAAAAAAAAAAAAAAAAAAAAAAAAAAAAAAAAAAAAAAAAAAAAAAAAAAAAAAAAAAAAAAAAAAAAAAAAAAAAAAAAAAAAAAAAAAAAAAAAAAAAAAAAAAAAAAAAAAAAAAAAAAAAAAAAAAAAAAAAAAAAAAAAAAAAAAAAAAAAAAAAAAAAAAAAAAAAAAAAAAAAAAAAAAAAAAAAAAAAAAAAAAAAAAAAAAAAAAAAAAAAAAAAAAAAAAAAAAAAAAAAAAAAAAAAAAAAAAAAAAAAAAAAAAAAAAAAAAAAAAAAAAAAAAAAAAAAAAAAAAAAAAAAAAAAAAAAAAAAAAAAAAAAAAAAAAAAAAAAAAAAAAAAAAAAAAAAAAAAAAAAAAAAAAAAAAAAAAAAAAAAAAAAAAAAAAAAAAAAAAAAAAAAAAAAAAAAAAAAAAAAAAAAAAAAAAAAAAAAAAAAAAAAAAAAAAAAAAAAAAAAAAAAAAAAAAAAAAAAAAAAAAAAAAAAAAAAAAAAAADIwMjE6MDQ6MjYgMTU6MjU6NDEAMjAyMTowNDoyNiAxNToyNTo0MQAAAFIAbwBvAGgAaQBhACAAUwBoAGEAaAB6AGEAZAAAAP/hCyFodHRwOi8vbnMuYWRvYmUuY29tL3hhcC8xLjAvADw/eHBhY2tldCBiZWdpbj0n77u/JyBpZD0nVzVNME1wQ2VoaUh6cmVTek5UY3prYzlkJz8+DQo8eDp4bXBtZXRhIHhtbG5zOng9ImFkb2JlOm5zOm1ldGEvIj48cmRmOlJERiB4bWxuczpyZGY9Imh0dHA6Ly93d3cudzMub3JnLzE5OTkvMDIvMjItcmRmLXN5bnRheC1ucyMiPjxyZGY6RGVzY3JpcHRpb24gcmRmOmFib3V0PSJ1dWlkOmZhZjViZGQ1LWJhM2QtMTFkYS1hZDMxLWQzM2Q3NTE4MmYxYiIgeG1sbnM6ZGM9Imh0dHA6Ly9wdXJsLm9yZy9kYy9lbGVtZW50cy8xLjEvIi8+PHJkZjpEZXNjcmlwdGlvbiByZGY6YWJvdXQ9InV1aWQ6ZmFmNWJkZDUtYmEzZC0xMWRhLWFkMzEtZDMzZDc1MTgyZjFiIiB4bWxuczp4bXA9Imh0dHA6Ly9ucy5hZG9iZS5jb20veGFwLzEuMC8iPjx4bXA6Q3JlYXRlRGF0ZT4yMDIxLTA0LTI2VDE1OjI1OjQxLjEzOTwveG1wOkNyZWF0ZURhdGU+PC9yZGY6RGVzY3JpcHRpb24+PHJkZjpEZXNjcmlwdGlvbiByZGY6YWJvdXQ9InV1aWQ6ZmFmNWJkZDUtYmEzZC0xMWRhLWFkMzEtZDMzZDc1MTgyZjFiIiB4bWxuczpkYz0iaHR0cDovL3B1cmwub3JnL2RjL2VsZW1lbnRzLzEuMS8iPjxkYzpjcmVhdG9yPjxyZGY6U2VxIHhtbG5zOnJkZj0iaHR0cDovL3d3dy53My5vcmcvMTk5OS8wMi8yMi1yZGYtc3ludGF4LW5zIyI+PHJkZjpsaT5Sb29oaWEgU2hhaHphZDwvcmRmOmxpPjwvcmRmOlNlcT4NCgkJCTwvZGM6Y3JlYXRvcj48L3JkZjpEZXNjcmlwdGlvbj48L3JkZjpSREY+PC94OnhtcG1ldGE+DQogICAgICAgICAgICAgICAgICAgICAgICAgICAgICAgICAgICAgICAgICAgICAgICAgICAgICAgICAgICAgICAgICAgICAgICAgICAgICAgICAgICAgICAgICAgICAgICAgICAgCiAgICAgICAgICAgICAgICAgICAgICAgICAgICAgICAgICAgICAgICAgICAgICAgICAgICAgICAgICAgICAgICAgICAgICAgICAgICAgICAgICAgICAgICAgICAgICAgICAgICAKICAgICAgICAgICAgICAgICAgICAgICAgICAgICAgICAgICAgICAgICAgICAgICAgICAgICAgICAgICAgICAgICAgICAgICAgICAgICAgICAgICAgICAgICAgICAgICAgICAgIAogICAgICAgICAgICAgICAgICAgICAgICAgICAgICAgICAgICAgICAgICAgICAgICAgICAgICAgICAgICAgICAgICAgICAgICAgICAgICAgICAgICAgICAgICAgICAgICAgICAgCiAgICAgICAgICAgICAgICAgICAgICAgICAgICAgICAgICAgICAgICAgICAgICAgICAgICAgICAgICAgICAgICAgICAgICAgICAgICAgICAgICAgICAgICAgICAgICAgICAgICAKICAgICAgICAgICAgICAgICAgICAgICAgICAgICAgICAgICAgICAgICAgICAgICAgICAgICAgICAgICAgICAgICAgICAgICAgICAgICAgICAgICAgICAgICAgICAgICAgICAgIAogICAgICAgICAgICAgICAgICAgICAgICAgICAgICAgICAgICAgICAgICAgICAgICAgICAgICAgICAgICAgICAgICAgICAgICAgICAgICAgICAgICAgICAgICAgICAgICAgICAgCiAgICAgICAgICAgICAgICAgICAgICAgICAgICAgICAgICAgICAgICAgICAgICAgICAgICAgICAgICAgICAgICAgICAgICAgICAgICAgICAgICAgICAgICAgICAgICAgICAgICAKICAgICAgICAgICAgICAgICAgICAgICAgICAgICAgICAgICAgICAgICAgICAgICAgICAgICAgICAgICAgICAgICAgICAgICAgICAgICAgICAgICAgICAgICAgICAgICAgICAgIAogICAgICAgICAgICAgICAgICAgICAgICAgICAgICAgICAgICAgICAgICAgICAgICAgICAgICAgICAgICAgICAgICAgICAgICAgICAgICAgICAgICAgICAgICAgICAgICAgICAgCiAgICAgICAgICAgICAgICAgICAgICAgICAgICAgICAgICAgICAgICAgICAgICAgICAgICAgICAgICAgICAgICAgICAgICAgICAgICAgICAgICAgICAgICAgICAgICAgICAgICAKICAgICAgICAgICAgICAgICAgICAgICAgICAgICAgICAgICAgICAgICAgICAgICAgICAgICAgICAgICAgICAgICAgICAgICAgICAgICAgICAgICAgICAgICAgICAgICAgICAgIAogICAgICAgICAgICAgICAgICAgICAgICAgICAgICAgICAgICAgICAgICAgICAgICAgICAgICAgICAgICAgICAgICAgICAgICAgICAgICAgICAgICAgICAgICAgICAgICAgICAgCiAgICAgICAgICAgICAgICAgICAgICAgICAgICAgICAgICAgICAgICAgICAgICAgICAgICAgICAgICAgICAgICAgICAgICAgICAgICAgICAgICAgICAgICAgICAgICAgICAgICAKICAgICAgICAgICAgICAgICAgICAgICAgICAgICAgICAgICAgICAgICAgICAgICAgICAgICAgICAgICAgICAgICAgICAgICAgICAgICAgICAgICAgICAgICAgICAgICAgICAgIAogICAgICAgICAgICAgICAgICAgICAgICAgICAgICAgICAgICAgICAgICAgICAgICAgICAgICAgICAgICAgICAgICAgICAgICAgICAgICAgICAgICAgICAgICAgICAgICAgICAgCiAgICAgICAgICAgICAgICAgICAgICAgICAgICAgICAgICAgICAgICAgICAgICAgICAgICAgICAgICAgICAgICAgICAgICAgICAgICAgICAgICAgICAgICAgICAgICAgICAgICAKICAgICAgICAgICAgICAgICAgICAgICAgICAgICAgICAgICAgICAgICAgICAgICAgICAgICAgICAgICAgICAgICAgICAgICAgICAgICAgICAgICAgICAgICAgICAgICAgICAgIAogICAgICAgICAgICAgICAgICAgICAgICAgICAgICAgICAgICAgICAgICAgICAgICAgICAgICAgICAgICAgICAgICAgICAgICAgICAgICAgICAgICAgICAgICAgICAgICAgICAgCiAgICAgICAgICAgICAgICAgICAgICAgICAgICAgICAgICAgICAgICAgICAgICAgICAgICAgICAgICAgICAgICAgICAgICAgICAgICAgICAgICAgICAgICAgICAgICAgICAgICAKICAgICAgICAgICAgICAgICAgICAgICAgICAgIDw/eHBhY2tldCBlbmQ9J3cnPz7/2wBDAAcFBQYFBAcGBQYIBwcIChELCgkJChUPEAwRGBUaGRgVGBcbHichGx0lHRcYIi4iJSgpKywrGiAvMy8qMicqKyr/2wBDAQcICAoJChQLCxQqHBgcKioqKioqKioqKioqKioqKioqKioqKioqKioqKioqKioqKioqKioqKioqKioqKioqKir/wAARCACHAZsDASIAAhEBAxEB/8QAHwAAAQUBAQEBAQEAAAAAAAAAAAECAwQFBgcICQoL/8QAtRAAAgEDAwIEAwUFBAQAAAF9AQIDAAQRBRIhMUEGE1FhByJxFDKBkaEII0KxwRVS0fAkM2JyggkKFhcYGRolJicoKSo0NTY3ODk6Q0RFRkdISUpTVFVWV1hZWmNkZWZnaGlqc3R1dnd4eXqDhIWGh4iJipKTlJWWl5iZmqKjpKWmp6ipqrKztLW2t7i5usLDxMXGx8jJytLT1NXW19jZ2uHi4+Tl5ufo6erx8vP09fb3+Pn6/8QAHwEAAwEBAQEBAQEBAQAAAAAAAAECAwQFBgcICQoL/8QAtREAAgECBAQDBAcFBAQAAQJ3AAECAxEEBSExBhJBUQdhcRMiMoEIFEKRobHBCSMzUvAVYnLRChYkNOEl8RcYGRomJygpKjU2Nzg5OkNERUZHSElKU1RVVldYWVpjZGVmZ2hpanN0dXZ3eHl6goOEhYaHiImKkpOUlZaXmJmaoqOkpaanqKmqsrO0tba3uLm6wsPExcbHyMnK0tPU1dbX2Nna4uPk5ebn6Onq8vP09fb3+Pn6/9oADAMBAAIRAxEAPwD6AsLCzfTbZntIGZoUJJjBJOBVj+zrH/nzt/8Av0v+FGnf8gu0/wCuKf8AoIqzQBW/s6x/587f/v0v+FH9nWP/AD52/wD36X/CrNFAFb+zrH/nzt/+/S/4Uf2dY/8APnb/APfpf8Ks0UAVv7Osf+fO3/79L/hR/Z1j/wA+dv8A9+l/wqzRQBW/s6x/587f/v0v+FH9nWP/AD52/wD36X/CrNFAFb+zrH/nzt/+/S/4Uf2dY/8APnb/APfpf8Ks0UAVv7Osf+fO3/79L/hR/Z1j/wA+dv8A9+l/wqzRQBW/s6x/587f/v0v+FH9nWP/AD52/wD36X/CrNFAFb+zrH/nzt/+/S/4Uf2dY/8APnb/APfpf8Ks0UActeW0C/EnRrVYYxbyaTfyPEEGxmWazCsR0JAdgD23H1NdB/Z1j/z52/8A36X/AArEvv8Akqehf9gXUv8A0fY10lAFb+zrH/nzt/8Av0v+FH9nWP8Az52//fpf8Ks0UAVv7Osf+fO3/wC/S/4Uf2dY/wDPnb/9+l/wqzRQBW/s6x/587f/AL9L/hR/Z1j/AM+dv/36X/CrNFAFb+zrH/nzt/8Av0v+FH9nWP8Az52//fpf8Ks0UAVv7Osf+fO3/wC/S/4Uf2dY/wDPnb/9+l/wqzRQBW/s6x/587f/AL9L/hR/Z1j/AM+dv/36X/CrNFAFb+zrH/nzt/8Av0v+FH9nWP8Az52//fpf8Ks0UAVv7Osf+fO3/wC/S/4Uf2dY/wDPnb/9+l/wqzRQBx+lSWNpfeNLnU1j+yafqSkF494hiFhauwUYOBlmbAHViepqfSPE3hTW76CzsomSe4iM1ut3pU1r56DGShljUPwQflzxzWPf/wDID+KP/Xy//pstaXwx4Z1O+sPDer67q9tPHpliHsbeysGhKM8QXc5aVy5C8AALz27UAdv/AGdY/wDPnb/9+l/wo/s6x/587f8A79L/AIV4l4S8Q+IIbrVrW01CXXtTOmXM0dxZ6lLcxpKrHYs9pON9tNnjau1T028cWvD+q63e+G/ER07V1uWXQ/MdLbV7m/mhu9p+be8SiFzzmJW+UgYUdaAPY/7Osf8Anzt/+/S/4VSE2hnXDo4it/t624uTD9n/AOWZbbuzjHXtnNeXzeLtS1EX0vhPVZtRmj8IJNELeUzIbjeQzAZw0gwc98jBqta35j1vVrvwFqdzrd1H4S32ksty14Wm8xjgO5Ys2eq5ODxgdKAPYrm2020tZbm4tbdIoUMjt5IOFAyTgD0qLTl0jVdNt9QsLe3ltbmNZYpPI27lIyDggEfjXm1lqUc1xcW/hjWbnWdJk0C5k1SSa+e7EFyFXyxucny3IMmYxgcfdGK0vCXjbQo/hRY2+m6zZ3uqWmjB/sFldxPc7kiyQE+YgjHdTjuKAO31FdI0rTbjUL+3t4rW2jaWWTyN21QMk4AJP4VLbW2m3drFc29rbvFMgkRvJAypGQcEeleG6Zrdze6P4ugXXf7TsZ/DP2tUW8mu1hlO4MvmyMdzAEBtgRc/wCtAa3qlvp16fAWo3mpGPwyst0nnvcfZLsbQoVG3CNyu8+WFH3QdpoA9a1aTRdD0q41LVIbeC0t13SyfZ920Zx0UEnr2FW0sLB0V0s7cqwyD5Q6flXiT6jdX/wANvGIj1W11DS0sbfy1g1a41MxTEgvm4ljUcjaTGCdp7DNe5Wn/AB5Qf9c1/lQBH/Z1j/z52/8A36X/AAo/s6x/587f/v0v+FWaKAOW8fW0Fn8NvEt1ZwxwXEOk3UkUsSBXjYQsQykcggjIIroP7Osf+fO3/wC/S/4VifEf/klniv8A7At5/wCiHrpKAK2nf8gu0/64p/6CKs1W07/kF2n/AFxT/wBBFWaACiiigAooooAKKKKACiiigAooooAKKKKACiiigAooooA5u+/5KnoX/YF1L/0fY10lc3ff8lT0L/sC6l/6Psa6SgAooooAKKKKACiiigAooooAKKKKACiiigAooooAKKKKAOb8L/8AIxeM/wDsNR/+m+zrpK8z8RXdxYeEvitdWNxLbXMNwzxTQuUeNhptpghhyD7iuf1mO/gn11Y9e1tfJ8Lxamm3U5htuvmHmD5uAccp9w91oA9sqG7uobGymu7p/LggjaSR8E7VAyTgc9K8s1TWvM1AnxTrt3pcf9iW8+lGG9e1F1cspMhAQgTOG2DyzuGD93ms3XNV1S4SRPHF/d6TK3hZZbOCCd4RcXjK/njy1wJXXCfuyrYBJxQB7JY3tvqWn297ZSeZb3EayxPtI3KwyDg8jj1qCHWrC41260eGfdf2kMc08OxhsRywU5xg52twD2rxfVtX1az0vQLdtQj03T/+Edhks5pdVmsFa6wAceVG5ncDbiEjBB6HNdl4Se5f4ua49+Va6bQtNMxRSoL5myQGAI57EA+woA6nV/F+jaHdm1vZriS4WLznhs7Ka6eKPnDusSMUU4OC2AcHHQ1Lp/inRdV1JLHTr+O5nktFvY/LBKSQscB1fG1uR0BJHeuS03WdP8G+M/FreL9St9NXULqO7sp7yXy0mhEKpsRm4LKytlRk8g45FUfiNrsXh6bQPiDaCf7MkUtnMrwujtHMhaPMbAMD5irwQCM0Aeh6XrNhrKXL6bP5y2tw9tK2xlAkQ4ZRkDOPUZFYcPxJ8MTsmy6vFhkuPsy3UmmXSW5k37NvnNGI/vfL97rUvw90WTQPAemWd1zdtGZ7pv700hLuf++mNeRxTava/DvTf7WuLU+DrjWpV1J4LVlubRBcsysZDIVKFwAx2AgH8aAPZrPxhoV/4k1LQbS/D6npaB7yAxOvlKQCDuICngjoTVfTfH/hjV/DVz4g07VUm0u1kMctx5TqAwxwAVBY8gDAOc8ZrxjxGbvTfG3ivW9Ch827utUXRt6DPy3FpEI2OOoVwD17n1rptJ0XQ4fhx4u0fWrqfTtMh1l4ftdsrFrYqI9kmVB2gEAljwBySOtAHoP/AAn/AIc/sa81Nr2ZLexmWC5SSzmSaF2xtVoSnmAncMfLznir+k+IrLWpZI7ODUo2jUMxvNLubUH6GWNQT7DNeNahrWsXfwu1+x1rxBaa5Z6bfWaWviO0Cqs6GVCcnlCydyMjpnJzXqPhLVNLvLm4i0/x4vimQIGMX2izkMIz1xbxoec/xZ6cUASfEf8A5JZ4r/7At5/6Ieukrm/iP/ySzxX/ANgW8/8ARD10lAHH+IddvNO0/wAN6VpcggvdbnS0S5aMP9nURGR3CngttQgZyMkEggYKaymv+GPCHiG+/wCEkm1LybJ5rR7q0hE0Eiqf4o1VGXgEAx5BzkkcC/qXh5PEGg6WUuDaXti0V1ZXSoH8mULjlT95SCVI4yCcEHBENz4a1vVtC1iw17xDDcHUbZraJbXTxDDbgqQW2l3dmOecyYwBgDkkAzrr4l2GgW+jxa7Bebr2G3DXm2JIzJIF+6rOryYJBPlK23POKvj4gafL4yuPDlpYahdz2kqQ3U9ukbpbs6hlLpv83byBvCFAT14OMC++E09zNdfZ9eihhvEsxPv08STE2+3aqyeYMRkrkpgnPRqua98Mhr3i6DWbi/tUEN3FdJKmnKl7H5eP3aXKMv7s45Do5wTg9MAGpZePtP1DxXcaHZWN/O1tcG2nu4kjeKGQLuw6q5kQHBAdkCk8A1xU3jjXbiHw1a6ZeandDVNdvLS4vYrS0hlCRNLiJVdmTjYPmIyVUnhjiuju/hnFe+OrbxFPdWYe2u/taSw6csN4Tt2+W1wjgPHjjDITjjd3pdN+G39n/wBh/wDE18z+ydWu9S/49seb5/mfJ975dvm9ec46DNABpfjpILWSKVtQ12/n1W6tbW1htoYZSsR+YDMgTag/iZgT6Z4rQHxB06Z9Ij06xv7+bV4pZLeKBIwV8sgOr73UKQSR1xweemcS9+Ettd2yGS6srq5h1K5vohqOmi5t8Tn5keEuNxHGGDDkdO1bGmeBI9M1Lw/dQ3cKjR7aeFoobKOBJmlxlgseFQAjoAevXuQB+keP7DXPEVxpWn6fqEi28728t6qRvCkiDlXCuZI884LooOOCeM9VXBp8M1Pj2DxJPe2he3uZLhJLfTlt7uXeuPLlmRgsqDPePdgDLHknvKACiiigAooooAKKKKACiiigDm77/kqehf8AYF1L/wBH2NY+jXWveNra+1fTfEU2jQxX01rZWsdnDLEywyFC029S7bmVuEePAwOvNbF9/wAlT0L/ALAupf8Ao+xqsvhHV9MlvYfC+vw6Xp99cNcyRSacJ5YHc5kMLlwq7jk/OkmCT24oAqT+KrzQPH+qWOvXiNpp0ddQsx5aptaIkTgHqR9w4JOM1Z8O6nrMvwpXWNWuHbU5rKW8DPGimLcGdFwoA+UbR05xzmovH3w9Pje306NdWewe1ZknlEAka5gdcSRHlQu7A5H5V1N7p6XOi3GnREQpLbtApC52ArtHHtQB5X4Z8ZXt7/wicmn+Nj4jv9RdBqelAWj+RGYyXfEMavHsbHLEjnHUis7R/iT4nWx8ZRanfxyXYuZY9Bdoo1Cf6S1uqEBRuIfYec8EV3Ufw6+yP4Xu9N1T7NqegwLaPdfZ8reW+AHidNwwDgEHJ2n1rPt/hDax6ppN7PqjSvpuqXeobVg2iYTSGRYz8x4RiDnvjoKAMiTxt4jsvgzpGu393dTSm7MeralZWkTSwQLI6tKsZUoMbRklSAM8VY1Pxddr4O8NXmleMJ9SttS1UQPqmnaaj3DwFXIXyfLceYMAHEYPH3R0rqdN8JaroXhSy0rQ/EC29xaTvKZpbESxTqzsxR49wbHzdVdTkenFZa/DKa10yzXTNVtba/g1dtXeU6eTbvKwIKrCsilV5/vk+5zQB0XhOc3FlO/9q63qQ8zG7WNOFm6cdFXyIcjnrg8964zxh4xvtJ+JEekaj4hn8MWE8ER0y6NjHNa3c2794kzsCRxgAKyYySW5Feg6TDrMMcg12/sb1yR5Zs7F7YKO+Q0smfzFYPi/wfqfiu1vdMk1yBNG1CNY57S405ZpIgOphkDrtY9QXV8HkelAFq+8ZwWesS6bbaZqWqSWixm9l0+FXW23/d3KXDtxzhFcgdajv/Hun2F9eRtY6hPZ6e6x3+oxRp5FozAHDAuHOAQTsRgM845qL/hDb+w1m5u/DetrpsN8kK3cclmJ3JiXaGjYsFRiowdyuO+Kr6n8P5r6TV7WDVkg0fXJRLqNq9nvlZsBW8uXeAgYKM5Ru+MZ4ALl14/0yz1HVree2vBb6PGst9fbU8mFGj3g537myOMKpOe2OauaB4rg127ns2sL3TbyGJJzb3qxhnifO2QbHYYJBGCQQRyBWfcfD+0vV8Tw3l07WniGGOF4o02tAqR7OGycnv0H40eC/A0fhKe6nzpRkmjSJRpujxWKhV7sVLM7E8kltvAwo5yAdbRRRQAUUUUAc14YOPEXjMngf2zH/wCm+0qfS/G3h/WdVGnaffNJcurvEHt5Y0nVDhmidlCygHqUJqt4d2/25428wEp/a6bgoJJH9n2nQDk/hXAeBr+60PxTHong/wASxeJvDt1DPKljMmLrRnXJVJD95VLHbtcKQeAOCSAezUV5L4W1Z5/DzXVrr2o3fjY6bPJe6S1y8yR3AHR4DuWAq3CgbN3T5qTRNXDXlkvhvXr7VVl0i4l1oS3slyLacIpQtuJ8iTeXHlrs4B+X5eAD1uivD2vtVs/hh4Iv31O8eDVRFJrF5f63cWyf6n5A1yNzQKWxkqF3HAJyxz6R8Orq/vPBFpPqd7FfOzSeTcRPI4kh3ny/nkRGc7cDft+bGec0AdRRRRQAUUUUAFFFFABRRRQBzfxH/wCSWeK/+wLef+iHrpK5v4j/APJLPFf/AGBbz/0Q9dJQBxV3ofhjTtKh1LX9c1HTIpgpMk3ia8tot7DO1R56qvfCgAAdBTtJ0Dwlr1u8+h+INT1KGN9jyWfiy9mVWxnBK3BAOCOKZ4pe8jtPCDaZBBcXQv4/LiuJzCjH7PJ1cI5HGf4TVSz1a6tb7xZreupb6RqFnZpG9pbubkCNA7JPkrH5gYsQBgY2kEg5wAbv/CB6R/z+eIP/AAo9Q/8Aj9H/AAgekf8AP54g/wDCj1D/AOP1xsPiXxJFb6pZNqOoR3EU+niOTU4rN54hPLscEW48vBUAgHLDPXpjUk1nWbKLUNJl1qaRo9Yt7FNVmhhE0McsaOSQqCMtltqkpj5hkGgDZi8GaDcPKkGpa5K0L+XKqeJr8mNsA7Tifg4IOD6ipf8AhA9I/wCfzxB/4Ueof/H65XTJtRtNSvdIg1qUSX2vvbzaosUXmjbaK2AChjDkoAfkxw2AOMW7PWdc1iTSbBNaktfNkv4Zr23giLziBwqSDcrICepwCOvA4wAb/wDwgekf8/niD/wo9Q/+P1k6rpvgfQbhINc8VXumzOu9I7zxfeQsy9MgNcAkVH4U1nW7nVNCfUdVe7i1XTp5ZbcwRokTxMgDIVUNyGOQxIz0A6VYvYNam+KF7/YOoWFkw0m3803ti9yGHmy4xtmj29+uc+1AFy08HaBf2cV1Y6nrdzbTKHimh8T37pIp6EMJ8Ee4qb/hA9I/5/PEH/hR6h/8fqj4l1DVBqk9nb6w2krY6Wb8zRwxEXDgkFWEgbEY2jIBDfMPmFZs3ibXXbVdTSeRI9P0O3v00yOGPEk0iSlgzMN2BtXABXpyaAOg/wCED0j/AJ/PEH/hR6h/8fo/4QPSP+fzxB/4Ueof/H65qx13xOtlqdvLPcxTNawz2s2sT6fHKGd9u2MQMy7W/gMi/e4JYcCC6n1DVLLS7S91LWLa8sfENukovILRZ8Mu5QxiDRNweCm3ggEZGSAdZ/wgekf8/niD/wAKPUP/AI/R/wAIHpH/AD+eIP8Awo9Q/wDj9dJRQBzf/CB6R/z+eIP/AAo9Q/8Aj9H/AAgekf8AP54g/wDCj1D/AOP10lFAHN/8IHpH/P54g/8ACj1D/wCP0f8ACB6R/wA/niD/AMKPUP8A4/XSUUAed3ngrS1+JOjW4utc2SaTfuSdfvi4KzWYGH87cB8xyAcHgkHaMdB/wgekf8/niD/wo9Q/+P0X3/JU9C/7Aupf+j7GukoA5v8A4QPSP+fzxB/4Ueof/H6P+ED0j/n88Qf+FHqH/wAfrpKKAOb/AOED0j/n88Qf+FHqH/x+j/hA9I/5/PEH/hR6h/8AH66SigDm/wDhA9I/5/PEH/hR6h/8fo/4QPSP+fzxB/4Ueof/AB+ukooA5v8A4QPSP+fzxB/4Ueof/H6P+ED0j/n88Qf+FHqH/wAfrpKKAOb/AOED0j/n88Qf+FHqH/x+j/hA9I/5/PEH/hR6h/8AH66SigDmj4E0dVJa918ADJJ8Sahx/wCR6o6VoHhHXY5X0TxBqeopC2yVrTxZeyhG9DtuDg+xrrL0WpsJxqIiNp5beeJwChTHzbs8Yx1zXP8Ah+KXVPENx4jFv9ksZLRLSyjZdsk0YYt5rD+EHPyqecZJxnAAKlx4d8J2mqW+m3evapBf3QzBay+K71ZZv91DcZbp2FI3h/wkmsrpD6/qa6m6b1sj4rvRMy/3gn2jdjg847VleMbfUNOHiOfT30y5j1A2+WlnYXNtOAqxxrGFIbJClfmUgsSAa0vFwiRbO6s5LBobfVrdr61hjAnmuCyKn7wH5WAIJBUllAGVFAD18P8AhJ9ZbSE1/U21NE3tZDxXemZV/vFPtG7HI5x3pbfw74Tu9UuNNtNe1Se/tRme1i8V3rSw/wC8guMr17imeIlgi1jQruyksZLOLV9r2ttGBM9y4ZWfzAcfKGYsm0E4OW7HI8NnZqHhy7lKPa3V1eCyt4/9dbM3mNIZX/5aDjGAqbSQDvPNAFjw54K0ubXvFiPda4BDq0aKU1++UkfYbVvmImBY5Y8tk4wM4AA6D/hA9I/5/PEH/hR6h/8AH6PC/wDyMXjP/sNR/wDpvs66SgDm/wDhA9I/5/PEH/hR6h/8fo/4QPSP+fzxB/4Ueof/AB+ukooA5v8A4QPSP+fzxB/4Ueof/H6P+ED0j/n88Qf+FHqH/wAfrpKKAOb/AOED0j/n88Qf+FHqH/x+j/hA9I/5/PEH/hR6h/8AH66SigDm/wDhA9I/5/PEH/hR6h/8fqrf+FvDOlwibU9Z1eziZtoe48U30ak+mTOOa66szWL2GyaFktVu9SkDR2kQA3sSMt8x+6vALHpwOpwKmTsrmtGCnNRav/Xfp5voZieBtFljWSO+150YAqy+JNQIIPcHz6r2XhbwzqXm/wBnazq935LbJPI8U3z7G9Difg1ox2f9heBZLa4zcG2s5PMEHy7jtJIX0HOB+FY1hcSaPc+dIg1C4Gjq1utlGTiJWG1GUZLMS33xgHBwq85zdRpq52U8JGpGbg72dl5/0vT5l5PBWhySyRx6hrrPEQJFXxLfkoSMjI8/jiopvCnhq3tJLq41jWIreJiskz+KL5UQg4IJM+Ac8VX8JC3utQ8QWoa+3zPG800lvNbMzGMbiCwUqc9AMEDGOKn0BtO0fw1MZoFMVvqdwttEE3sX81goQHncemfrk9aSqNq/r+BdTBRpycdW1y6WtfmV/wCtDD8aeFdDf4W+ItR03UtXuo10i6kikHiK9nifET9QZirjI5BBB6GvRvIX1k/7+N/jXFeJ7G4s/hB4ykvVSKe806/uXhQ5WLdC3y57nAGT3Oa7mtYttXZwVoxhUcYO6OSTxXoiQWsV5p2sTS2e3Y6+Hb2ZUcLt3I6wkHgkBlOCDwcGkm8VeGri4ae40bWJZnhMDSP4WvmZozyUJMGdp9OlaUmsf2XbaBB5Hm/2hKltu37fL/dM+7oc/cxjjrVy/wBVGn39pDKIVgnWVpZ5blY/KCLuztPLD1x06mqMjmLXWPBljbiCy8NahbwrtxHD4RvUUbWLLwLfsxJHoTmrE/ifwxdQXUNzomrTRXv/AB9RyeFr5ln4A+cGD5uABz2FdBp+u6RqzXC6Vqtlem2OJxbXCSeUfRtpO38aLHXtH1OxmvdN1Wxu7WAkSz29ykkcZAyQzA4GB1zQByw1bwWNJfSh4Zv/AOzpMb7P/hEbzyWxgDKfZ8HGB27CrcXirw1AtuINH1iMWqGO3CeF74eSpABVcQfKMAcD0rYh8U+H7nSzqVvrumy2CuUN1HeRtEGAyV3g4zjnGaTW9fh0jQDqkSrdo5jWEJIAkjSMFQ7+QFywy3PHOD0oAyIfFXhq3aAwaPrERt0ZISnhe+HlK2MhcQcA4GQPSpB4z0FbprldN1wXDoI2lHhm/wB7KCSFJ8jOASePc0t14l1rS9H1K51bw/GtzY2/2kJaXbTQzR5O4CQxKQ4AJ27fTB54vXviOK3vtKt7eNZ0v0ed5fM2iGBE3GToc8lBjj73tQBj6l4i8J6z5H9r6Dql/wDZ38yH7V4UvZfKb+8u63OD7irK+MtAW4kuF0zXBNKoSSQeGb/c6jOAT5GSBk4+pp1h4n1e9a0vW8P7dGvXVYJ47kyXKq33ZJIBHhUPch2IBBIHOOnoA4i01fwXp9ndWlh4Zv7W2vMm5hh8I3iJPkYO9Rb4bj1pItW8FQaSNLh8MX8enCQSizTwjeCHeDkNs+z4zkA5x1FdxRQBzf8Awnmkf8+fiD/wm9Q/+MUf8J5pH/Pn4g/8JzUP/jFdJRQBzf8Awnmkf8+fiD/wnNQ/+MUf8J5pH/Pn4g/8JzUP/jFdJRQBzf8Awnmkf8+fiD/wnNQ/+MUf8J5pH/Pn4g/8JzUP/jFdJRQB53eeNNLb4k6NcC11zZHpN+hB0C+DktNZkYTydxHynJAwOASNwz0H/CeaR/z5+IP/AAnNQ/8AjFF9/wAlT0L/ALAupf8Ao+xrpKAOb/4TzSP+fPxB/wCE5qH/AMYo/wCE80j/AJ8/EH/hOah/8YrpKKAOb/4TzSP+fPxB/wCE5qH/AMYo/wCE80j/AJ8/EH/hOah/8YrpKKAOb/4TzSP+fPxB/wCE5qH/AMYo/wCE80j/AJ8/EH/hOah/8YrpKKAOb/4TzSP+fPxB/wCE5qH/AMYo/wCE80j/AJ8/EH/hOah/8YrpKKAOb/4TzSP+fPxB/wCE5qH/AMYo/wCE80j/AJ8/EH/hOah/8YrpKKAOWuPGeg3ltJb3em65PBKpSSKXwzfsrqeoIMGCPasvT73wHpInGl+ErqyFxGYpvs3g67j81P7rbbcZHsa7qZ2igkeOJpnVSVjQgFz6DJAyfcgViaJr2oXmsXWl61pkNjdwQx3C/Zrs3CGNywAYlEKvlTxgj0Y84AMqbxB4SuNUt9Sn8P6nLf2q7YLp/Cl6ZYhzwrm3yo5PQ96H1/wjLrKavL4f1N9TjXYl63hO9Myr6B/s+4Dk8Z71c1TxdNYa5LbQ6ck9hZvBHf3bXOxoWmOE2R7SHxlS2WXAPG7pVvW/E8Wj61pGmC2e4m1K4ERKNgQLhjvb6lcAd+fQ0AZC6/4RXWm1hfD+pjU2XYb0eE73ziuMY8z7PuxjtmltvEHhKy1O41Gz0DVLe+uv+Pi6i8KXqyzf7zi3y34mtO01rV7/AMQXVvaaXZHS7S4+zy3cl+6zFggYlYhEVIBYDlx0NVdJ8Yz6jrUFvJpkcVlevPHZzpc75WMLEP5kWwBBkHBDN2zgnFAGJ4c8aaXDr3ix3tdcIm1aN1CaBfMQPsNqvzAQkqcqeGwcYOMEE9B/wnmkf8+fiD/wnNQ/+MUeF/8AkYvGf/Yaj/8ATfZ10lAHN/8ACeaR/wA+fiD/AMJzUP8A4xR/wnmkf8+fiD/wnNQ/+MV0lFAHN/8ACeaR/wA+fiD/AMJzUP8A4xR/wnmkf8+fiD/wnNQ/+MV0lFAHN/8ACeaR/wA+fiD/AMJzUP8A4xR/wnmkf8+fiD/wnNQ/+MV0lFAHN/8ACeaR/wA+fiD/AMJzUP8A4xVLUPEfhTVtn9q6Fqt75edn2nwpfSbc9cboDiuxrM1q81W0hT+xNMgvpTkubm8+zxRqB3YI7ZPYBSOuSO6aTVmVGcoPmi7MxbfxX4btEiS00jWIFhUpEsXhe+URqeSBiDgHA4FJZeKPDOmCQabour2glbdJ5Hha+j3n1OIOTW3pms/2t4Zt9YtLOZjcW4mS23KHJIztySF9s5x3rIHi+705tRj8TaXDYy2dib9RZ3ZuVkiBIIJaNCHyOmCOetFkN1JtNNvUcnjXQ45ZJI9P11XlIMjL4avwXIGBk+RzxVa58R+Fby1NteaFqs8BkMpil8K3zKXOSWwYMZ5PPvWtoOvXOozXdrq9jFp99arHK8UVz5yGNwSrbiqnPysCMcEdSOaq6X41ttS03Vb8WV0ILC7NtGsUbSyXPyqVZUUZ+beMe2CSOxZMI1Jxd09Tl/GHiPw7bfC/xNYaRpGqWKzaVdgInhu8t49zQsMsxhCqOmWJAA6mvSfPX0k/79t/hXGeJNY/4SD4E69qv2ZrX7VoN3J5DsGaP9y/BI4z9K7ehJLRClKUnzSd2clr1vfvp3hq803TZ9SNjdRzywW8kSuU8l1yPMdF6sO9VPEVlq/iaC1uIdEurF47a9iaC7lg3gvDtT7kjLgnjrx3xV+2s/GLWsTWeu6HFblAYo5dFmd1XHAZhdKGIHUgDPoOlS/YfG//AEMPh/8A8EM//wAmUyTG1LwjqN5bzWtnElosnhsaesisgCS7s7Mc8Y74I+tUbfQvEh0vXbpbbVXvprSG3hTVX05nk2MSdiQxiLgMdpkJ56qAOen+w+N/+hh8P/8Aghn/APkyj7D43/6GHw//AOCGf/5MoA5nT/DWvzXj3GpWt3KJNYs7wPfzW7TGOOPDFxFiMMpHRc9iCea7fxDDc3GizRWtha6kHwJrK7A2XEX8ac/LkjON3y564HIzvsPjf/oYfD//AIIZ/wD5Mo+w+N/+hh8P/wDghn/+TKAM7wn4faz1K9a00O58PaJNCUbSbi4jdWlLZLxxxyPHEuCRhSMkkleATD4T8LapGupW/iGFYYYbX+ydPZJQ5e1Gf3nH3S25Rg8/IK1/sPjf/oYfD/8A4IZ//kyj7D43/wChh8P/APghn/8AkygCvpFx4mtbSx0V9E8p7QRxTanJNE1rJEmASiq/m7yo4DIoBzyQBnrK5v7D43/6GHw//wCCGf8A+TKPsPjf/oYfD/8A4IZ//kygDpKK5v7D43/6GHw//wCCGf8A+TKPsPjf/oYfD/8A4IZ//kygDpKK5v7D43/6GHw//wCCGf8A+TKPsPjf/oYfD/8A4IZ//kygDpKK5v7D43/6GHw//wCCGf8A+TKPsPjf/oYfD/8A4IZ//kygDpKK5v7D43/6GHw//wCCGf8A+TKPsPjf/oYfD/8A4IZ//kygAvv+Sp6F/wBgXUv/AEfY10led3ln4x/4WToytruhm4Ok35SQaLMEVfOs9wK/askklcHIxg8HII6D7D43/wChh8P/APghn/8AkygDpKK5v7D43/6GHw//AOCGf/5Mo+w+N/8AoYfD/wD4IZ//AJMoA6Siub+w+N/+hh8P/wDghn/+TKPsPjf/AKGHw/8A+CGf/wCTKAOkorm/sPjf/oYfD/8A4IZ//kyj7D43/wChh8P/APghn/8AkygDpKK5v7D43/6GHw//AOCGf/5Mo+w+N/8AoYfD/wD4IZ//AJMoA6Siub+w+N/+hh8P/wDghn/+TKPsPjf/AKGHw/8A+CGf/wCTKAOhmaVYJDboskoUlEdtoY9gTg4Hvg1yOiWd8viS/wBaTw5NosT2xE9oJIC9/cbs+Z+7crkAbQzlWO7kACrv2Hxv/wBDD4f/APBDP/8AJlH2Hxv/ANDD4f8A/BDP/wDJlAGZrOkavNq9/Z2mnyS2esT2sz3gliC2nl7fMV1LbiSEG3aGGTztxmotc8L+J5vElrf2GpadNbtqkVw6S6e3mwRKjKBv88BlGTwFBy5PrnY+w+N/+hh8P/8Aghn/APkyj7D43/6GHw//AOCGf/5MoAxJfC4Pi1LjTfCa6bfHUPtU/iBJom8yPOWTdu80lhhShUIMnBOASvh/QtXtddtGl0t7O5glkbUtYaaNhqiYYIvDGRsFgQJFUJjC1tfYfG//AEMPh/8A8EM//wAmUfYfG/8A0MPh/wD8EM//AMmUAHhf/kYvGf8A2Go//TfZ10led+HLPxide8WCDXdDR11aMTM+izMHb7Da8qBdDaNu0YJPIJzzgdB9h8b/APQw+H//AAQz/wDyZQB0lFc39h8b/wDQw+H/APwQz/8AyZR9h8b/APQw+H//AAQz/wDyZQB0lFc39h8b/wDQw+H/APwQz/8AyZR9h8b/APQw+H//AAQz/wDyZQB0lFc39h8b/wDQw+H/APwQz/8AyZR9h8b/APQw+H//AAQz/wDyZQB0lY3iUyNp32dvDn/CQ2c+UuLRXhyR1HyTFUYZ65YEcYB7VPsPjf8A6GHw/wD+CGf/AOTKPsPjf/oYfD//AIIZ/wD5MoAXRYtW0PwhBbS2Mt9fRW8kixLOm1GzlIN7EHgEKGwRheT0zhWGk6rrGh63HqmjahY61qdptkvb2S2MRYA7IoxFLIVRSTjI5ySSSa3PsPjf/oYfD/8A4IZ//kyj7D43/wChh8P/APghn/8AkygDOTR9b12PWLqaM6DPfQQWqRXapcYSMsXLCKQDDb2Xhwcc8HirXg3Rtd0q61467NZSrdXoltzaWphDDykXdgyvgfLjaeRgnoRif7D43/6GHw//AOCGf/5Mo+w+N/8AoYfD/wD4IZ//AJMoAxdX0+50v9n3WrK/j8q4h0G8WRNwbB8qTuMiu+rzvx9Z+MV+G3iVrzXdDltxpN0ZY4tFmR2XyWyFY3TBSR0JBx6HpXoGJv8AnpH/AN8H/GgDivGc2ow+HdAOj3M0FwJ0cLFIU83ZA8nltjqrFACDxVW51ufUfiRo97YX9wNMihkha2jlIindoDNlgOGIHl4PbJrrk0yDULPR5p2cNZFZ4wpGGbyymDkdMOfTtVHTPA+k6RHYx2ZuNllPPPGryBtxlBBDcdADgDjAAHagChc+MHvfD9m0Nq1vJqmjXN8rrNzAURSADgZPz9eMYrDi8Ra0bPUI9RZjY21ppjwy216UnLSFdxJ8vuc5yzcDH8Rx0Vl8PrKz2K+qandRw2s9nbRTSR7beGXblF2oM42jBbcR6mp5PA1hJ5i/bL1Ypbe3gkiVo8N5DAo+Smd3GDg4IPTPNAFWLxpfPqirJo0Saa2qPpn2n7bmXzASAwj2Y2nHOXBHoetPsfGk91eWzT6WkOm6i0q6fcrdF5JTGGb95HsAQMEYghm4xnGcVojwrYiNEEtxhNSOpD5l/wBaSTjp93np196gs/BdnZ6gs4vb2a3hMjWllIyeTaNJneUwgYk7mxvZsZIGBQBiWvj7XbyG0a38M2oa/wBPa/tBJqpAKJt3rIRCdh+cbdocHvsqWDxhG0t9q6LIkf8AY9peCO8v1ht4xIz9SwxHj+J8nIAwMjB27TwjYWS6esUtwRp9g9hFuZfmjbbktx975B0wOvFUn+H2mNp5tUu76Ii1tbaOZHTfH9nYtG4ypG7J5yCD6UAZMXjKXxDZWEtu9vA8OvQWsr6bfG4gnQpu+WXam9SGGRtxkd6teM73WLPxbocmiyyOsFtdXM9krkLdohjBXHTcAzFfcD1Nadr4Ls7cl5b+/upmv49QkmndNzzIgTJ2oAAQMkAAemBxWrPpMFxrlpqrvIJ7SKWKNQRtIkKk5GM5+QY59aAOB17XJdQ0PW7rTLu9ubaXUdPFuLK6aKR4pBDlI33Ls3bj/EvJ5IrW8HtPbeJr6ykh1jToHtY5YrDWb43kpYMQ0qyebKAvKjbvzkZ2jOWuN8PtMWy1S2s7u+tF1K+S/LQshNvKm0jywyFQuUBwQeSfpWjpHhz+zdQlv7zVb/V714hCs96IgY4852qsUaKMnknBJwOeBQBs0UUUAFFFFABRRRQBzd9/yVPQv+wLqX/o+xrpK5u+/wCSp6F/2BdS/wDR9jXSUAFFFFABRRRQAUUUUAFFFFABRRRQBHcRNPayxJNJAzoVEsWNyEjqMgjI9wa5TwxEIPFmp2+k3moXek28KxzSXl5Lcr9r3HcEeRmPC43BTtBwMZzXUX9r9u0+4tRPNbefG0fnQMFkjyMZUkHBHY4rH0LwvNoNgbKHxDqdzbrD5MEc0Voot/Rl8uBcn/e3D1FAHLeLNRvNL1jV7+8/ttZbNI5dJ+yed9kZAo3iTb+6LFtwIl5xt284rT8Q6tfz+KNEi065kt7GDUo4bvYcfaHaNm8sn+6o2k+pYehrZ1PwumrXyS3Wqaj9k3I02nrInkTshypbKFgMgEhWVTjkHnNfVPh94W1fVYNSu9C0/wC2xXK3LXC2cXmTMAcB2KksO/XqB6UAc6Ly7bxl9u+23ywDVjbG8+0v9iMeCn2byc48zf8A8tNgGf8AloT8taUcM+i/EKyi+06t9nvY5RLPfXhmhu5cBlSOPcREygMeFjBAwN3bSHgyzGqm5+23ps/tX2z+zNyfZxPnPmfc353fNt37c84qW18LRwazHf3Oq6jfi3LtaW13IjR2xYYJUhA7HBIBdmwCcYoAg8L/APIxeM/+w1H/AOm+zrpK5vwv/wAjF4z/AOw1H/6b7OukoAKKKKACiiigAooooAKwvFVrp76abvWtSv7KytVLOtneSWxdjgL80RVyc8BQ2CW6E4xu1h+IPDP9v3dhcrrGoabLYO0kX2QQMpYjG4rLG4yBnBxkZNAFfTTr4+G6Fw51z7CxjFxjf5m07A/bd93PvmuNXxLJoWn3401teDHSHupW1hLh3juFZELIswLfx5wg2Egbe9ekQadNHaxwXGqXl1tiaOSSTy0eUn+ImNFww7bdo56dKzLXwdaIl8NUvr7WJL2D7M8t66Bkh5/dr5aoAMkndjcT1JwMAGV4f1K00VdTimGvwzwRJKbXV7r7Q0+4lVkibe+N7Dbs3DBA+Rc85C3OvyaRrKahcahcCPXUW9GnFzNDbGKNmSHZ84ALAfJ8xGSOTXXW/g/TzFdJrckmvm6VI5DqscUg8tCSqbFRVwCSckEk9SeKr2HgHRtGt9Qj8Oq2iSX06ztNp0cUTRFQAFUbNpXgnawYZZuOaAOav9S+3fCLx7bR/bjb2NjeQ27X+/zjGbTeA/mfPkbz9/5sYzzXplcX4t0aHRPg74st4ZZrh5NJvpZ7m4YGSeRoXy7EADPsAAAAAABiu0oA4KXwp4HUWUmq+GtFkutRcKskumRu00pUuSW2nk4Ykmrn/CvPBX/QoaD/AOCyH/4ms/xVf2emW/hS81K6gs7WLUEMk9xII0QfZ5Byx4HJFM8ReINH1KHS518QQp4clmkS81Cx1HykVwmURp42BQE+jDJAHfB8x81zpVrGn/wrzwV/0KGg/wDgsh/+JqsPBfgE6m2njwpoP2pYRMY/7Ki4QkgHOzHUHiucGptLaaEPE+r3dhp8sNybe5+2PbPcyrIBAGdSpdjH8wQ53nJIOKqWWq39x4Xha5125tw/h62mkurmWUDcZSGZ2XDR7gMNIMFRzxii0u4XR2UvgXwJBJEk3hbw7G8zbIlfToAZGwTgDbycAnA9KjsPBfgHVLGO8sfCmgywSZ2P/ZUS5wSDwUz1BrkbW8tNQ/4R25uruRbWz11oo7qPXZLu3fdA20JcHaZBvIXD5O4lckHFWLbVIZbHSf8AhLNeutOsHtJnhuRqD25muRMRtLhgXYLjbGcg8/KcUWl3C6Oj1Xwj8P8ARNNkvtR8J6JHbxlQTHo8cjEsQoAVELEkkDABqnpWifDfWL17O18I6ZFcpH5vlXvh02rMmcblEsS7gD1xnGRnqKveODJL4EQ2sx81riz8uW5hOd3nx4Z0+U+5X5fTis531q08XSf29d2dzqK6dN/Yps7VoIp2IBkVg0jneCqYGcbcn1wldrcOpt/8K88Ff9ChoP8A4LIf/iaP+FeeCv8AoUNB/wDBZD/8TXD+Hta1iSx1RtLvre7ul0uSWWGLV59RlS54wWV4lWBvvDygRyOF4NNl1OANqCeGvEeoXlp9gtG83+0JJxHK1ztcrIxOGxwVzx0wOlPll3C6O6/4V54K/wChQ0H/AMFkP/xNH/CvPBX/AEKGg/8Agsh/+JrjfGV5faJrP2GHUEs7eCzjOmS32v3MDyTEtuIURyG6bOwbGLduPmq1qWryWXj6387U1uLmSS3RdPi1Sa2njVgA2y0ZfLuEySxfhgNwzleC0u4aHR3HgTwNaWstxceEtBSKFC7t/ZcJwoGScBfSi38CeBru1iuLfwloLxTIHRv7LhGVIyDgr6VydnrEsOr6vBHqpv7hrW7Z5LfVZWkgKgspls5B/oxH3QUIycccjCalq0yw77vV7u31ZLC0fRLZLx0+2SMgL/uwcTktwwYNtGDxnNFpdwujsv8AhXngr/oUNB/8FkP/AMTR/wAK88Ff9ChoP/gsh/8Aia5fUmuxf61qY1LUUnsdZtIYIkvJBCiP5AdTEDsYHe33gcdRg16VUttdRqxzv/CvPBX/AEKGg/8Agsh/+Jo/4V54K/6FDQf/AAWQ/wDxNdFRS5n3HZHn154E8Ir8RdHtl8LaKIJNKv5HiGnRbWZZbQKxG3BIDsAe24+prf8A+FeeCv8AoUNB/wDBZD/8TRe/8lP0T/sD6j/6Osq6Km5Oy1FZHO/8K88Ff9ChoP8A4LIf/iaP+FeeCv8AoUNB/wDBZD/8TXRUUuZ9x2Rzv/CvPBX/AEKGg/8Agsh/+Jo/4V54K/6FDQf/AAWQ/wDxNdFRRzPuFkc7/wAK88Ff9ChoP/gsh/8AiaP+FeeCv+hQ0H/wWQ//ABNdFRRzPuFkc7/wrzwV/wBChoP/AILIf/iaP+FeeCv+hQ0H/wAFkP8A8TXRUUcz7hZHO/8ACvPBX/QoaD/4LIf/AImj/hXngr/oUNB/8FkP/wATXRUUcz7hZHM3HgTwLaW0lxc+FPD0UMSl5JH02AKqgZJJ29KztJ8P/DjW5pYrHwnpAlhUM0VzoIt32nowWSNSynB+YZHvXYX17b6bp897eyCK3t42klc/wqBkmuQ8K+IdI8Qate+ITrelu/2UJHZwXkcjWluCW3SlScMScnsuAMnk0021cWg270L4a2WrLptx4X0UXDbd2zRFeOLd90SSLGUjz23EZ7Ul1onw0s9YXTLjwxoguWKqSuiK0cbN91XkEZRC3YMwJyMdRWd4xK299qtjpOv28d5raxf8St7bdcTyFQgeFtw+Tao3HawG08r2V72+0jxJfxRa15WozasjwaQYkP26F1jVnO4GQhRu+ZCqrt+YHBq9bbiNEaD8OW1xtJj8H6bJdI4R2j8Ol4UYruw0wi8tTgg8t3FFhoXw11PUZLKy8L6K8qFgGbRFSOQqcMI5GjCSYPXaTjvVSO8GmeLZIdM8UNe319qhafQngjTy4jhWfGzzQFVchy2w8YHIqDRwf+Ep0fR9J1+31K10q4mkktorXZNZx7HXbcMWPO5wFG1CQCcN1C17gWfD3gTwjPrviqObwtosiQaqkcKvp0REa/YrVtqjbwNzMcDuxPet/wD4V54K/wChQ0H/AMFkP/xNHhn/AJGHxh/2GI//AEgtK6KplJ33Gkjnf+FeeCv+hQ0H/wAFkP8A8TR/wrzwV/0KGg/+CyH/AOJroqKXM+47I53/AIV54K/6FDQf/BZD/wDE0f8ACvPBX/QoaD/4LIf/AImuioo5n3CyOd/4V54K/wChQ0H/AMFkP/xNH/CvPBX/AEKGg/8Agsh/+JroqKOZ9wsjnf8AhXngr/oUNB/8FkP/AMTWbq3hr4d6IIvt3hLSC82fLittCW4kYDqdkcbNgZGTjAyPWu0rm/GHi+z8Mw21vLe2Npe35ZLZ7+dYYY8DLO7MRwOOBySQPUhpybsJ2ILfwb8P7vTE1C38MeHXs3j81Zv7NhC7MZznbx/Ss6z0n4Y31nc3UXhnRY4bZPMka40NYCUPR1Dxgup7MuQexNa1haaJJ4Ej0aDVI76zuLGRRcW8iu1wmP3kiBc55b+HOCQK5vSPEEVtqdxrV54is9W0nRtKaO4vLK38uNCWUqjfO2ZcLlgCMZX5VzzSu+oi9baT8Mrmxu7seGNGgjsgGuFu9CFvJGD0JjkjVsHsccngZq3pXhX4fazbPNY+EtGxG2147jREgkQ9fmjkjVl45GRyORWRb3Oj+KtK1vVp/EOni5lSByunzpdf2dHE++LzAhO47ssx4HUA4G6mWV7rGpf2xf6bL/wkdvdNb2jXOkCOBHVQ5laHzJcHG4LnzDhi2OmA7PuAnijwz4Evfhb4j1TQfDuhnydNvPKuYNOiUpJHG4yrbQchl4I9MivV/s8P/PKP/vkV5FbSs/wH8XxnTJtOSK31VI4pTH0xLwPLZgAPu/UHGRgn2Guqh1RlPocdDrerxW8ccXgzWrmNFCrNFPYhZABwwDXAbB6jIB9QKf8A2/rX/Qi69/4Eaf8A/JVFFP2EGL2kjL1ibX9VMRg8PeL9LZAysbK60zEitjIYSTuO3BADDnB5q7Y6lqem6fBZWngPX0gt41jjU3NgcKBgcm65ooo9hAOdk/8Ab+tf9CLr3/gRp/8A8lUf2/rX/Qi69/4Eaf8A/JVFFH1eA/aSD+39a/6EXXv/AAI0/wD+SqP7f1r/AKEXXv8AwI0//wCSqKKPq8A9pIjudY1m5tZYG8E+IoxIhQvFdWCOuRjIIusg+9ZmjDWdKup7u48M+LNUu50WM3F7caXuVFzhAI50UDJJzjJzyemCij2EBc7Nf+39a/6EXXv/AAI0/wD+SqP7f1r/AKEXXv8AwI0//wCSqKKPq8B+0kH9v61/0Iuvf+BGn/8AyVR/b+tf9CLr3/gRp/8A8lUUUfV4B7SQf2/rX/Qi69/4Eaf/APJVH9v61/0Iuvf+BGn/APyVRRR9XgHtJB/b+tf9CLr3/gRp/wD8lUf2/rX/AEIuvf8AgRp//wAlUUUfV4B7SRk3N7r8vjTTdUXwRrQhttPu7d0NxYbi0sluykf6TjAELZ57jrzjW/t/Wv8AoRde/wDAjT//AJKooo9hAXtJB/b+tf8AQi69/wCBGn//ACVR/b+tf9CLr3/gRp//AMlUUUfV4D9pIP7f1r/oRde/8CNP/wDkqj+39a/6EXXv/AjT/wD5Kooo+rwD2kg/t/Wv+hF17/wI0/8A+SqP7f1r/oRde/8AAjT/AP5Kooo+rwD2kg/t/Wv+hF17/wACNP8A/kqj+39a/wChF17/AMCNP/8Akqiij6vAPaSD+39a/wChF17/AMCNP/8Akqj+39a/6EXXv/AjT/8A5Kooo+rwD2kg/t/Wv+hF17/wI0//AOSqP7f1r/oRde/8CNP/APkqiij6vAPaSD+39a/6EXXv/AjT/wD5Ko/t/Wv+hF17/wACNP8A/kqiij6vAPaSD+39a/6EXXv/AAI0/wD+SqP7f1r/AKEXXv8AwI0//wCSqKKPq8A9pIydGvdfsNW1+4l8Ea0yahqCXEQS4sMqotYIsNm565iY8Z4I9wNb+39a/wChF17/AMCNP/8Akqiij2EGL2kg/t/Wv+hF17/wI0//AOSqP7f1r/oRde/8CNP/APkqiij6vAftJB/b+tf9CLr3/gRp/wD8lUf2/rX/AEIuvf8AgRp//wAlUUUfV4B7SQf2/rX/AEIuvf8AgRp//wAlUf2/rX/Qi69/4Eaf/wDJVFFH1eAe0kH9v61/0Iuvf+BGn/8AyVR/b+tf9CLr3/gRp/8A8lUUUfV4B7SQf2/rX/Qi69/4Eaf/APJVH9v61/0Iuvf+BGn/APyVRRR9XgHtJB/b+tf9CLr3/gRp/wD8lUf2/rX/AEIuvf8AgRp//wAlUUUfV4B7SRk+LL3X9a8F63pdt4I1qOa+0+e3jeW4sAqs8bKCcXJOMnnANegeY3/PGT81/wAaKK0hBQWhLk3uf//Z)\n",
        "\n",
        "**Hence, we will use Logistic Regression model in our main file.**"
      ]
    }
  ]
}