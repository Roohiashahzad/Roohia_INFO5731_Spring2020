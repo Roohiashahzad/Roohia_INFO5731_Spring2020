{
  "nbformat": 4,
  "nbformat_minor": 0,
  "metadata": {
    "colab": {
      "name": "RoohiaShahzad_In_class_exercise_01.ipynb",
      "provenance": [],
      "collapsed_sections": [],
      "include_colab_link": true
    },
    "kernelspec": {
      "display_name": "Python 3",
      "language": "python",
      "name": "python3"
    },
    "language_info": {
      "codemirror_mode": {
        "name": "ipython",
        "version": 3
      },
      "file_extension": ".py",
      "mimetype": "text/x-python",
      "name": "python",
      "nbconvert_exporter": "python",
      "pygments_lexer": "ipython3",
      "version": "3.7.4"
    }
  },
  "cells": [
    {
      "cell_type": "markdown",
      "metadata": {
        "id": "view-in-github",
        "colab_type": "text"
      },
      "source": [
        "<a href=\"https://colab.research.google.com/github/Roohiashahzad/Roohia_INFO5731_Spring2020/blob/main/RoohiaShahzad_In_class_exercise_01.ipynb\" target=\"_parent\"><img src=\"https://colab.research.google.com/assets/colab-badge.svg\" alt=\"Open In Colab\"/></a>"
      ]
    },
    {
      "cell_type": "markdown",
      "metadata": {
        "id": "DymRJbxDBCnf"
      },
      "source": [
        "# **The first In-class-exercise (1/19/2021, 20 points in total)**"
      ]
    },
    {
      "cell_type": "markdown",
      "metadata": {
        "id": "03jb4GZsBkBS"
      },
      "source": [
        "(1) Write a Python program to calculate the length of a string. (2 points)"
      ]
    },
    {
      "cell_type": "code",
      "metadata": {
        "id": "YaGLbSHHB8Ej",
        "colab": {
          "base_uri": "https://localhost:8080/"
        },
        "outputId": "a92d43d3-e475-4e20-85a4-7560def9ede6"
      },
      "source": [
        "# write your answer here\n",
        "myName = \"Roohia Shahzad\"\n",
        "print(len(myName))"
      ],
      "execution_count": 1,
      "outputs": [
        {
          "output_type": "stream",
          "text": [
            "14\n"
          ],
          "name": "stdout"
        }
      ]
    },
    {
      "cell_type": "markdown",
      "metadata": {
        "id": "jJDe71iLB616"
      },
      "source": [
        "(2) Write a Python program to count the number of characters in a string. (2 points)\n",
        "\n",
        "Sample String : 'google.com‘, \n",
        "\n",
        "Expected Result : {'o': 3, 'g': 2, '.': 1, 'e': 1, 'l': 1, 'm': 1, 'c': 1}"
      ]
    },
    {
      "cell_type": "code",
      "metadata": {
        "id": "MtKskTzbCLaU",
        "colab": {
          "base_uri": "https://localhost:8080/"
        },
        "outputId": "f01e2b30-0da8-42ab-f5fa-6675dd231536"
      },
      "source": [
        "# write your answer here\n",
        "\n",
        "def charCount(str1):\n",
        "  countDict = {}\n",
        "  for i in str1:\n",
        "    str1Keys = countDict.keys()\n",
        "    if i in str1Keys:\n",
        "      countDict[i] += 1\n",
        "    else:\n",
        "      countDict[i] = 1\n",
        "  return countDict\n",
        "  sorted_dict = sorted(countDict, key =str1Keys, reverse= True)\n",
        "  return sorted_dict\n",
        "\n",
        "print('Expected Result: ', charCount('google.com'))\n"
      ],
      "execution_count": 22,
      "outputs": [
        {
          "output_type": "stream",
          "text": [
            "Expected Result:  {'g': 2, 'o': 3, 'l': 1, 'e': 1, '.': 1, 'c': 1, 'm': 1}\n"
          ],
          "name": "stdout"
        }
      ]
    },
    {
      "cell_type": "markdown",
      "metadata": {
        "id": "55W9AMdXCSpV"
      },
      "source": [
        "(3) Write a Python program to sum all the items in a list. (2 points)"
      ]
    },
    {
      "cell_type": "code",
      "metadata": {
        "id": "I57NXsauCec2",
        "colab": {
          "base_uri": "https://localhost:8080/"
        },
        "outputId": "b00e55da-5eb7-44e6-d322-b464737d2ff2"
      },
      "source": [
        "# write your answer here\n",
        "def sum_of_items(list):\n",
        "  total_sum = 0\n",
        "  for items in list:\n",
        "   total_sum += items\n",
        "  return total_sum\n",
        "print(sum_of_items([1,2,4,-7,9,-8]))"
      ],
      "execution_count": 65,
      "outputs": [
        {
          "output_type": "stream",
          "text": [
            "1\n"
          ],
          "name": "stdout"
        }
      ]
    },
    {
      "cell_type": "markdown",
      "metadata": {
        "id": "4ulBZ6yhCi9F"
      },
      "source": [
        "(4) Write a Python program to get a string from a given string where all occurrences of its first char have been changed to '\\$', except the first char itself. (2 points)\n",
        "\n",
        "Sample String : 'restart‘, \n",
        "\n",
        "Expected Result : 'resta\\$t'"
      ]
    },
    {
      "cell_type": "code",
      "metadata": {
        "id": "Fj0XhwbBCw2o",
        "colab": {
          "base_uri": "https://localhost:8080/"
        },
        "outputId": "8dfdd73a-28b9-4d83-cef4-71e2690204b4"
      },
      "source": [
        "# write your answer here\n",
        "def strChange(str):\n",
        "  char = str[0]\n",
        "  str = str.replace(char, '$')\n",
        "  str = char + str[1:]\n",
        "  return str\n",
        "\n",
        "print(strChange('restart'))"
      ],
      "execution_count": 26,
      "outputs": [
        {
          "output_type": "stream",
          "text": [
            "resta$t\n"
          ],
          "name": "stdout"
        }
      ]
    },
    {
      "cell_type": "markdown",
      "metadata": {
        "id": "_bIP7s1MCzue"
      },
      "source": [
        "(5) Write a program with python which could accept two parameter a and b to calculate and output the result of S, where \n",
        "\n",
        "$\\ S=3.14*(1+a/b)^3$ (3 points)\n",
        "\n"
      ]
    },
    {
      "cell_type": "code",
      "metadata": {
        "id": "w79QilHXD3Mg",
        "colab": {
          "base_uri": "https://localhost:8080/"
        },
        "outputId": "bc67590b-bebe-40df-ff9e-dd257b90d756"
      },
      "source": [
        "# write your answer here\n",
        "\n",
        "def calculate_S(x,y):\n",
        "  if y == 0:\n",
        "    def divisionError(str):\n",
        "      print(\"Error: Division by zero\")\n",
        "\n",
        "  return 3.14 * (1 + a/b)**3\n",
        "\n",
        "a = int(input(\"Enter parameter a: \"))\n",
        "b = int(input(\"Enter parameter b: \"))\n",
        "\n",
        "print('Expected value: ', calculate_S(a,b))"
      ],
      "execution_count": 56,
      "outputs": [
        {
          "output_type": "stream",
          "text": [
            "Enter parameter a: 5\n",
            "Enter parameter b: 7\n",
            "Expected value:  15.81900874635569\n"
          ],
          "name": "stdout"
        }
      ]
    },
    {
      "cell_type": "markdown",
      "metadata": {
        "id": "xCa2bK9aD4Q3"
      },
      "source": [
        "(6) Write a Python program to concatenate following dictionaries to create a new one. (3 points)\n",
        "\n",
        "Sample Dictionary : dic1={1:10, 2:20}, dic2={3:30, 4:40}, dic3={5:50,6:60}, \n",
        "\n",
        "Expected Result : {1: 10, 2: 20, 3: 30, 4: 40, 5: 50, 6: 60}\n"
      ]
    },
    {
      "cell_type": "code",
      "metadata": {
        "id": "_z4aLqAbEET1",
        "colab": {
          "base_uri": "https://localhost:8080/"
        },
        "outputId": "79429955-683f-49cf-e93b-2057aef38a0b"
      },
      "source": [
        "# write your answer here\n",
        "dic1 = {1:10, 2:20}\n",
        "dic2 = {3:30, 4:40}\n",
        "dic3 = {5:50, 6:60}\n",
        "dic4 = {}\n",
        "for n in (dic1,dic2,dic3): dic4.update(n)\n",
        "print(dic4)"
      ],
      "execution_count": 66,
      "outputs": [
        {
          "output_type": "stream",
          "text": [
            "{1: 10, 2: 20, 3: 30, 4: 40, 5: 50, 6: 60}\n"
          ],
          "name": "stdout"
        }
      ]
    },
    {
      "cell_type": "markdown",
      "metadata": {
        "id": "0v48Vqa7FrQh"
      },
      "source": [
        "(7) Write a Python program to check whether an element exists within a tuple. (3 points)"
      ]
    },
    {
      "cell_type": "code",
      "metadata": {
        "id": "7WEmgq-DF2P1",
        "colab": {
          "base_uri": "https://localhost:8080/"
        },
        "outputId": "5fc6109e-31c5-4180-92e9-66646224d238"
      },
      "source": [
        "# write your answer here\n",
        "this_tuple = (\"red\",\"green\",\"blue\",\"orange\")\n",
        "print(\"black\" in this_tuple)\n",
        "print(\"red\" in this_tuple)"
      ],
      "execution_count": 71,
      "outputs": [
        {
          "output_type": "stream",
          "text": [
            "False\n",
            "True\n"
          ],
          "name": "stdout"
        }
      ]
    },
    {
      "cell_type": "markdown",
      "metadata": {
        "id": "vD5PYLMuGga_"
      },
      "source": [
        "(8) Write a Python program to find maximum and the minimum value in a set. (3 points)"
      ]
    },
    {
      "cell_type": "code",
      "metadata": {
        "id": "t0D5kdJUGjjw",
        "colab": {
          "base_uri": "https://localhost:8080/"
        },
        "outputId": "12e1f862-e4e5-4829-a2f0-8f3e589e1536"
      },
      "source": [
        "# write your answer here\n",
        "EvenNumberSet = {6, 10, 20, 12, 2, 8, 16, 4}\n",
        "maxValue = max(EvenNumberSet)\n",
        "minValue = min(EvenNumberSet)\n",
        "print('Maximum value is: ',maxValue, 'and Minimum value is: ', minValue)\n"
      ],
      "execution_count": 57,
      "outputs": [
        {
          "output_type": "stream",
          "text": [
            "Maximum value is:  20 and Minimum value is:  2\n"
          ],
          "name": "stdout"
        }
      ]
    },
    {
      "cell_type": "markdown",
      "metadata": {
        "id": "uHkd-y5VhVWC"
      },
      "source": [
        "(9) Write a Python program to randomly divide the students in this class into five groups for term projects, each group should have at least 3 students but no more than 5 students (including 5). Here is the students list: (3 points for extra)\n",
        "\n",
        "studnet_list = ['vmb0067','pc0353','snd0097','yye0005','sg0940','bk0301','rak0120','rrk0058','spk0057','vl0135','nm0547','pn0159',\n",
        "                'msp0174','dd0420','ds0761','rs0850','ss1995','at0739','at0768','mv0299','tv0119','dy0091']"
      ]
    },
    {
      "cell_type": "code",
      "metadata": {
        "id": "3iGbmcOBhTwy",
        "colab": {
          "base_uri": "https://localhost:8080/"
        },
        "outputId": "e827eb53-9278-4f05-cf42-3cf5a1774a51"
      },
      "source": [
        "# write your answer here\n",
        "import random\n",
        "\n",
        "student_list = ['vmb0067','pc0353','snd0097','yye0005','sg0940','bk0301','rak0120','rrk0058','spk0057','vl0135','nm0547','pn0159', 'msp0174','dd0420','ds0761','rs0850','ss1995','at0739','at0768','mv0299','tv0119','dy0091']\n",
        "group = []\n",
        "for i in range(5):\n",
        " group.append(random.randint(3,5))\n",
        "for j in range(5):\n",
        " divided_students = random.sample(student_list,group[j-1])\n",
        " student_list = [j for j in student_list if j not in divided_students]\n",
        " print(\"Group \" +str(j+1)+\": \", divided_students)\n",
        "\n",
        " \n",
        "\n",
        "\n",
        "\n",
        "\n",
        "\n"
      ],
      "execution_count": 81,
      "outputs": [
        {
          "output_type": "stream",
          "text": [
            "Group 1:  ['dd0420', 'rs0850', 'at0739', 'vmb0067', 'pn0159']\n",
            "Group 2:  ['rrk0058', 'at0768', 'msp0174', 'bk0301', 'mv0299']\n",
            "Group 3:  ['snd0097', 'nm0547', 'sg0940', 'pc0353']\n",
            "Group 4:  ['yye0005', 'tv0119', 'dy0091', 'ss1995']\n",
            "Group 5:  ['rak0120', 'vl0135', 'ds0761', 'spk0057']\n"
          ],
          "name": "stdout"
        }
      ]
    }
  ]
}