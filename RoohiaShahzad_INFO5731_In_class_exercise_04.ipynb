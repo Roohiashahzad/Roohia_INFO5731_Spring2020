{
  "nbformat": 4,
  "nbformat_minor": 0,
  "metadata": {
    "colab": {
      "name": "RoohiaShahzad_INFO5731_In-class-exercise-04.ipynb",
      "provenance": [],
      "authorship_tag": "ABX9TyOt1LcUghfD9ojtGmbA34Oc",
      "include_colab_link": true
    },
    "kernelspec": {
      "name": "python3",
      "display_name": "Python 3"
    }
  },
  "cells": [
    {
      "cell_type": "markdown",
      "metadata": {
        "id": "view-in-github",
        "colab_type": "text"
      },
      "source": [
        "<a href=\"https://colab.research.google.com/github/Roohiashahzad/Roohia_INFO5731_Spring2020/blob/main/RoohiaShahzad_INFO5731_In_class_exercise_04.ipynb\" target=\"_parent\"><img src=\"https://colab.research.google.com/assets/colab-badge.svg\" alt=\"Open In Colab\"/></a>"
      ]
    },
    {
      "cell_type": "code",
      "metadata": {
        "colab": {
          "base_uri": "https://localhost:8080/"
        },
        "id": "npyDEVC41jJz",
        "outputId": "4eb60839-3f28-452d-bf4f-c2784ec548f3"
      },
      "source": [
        "# Write your code here\r\n",
        "\r\n",
        "\r\n",
        "import pandas as pd\r\n",
        "data_url = \"/content/legalCase.csv\"\r\n",
        "input_file = pd.read_csv(data_url, error_bad_lines= False, names = ['sentence_count'])\r\n",
        "\r\n",
        "#num of sentences\r\n",
        "totalSentences =len(input_file['sentence_count'])\r\n",
        "print(\"total sentences = \" , totalSentences)\r\n"
      ],
      "execution_count": 2,
      "outputs": [
        {
          "output_type": "stream",
          "text": [
            "total sentences =  148\n"
          ],
          "name": "stdout"
        }
      ]
    },
    {
      "cell_type": "code",
      "metadata": {
        "colab": {
          "base_uri": "https://localhost:8080/",
          "height": 340
        },
        "id": "0nfrgEOz1uDi",
        "outputId": "58890184-14f2-497e-db5e-20e1e2e14710"
      },
      "source": [
        "#num of words\r\n",
        "input_file['word_count'] = input_file['sentence_count'].apply(lambda x: len(str(x).split(\" \")))\r\n",
        "input_file[['sentence_count','word_count']].head(10)"
      ],
      "execution_count": 3,
      "outputs": [
        {
          "output_type": "execute_result",
          "data": {
            "text/html": [
              "<div>\n",
              "<style scoped>\n",
              "    .dataframe tbody tr th:only-of-type {\n",
              "        vertical-align: middle;\n",
              "    }\n",
              "\n",
              "    .dataframe tbody tr th {\n",
              "        vertical-align: top;\n",
              "    }\n",
              "\n",
              "    .dataframe thead th {\n",
              "        text-align: right;\n",
              "    }\n",
              "</style>\n",
              "<table border=\"1\" class=\"dataframe\">\n",
              "  <thead>\n",
              "    <tr style=\"text-align: right;\">\n",
              "      <th></th>\n",
              "      <th>sentence_count</th>\n",
              "      <th>word_count</th>\n",
              "    </tr>\n",
              "  </thead>\n",
              "  <tbody>\n",
              "    <tr>\n",
              "      <th>0</th>\n",
              "      <td>5 Ala. 740</td>\n",
              "      <td>3</td>\n",
              "    </tr>\n",
              "    <tr>\n",
              "      <th>1</th>\n",
              "      <td>Supreme Court of Alabama.</td>\n",
              "      <td>4</td>\n",
              "    </tr>\n",
              "    <tr>\n",
              "      <th>2</th>\n",
              "      <td>ADAMS</td>\n",
              "      <td>1</td>\n",
              "    </tr>\n",
              "    <tr>\n",
              "      <th>3</th>\n",
              "      <td>v.</td>\n",
              "      <td>1</td>\n",
              "    </tr>\n",
              "    <tr>\n",
              "      <th>4</th>\n",
              "      <td>TANNER AND HORTON.</td>\n",
              "      <td>3</td>\n",
              "    </tr>\n",
              "    <tr>\n",
              "      <th>5</th>\n",
              "      <td>June Term</td>\n",
              "      <td>2</td>\n",
              "    </tr>\n",
              "    <tr>\n",
              "      <th>6</th>\n",
              "      <td>Synopsis</td>\n",
              "      <td>1</td>\n",
              "    </tr>\n",
              "    <tr>\n",
              "      <th>7</th>\n",
              "      <td>WRIT of Error to the Circuit Court of Sumter.</td>\n",
              "      <td>9</td>\n",
              "    </tr>\n",
              "    <tr>\n",
              "      <th>8</th>\n",
              "      <td></td>\n",
              "      <td>1</td>\n",
              "    </tr>\n",
              "    <tr>\n",
              "      <th>9</th>\n",
              "      <td>West Headnotes (2)</td>\n",
              "      <td>3</td>\n",
              "    </tr>\n",
              "  </tbody>\n",
              "</table>\n",
              "</div>"
            ],
            "text/plain": [
              "                                  sentence_count  word_count\n",
              "0                                     5 Ala. 740           3\n",
              "1                      Supreme Court of Alabama.           4\n",
              "2                                          ADAMS           1\n",
              "3                                             v.           1\n",
              "4                             TANNER AND HORTON.           3\n",
              "5                                      June Term           2\n",
              "6                                       Synopsis           1\n",
              "7  WRIT of Error to the Circuit Court of Sumter.           9\n",
              "8                                                          1\n",
              "9                             West Headnotes (2)           3"
            ]
          },
          "metadata": {
            "tags": []
          },
          "execution_count": 3
        }
      ]
    },
    {
      "cell_type": "code",
      "metadata": {
        "colab": {
          "base_uri": "https://localhost:8080/",
          "height": 340
        },
        "id": "tZnYLG8V1wu5",
        "outputId": "c23d9a65-e569-4e38-9990-c1ad4d575d86"
      },
      "source": [
        "#num of char\r\n",
        "input_file['char_count']=input_file['sentence_count'].str.len()\r\n",
        "input_file[['sentence_count','word_count', 'char_count']].head(10)"
      ],
      "execution_count": 4,
      "outputs": [
        {
          "output_type": "execute_result",
          "data": {
            "text/html": [
              "<div>\n",
              "<style scoped>\n",
              "    .dataframe tbody tr th:only-of-type {\n",
              "        vertical-align: middle;\n",
              "    }\n",
              "\n",
              "    .dataframe tbody tr th {\n",
              "        vertical-align: top;\n",
              "    }\n",
              "\n",
              "    .dataframe thead th {\n",
              "        text-align: right;\n",
              "    }\n",
              "</style>\n",
              "<table border=\"1\" class=\"dataframe\">\n",
              "  <thead>\n",
              "    <tr style=\"text-align: right;\">\n",
              "      <th></th>\n",
              "      <th>sentence_count</th>\n",
              "      <th>word_count</th>\n",
              "      <th>char_count</th>\n",
              "    </tr>\n",
              "  </thead>\n",
              "  <tbody>\n",
              "    <tr>\n",
              "      <th>0</th>\n",
              "      <td>5 Ala. 740</td>\n",
              "      <td>3</td>\n",
              "      <td>10</td>\n",
              "    </tr>\n",
              "    <tr>\n",
              "      <th>1</th>\n",
              "      <td>Supreme Court of Alabama.</td>\n",
              "      <td>4</td>\n",
              "      <td>25</td>\n",
              "    </tr>\n",
              "    <tr>\n",
              "      <th>2</th>\n",
              "      <td>ADAMS</td>\n",
              "      <td>1</td>\n",
              "      <td>5</td>\n",
              "    </tr>\n",
              "    <tr>\n",
              "      <th>3</th>\n",
              "      <td>v.</td>\n",
              "      <td>1</td>\n",
              "      <td>2</td>\n",
              "    </tr>\n",
              "    <tr>\n",
              "      <th>4</th>\n",
              "      <td>TANNER AND HORTON.</td>\n",
              "      <td>3</td>\n",
              "      <td>18</td>\n",
              "    </tr>\n",
              "    <tr>\n",
              "      <th>5</th>\n",
              "      <td>June Term</td>\n",
              "      <td>2</td>\n",
              "      <td>9</td>\n",
              "    </tr>\n",
              "    <tr>\n",
              "      <th>6</th>\n",
              "      <td>Synopsis</td>\n",
              "      <td>1</td>\n",
              "      <td>8</td>\n",
              "    </tr>\n",
              "    <tr>\n",
              "      <th>7</th>\n",
              "      <td>WRIT of Error to the Circuit Court of Sumter.</td>\n",
              "      <td>9</td>\n",
              "      <td>45</td>\n",
              "    </tr>\n",
              "    <tr>\n",
              "      <th>8</th>\n",
              "      <td></td>\n",
              "      <td>1</td>\n",
              "      <td>1</td>\n",
              "    </tr>\n",
              "    <tr>\n",
              "      <th>9</th>\n",
              "      <td>West Headnotes (2)</td>\n",
              "      <td>3</td>\n",
              "      <td>18</td>\n",
              "    </tr>\n",
              "  </tbody>\n",
              "</table>\n",
              "</div>"
            ],
            "text/plain": [
              "                                  sentence_count  word_count  char_count\n",
              "0                                     5 Ala. 740           3          10\n",
              "1                      Supreme Court of Alabama.           4          25\n",
              "2                                          ADAMS           1           5\n",
              "3                                             v.           1           2\n",
              "4                             TANNER AND HORTON.           3          18\n",
              "5                                      June Term           2           9\n",
              "6                                       Synopsis           1           8\n",
              "7  WRIT of Error to the Circuit Court of Sumter.           9          45\n",
              "8                                                          1           1\n",
              "9                             West Headnotes (2)           3          18"
            ]
          },
          "metadata": {
            "tags": []
          },
          "execution_count": 4
        }
      ]
    },
    {
      "cell_type": "code",
      "metadata": {
        "colab": {
          "base_uri": "https://localhost:8080/",
          "height": 340
        },
        "id": "lMH9spm01zsx",
        "outputId": "1afc7343-d245-4f8c-ee19-665a6e32a3f7"
      },
      "source": [
        "#avg word length\r\n",
        "def avg_word(sentence):\r\n",
        "  words=sentence.split()\r\n",
        "  if len(words)!=0:\r\n",
        "    return(sum(len(word) for word in words)/len(words))\r\n",
        "  else:\r\n",
        "    return 0\r\n",
        "input_file['avg_word_len']=input_file['sentence_count'].apply(lambda x: avg_word(x))\r\n",
        "input_file[['sentence_count','word_count', 'char_count', 'avg_word_len']].head(10)\r\n"
      ],
      "execution_count": 5,
      "outputs": [
        {
          "output_type": "execute_result",
          "data": {
            "text/html": [
              "<div>\n",
              "<style scoped>\n",
              "    .dataframe tbody tr th:only-of-type {\n",
              "        vertical-align: middle;\n",
              "    }\n",
              "\n",
              "    .dataframe tbody tr th {\n",
              "        vertical-align: top;\n",
              "    }\n",
              "\n",
              "    .dataframe thead th {\n",
              "        text-align: right;\n",
              "    }\n",
              "</style>\n",
              "<table border=\"1\" class=\"dataframe\">\n",
              "  <thead>\n",
              "    <tr style=\"text-align: right;\">\n",
              "      <th></th>\n",
              "      <th>sentence_count</th>\n",
              "      <th>word_count</th>\n",
              "      <th>char_count</th>\n",
              "      <th>avg_word_len</th>\n",
              "    </tr>\n",
              "  </thead>\n",
              "  <tbody>\n",
              "    <tr>\n",
              "      <th>0</th>\n",
              "      <td>5 Ala. 740</td>\n",
              "      <td>3</td>\n",
              "      <td>10</td>\n",
              "      <td>2.666667</td>\n",
              "    </tr>\n",
              "    <tr>\n",
              "      <th>1</th>\n",
              "      <td>Supreme Court of Alabama.</td>\n",
              "      <td>4</td>\n",
              "      <td>25</td>\n",
              "      <td>5.500000</td>\n",
              "    </tr>\n",
              "    <tr>\n",
              "      <th>2</th>\n",
              "      <td>ADAMS</td>\n",
              "      <td>1</td>\n",
              "      <td>5</td>\n",
              "      <td>5.000000</td>\n",
              "    </tr>\n",
              "    <tr>\n",
              "      <th>3</th>\n",
              "      <td>v.</td>\n",
              "      <td>1</td>\n",
              "      <td>2</td>\n",
              "      <td>2.000000</td>\n",
              "    </tr>\n",
              "    <tr>\n",
              "      <th>4</th>\n",
              "      <td>TANNER AND HORTON.</td>\n",
              "      <td>3</td>\n",
              "      <td>18</td>\n",
              "      <td>5.333333</td>\n",
              "    </tr>\n",
              "    <tr>\n",
              "      <th>5</th>\n",
              "      <td>June Term</td>\n",
              "      <td>2</td>\n",
              "      <td>9</td>\n",
              "      <td>4.000000</td>\n",
              "    </tr>\n",
              "    <tr>\n",
              "      <th>6</th>\n",
              "      <td>Synopsis</td>\n",
              "      <td>1</td>\n",
              "      <td>8</td>\n",
              "      <td>8.000000</td>\n",
              "    </tr>\n",
              "    <tr>\n",
              "      <th>7</th>\n",
              "      <td>WRIT of Error to the Circuit Court of Sumter.</td>\n",
              "      <td>9</td>\n",
              "      <td>45</td>\n",
              "      <td>4.111111</td>\n",
              "    </tr>\n",
              "    <tr>\n",
              "      <th>8</th>\n",
              "      <td></td>\n",
              "      <td>1</td>\n",
              "      <td>1</td>\n",
              "      <td>0.000000</td>\n",
              "    </tr>\n",
              "    <tr>\n",
              "      <th>9</th>\n",
              "      <td>West Headnotes (2)</td>\n",
              "      <td>3</td>\n",
              "      <td>18</td>\n",
              "      <td>5.333333</td>\n",
              "    </tr>\n",
              "  </tbody>\n",
              "</table>\n",
              "</div>"
            ],
            "text/plain": [
              "                                  sentence_count  ...  avg_word_len\n",
              "0                                     5 Ala. 740  ...      2.666667\n",
              "1                      Supreme Court of Alabama.  ...      5.500000\n",
              "2                                          ADAMS  ...      5.000000\n",
              "3                                             v.  ...      2.000000\n",
              "4                             TANNER AND HORTON.  ...      5.333333\n",
              "5                                      June Term  ...      4.000000\n",
              "6                                       Synopsis  ...      8.000000\n",
              "7  WRIT of Error to the Circuit Court of Sumter.  ...      4.111111\n",
              "8                                                 ...      0.000000\n",
              "9                             West Headnotes (2)  ...      5.333333\n",
              "\n",
              "[10 rows x 4 columns]"
            ]
          },
          "metadata": {
            "tags": []
          },
          "execution_count": 5
        }
      ]
    },
    {
      "cell_type": "code",
      "metadata": {
        "colab": {
          "base_uri": "https://localhost:8080/",
          "height": 376
        },
        "id": "q3bDspYk1zva",
        "outputId": "cd4cd9c4-f878-41f5-f4a6-de0f4a1ae084"
      },
      "source": [
        "#num of stopwords\r\n",
        "from nltk.corpus import stopwords\r\n",
        "\r\n",
        "import nltk\r\n",
        "nltk.download('stopwords')\r\n",
        "stop=stopwords.words('english')\r\n",
        "\r\n",
        "input_file['stopwords']=input_file['sentence_count'].apply(lambda x: len([x for x in x.split() if x in stop]))\r\n",
        "input_file[['sentence_count','word_count', 'char_count', 'avg_word_len', 'stopwords']].head(10)\r\n"
      ],
      "execution_count": 6,
      "outputs": [
        {
          "output_type": "stream",
          "text": [
            "[nltk_data] Downloading package stopwords to /root/nltk_data...\n",
            "[nltk_data]   Unzipping corpora/stopwords.zip.\n"
          ],
          "name": "stdout"
        },
        {
          "output_type": "execute_result",
          "data": {
            "text/html": [
              "<div>\n",
              "<style scoped>\n",
              "    .dataframe tbody tr th:only-of-type {\n",
              "        vertical-align: middle;\n",
              "    }\n",
              "\n",
              "    .dataframe tbody tr th {\n",
              "        vertical-align: top;\n",
              "    }\n",
              "\n",
              "    .dataframe thead th {\n",
              "        text-align: right;\n",
              "    }\n",
              "</style>\n",
              "<table border=\"1\" class=\"dataframe\">\n",
              "  <thead>\n",
              "    <tr style=\"text-align: right;\">\n",
              "      <th></th>\n",
              "      <th>sentence_count</th>\n",
              "      <th>word_count</th>\n",
              "      <th>char_count</th>\n",
              "      <th>avg_word_len</th>\n",
              "      <th>stopwords</th>\n",
              "    </tr>\n",
              "  </thead>\n",
              "  <tbody>\n",
              "    <tr>\n",
              "      <th>0</th>\n",
              "      <td>5 Ala. 740</td>\n",
              "      <td>3</td>\n",
              "      <td>10</td>\n",
              "      <td>2.666667</td>\n",
              "      <td>0</td>\n",
              "    </tr>\n",
              "    <tr>\n",
              "      <th>1</th>\n",
              "      <td>Supreme Court of Alabama.</td>\n",
              "      <td>4</td>\n",
              "      <td>25</td>\n",
              "      <td>5.500000</td>\n",
              "      <td>1</td>\n",
              "    </tr>\n",
              "    <tr>\n",
              "      <th>2</th>\n",
              "      <td>ADAMS</td>\n",
              "      <td>1</td>\n",
              "      <td>5</td>\n",
              "      <td>5.000000</td>\n",
              "      <td>0</td>\n",
              "    </tr>\n",
              "    <tr>\n",
              "      <th>3</th>\n",
              "      <td>v.</td>\n",
              "      <td>1</td>\n",
              "      <td>2</td>\n",
              "      <td>2.000000</td>\n",
              "      <td>0</td>\n",
              "    </tr>\n",
              "    <tr>\n",
              "      <th>4</th>\n",
              "      <td>TANNER AND HORTON.</td>\n",
              "      <td>3</td>\n",
              "      <td>18</td>\n",
              "      <td>5.333333</td>\n",
              "      <td>0</td>\n",
              "    </tr>\n",
              "    <tr>\n",
              "      <th>5</th>\n",
              "      <td>June Term</td>\n",
              "      <td>2</td>\n",
              "      <td>9</td>\n",
              "      <td>4.000000</td>\n",
              "      <td>0</td>\n",
              "    </tr>\n",
              "    <tr>\n",
              "      <th>6</th>\n",
              "      <td>Synopsis</td>\n",
              "      <td>1</td>\n",
              "      <td>8</td>\n",
              "      <td>8.000000</td>\n",
              "      <td>0</td>\n",
              "    </tr>\n",
              "    <tr>\n",
              "      <th>7</th>\n",
              "      <td>WRIT of Error to the Circuit Court of Sumter.</td>\n",
              "      <td>9</td>\n",
              "      <td>45</td>\n",
              "      <td>4.111111</td>\n",
              "      <td>4</td>\n",
              "    </tr>\n",
              "    <tr>\n",
              "      <th>8</th>\n",
              "      <td></td>\n",
              "      <td>1</td>\n",
              "      <td>1</td>\n",
              "      <td>0.000000</td>\n",
              "      <td>0</td>\n",
              "    </tr>\n",
              "    <tr>\n",
              "      <th>9</th>\n",
              "      <td>West Headnotes (2)</td>\n",
              "      <td>3</td>\n",
              "      <td>18</td>\n",
              "      <td>5.333333</td>\n",
              "      <td>0</td>\n",
              "    </tr>\n",
              "  </tbody>\n",
              "</table>\n",
              "</div>"
            ],
            "text/plain": [
              "                                  sentence_count  ...  stopwords\n",
              "0                                     5 Ala. 740  ...          0\n",
              "1                      Supreme Court of Alabama.  ...          1\n",
              "2                                          ADAMS  ...          0\n",
              "3                                             v.  ...          0\n",
              "4                             TANNER AND HORTON.  ...          0\n",
              "5                                      June Term  ...          0\n",
              "6                                       Synopsis  ...          0\n",
              "7  WRIT of Error to the Circuit Court of Sumter.  ...          4\n",
              "8                                                 ...          0\n",
              "9                             West Headnotes (2)  ...          0\n",
              "\n",
              "[10 rows x 5 columns]"
            ]
          },
          "metadata": {
            "tags": []
          },
          "execution_count": 6
        }
      ]
    },
    {
      "cell_type": "code",
      "metadata": {
        "colab": {
          "base_uri": "https://localhost:8080/",
          "height": 340
        },
        "id": "rGfNq6oN1zx0",
        "outputId": "bbe80fd7-6c1c-436a-c105-8c4f4cf8d540"
      },
      "source": [
        "#num of special chars\r\n",
        "input_file['special_char_count']=input_file['sentence_count'].apply(lambda x: len([x for x in x.split() if x.startswith(('#'))]))\r\n",
        "input_file[['sentence_count','word_count', 'char_count', 'avg_word_len', 'stopwords', 'special_char_count']].head(10)\r\n"
      ],
      "execution_count": 7,
      "outputs": [
        {
          "output_type": "execute_result",
          "data": {
            "text/html": [
              "<div>\n",
              "<style scoped>\n",
              "    .dataframe tbody tr th:only-of-type {\n",
              "        vertical-align: middle;\n",
              "    }\n",
              "\n",
              "    .dataframe tbody tr th {\n",
              "        vertical-align: top;\n",
              "    }\n",
              "\n",
              "    .dataframe thead th {\n",
              "        text-align: right;\n",
              "    }\n",
              "</style>\n",
              "<table border=\"1\" class=\"dataframe\">\n",
              "  <thead>\n",
              "    <tr style=\"text-align: right;\">\n",
              "      <th></th>\n",
              "      <th>sentence_count</th>\n",
              "      <th>word_count</th>\n",
              "      <th>char_count</th>\n",
              "      <th>avg_word_len</th>\n",
              "      <th>stopwords</th>\n",
              "      <th>special_char_count</th>\n",
              "    </tr>\n",
              "  </thead>\n",
              "  <tbody>\n",
              "    <tr>\n",
              "      <th>0</th>\n",
              "      <td>5 Ala. 740</td>\n",
              "      <td>3</td>\n",
              "      <td>10</td>\n",
              "      <td>2.666667</td>\n",
              "      <td>0</td>\n",
              "      <td>0</td>\n",
              "    </tr>\n",
              "    <tr>\n",
              "      <th>1</th>\n",
              "      <td>Supreme Court of Alabama.</td>\n",
              "      <td>4</td>\n",
              "      <td>25</td>\n",
              "      <td>5.500000</td>\n",
              "      <td>1</td>\n",
              "      <td>0</td>\n",
              "    </tr>\n",
              "    <tr>\n",
              "      <th>2</th>\n",
              "      <td>ADAMS</td>\n",
              "      <td>1</td>\n",
              "      <td>5</td>\n",
              "      <td>5.000000</td>\n",
              "      <td>0</td>\n",
              "      <td>0</td>\n",
              "    </tr>\n",
              "    <tr>\n",
              "      <th>3</th>\n",
              "      <td>v.</td>\n",
              "      <td>1</td>\n",
              "      <td>2</td>\n",
              "      <td>2.000000</td>\n",
              "      <td>0</td>\n",
              "      <td>0</td>\n",
              "    </tr>\n",
              "    <tr>\n",
              "      <th>4</th>\n",
              "      <td>TANNER AND HORTON.</td>\n",
              "      <td>3</td>\n",
              "      <td>18</td>\n",
              "      <td>5.333333</td>\n",
              "      <td>0</td>\n",
              "      <td>0</td>\n",
              "    </tr>\n",
              "    <tr>\n",
              "      <th>5</th>\n",
              "      <td>June Term</td>\n",
              "      <td>2</td>\n",
              "      <td>9</td>\n",
              "      <td>4.000000</td>\n",
              "      <td>0</td>\n",
              "      <td>0</td>\n",
              "    </tr>\n",
              "    <tr>\n",
              "      <th>6</th>\n",
              "      <td>Synopsis</td>\n",
              "      <td>1</td>\n",
              "      <td>8</td>\n",
              "      <td>8.000000</td>\n",
              "      <td>0</td>\n",
              "      <td>0</td>\n",
              "    </tr>\n",
              "    <tr>\n",
              "      <th>7</th>\n",
              "      <td>WRIT of Error to the Circuit Court of Sumter.</td>\n",
              "      <td>9</td>\n",
              "      <td>45</td>\n",
              "      <td>4.111111</td>\n",
              "      <td>4</td>\n",
              "      <td>0</td>\n",
              "    </tr>\n",
              "    <tr>\n",
              "      <th>8</th>\n",
              "      <td></td>\n",
              "      <td>1</td>\n",
              "      <td>1</td>\n",
              "      <td>0.000000</td>\n",
              "      <td>0</td>\n",
              "      <td>0</td>\n",
              "    </tr>\n",
              "    <tr>\n",
              "      <th>9</th>\n",
              "      <td>West Headnotes (2)</td>\n",
              "      <td>3</td>\n",
              "      <td>18</td>\n",
              "      <td>5.333333</td>\n",
              "      <td>0</td>\n",
              "      <td>0</td>\n",
              "    </tr>\n",
              "  </tbody>\n",
              "</table>\n",
              "</div>"
            ],
            "text/plain": [
              "                                  sentence_count  ...  special_char_count\n",
              "0                                     5 Ala. 740  ...                   0\n",
              "1                      Supreme Court of Alabama.  ...                   0\n",
              "2                                          ADAMS  ...                   0\n",
              "3                                             v.  ...                   0\n",
              "4                             TANNER AND HORTON.  ...                   0\n",
              "5                                      June Term  ...                   0\n",
              "6                                       Synopsis  ...                   0\n",
              "7  WRIT of Error to the Circuit Court of Sumter.  ...                   0\n",
              "8                                                 ...                   0\n",
              "9                             West Headnotes (2)  ...                   0\n",
              "\n",
              "[10 rows x 6 columns]"
            ]
          },
          "metadata": {
            "tags": []
          },
          "execution_count": 7
        }
      ]
    },
    {
      "cell_type": "code",
      "metadata": {
        "colab": {
          "base_uri": "https://localhost:8080/",
          "height": 340
        },
        "id": "P-zJeww91z0L",
        "outputId": "67e5ac1a-e201-4b28-9a88-84a921243361"
      },
      "source": [
        "#num of numerics\r\n",
        "input_file['numerics']=input_file['sentence_count'].apply(lambda x: len([x for x in x.split() if x.isdigit()]))\r\n",
        "input_file[['sentence_count', 'word_count', 'char_count', 'avg_word_len', 'stopwords', 'special_char_count','numerics']].head(10)\r\n"
      ],
      "execution_count": 8,
      "outputs": [
        {
          "output_type": "execute_result",
          "data": {
            "text/html": [
              "<div>\n",
              "<style scoped>\n",
              "    .dataframe tbody tr th:only-of-type {\n",
              "        vertical-align: middle;\n",
              "    }\n",
              "\n",
              "    .dataframe tbody tr th {\n",
              "        vertical-align: top;\n",
              "    }\n",
              "\n",
              "    .dataframe thead th {\n",
              "        text-align: right;\n",
              "    }\n",
              "</style>\n",
              "<table border=\"1\" class=\"dataframe\">\n",
              "  <thead>\n",
              "    <tr style=\"text-align: right;\">\n",
              "      <th></th>\n",
              "      <th>sentence_count</th>\n",
              "      <th>word_count</th>\n",
              "      <th>char_count</th>\n",
              "      <th>avg_word_len</th>\n",
              "      <th>stopwords</th>\n",
              "      <th>special_char_count</th>\n",
              "      <th>numerics</th>\n",
              "    </tr>\n",
              "  </thead>\n",
              "  <tbody>\n",
              "    <tr>\n",
              "      <th>0</th>\n",
              "      <td>5 Ala. 740</td>\n",
              "      <td>3</td>\n",
              "      <td>10</td>\n",
              "      <td>2.666667</td>\n",
              "      <td>0</td>\n",
              "      <td>0</td>\n",
              "      <td>2</td>\n",
              "    </tr>\n",
              "    <tr>\n",
              "      <th>1</th>\n",
              "      <td>Supreme Court of Alabama.</td>\n",
              "      <td>4</td>\n",
              "      <td>25</td>\n",
              "      <td>5.500000</td>\n",
              "      <td>1</td>\n",
              "      <td>0</td>\n",
              "      <td>0</td>\n",
              "    </tr>\n",
              "    <tr>\n",
              "      <th>2</th>\n",
              "      <td>ADAMS</td>\n",
              "      <td>1</td>\n",
              "      <td>5</td>\n",
              "      <td>5.000000</td>\n",
              "      <td>0</td>\n",
              "      <td>0</td>\n",
              "      <td>0</td>\n",
              "    </tr>\n",
              "    <tr>\n",
              "      <th>3</th>\n",
              "      <td>v.</td>\n",
              "      <td>1</td>\n",
              "      <td>2</td>\n",
              "      <td>2.000000</td>\n",
              "      <td>0</td>\n",
              "      <td>0</td>\n",
              "      <td>0</td>\n",
              "    </tr>\n",
              "    <tr>\n",
              "      <th>4</th>\n",
              "      <td>TANNER AND HORTON.</td>\n",
              "      <td>3</td>\n",
              "      <td>18</td>\n",
              "      <td>5.333333</td>\n",
              "      <td>0</td>\n",
              "      <td>0</td>\n",
              "      <td>0</td>\n",
              "    </tr>\n",
              "    <tr>\n",
              "      <th>5</th>\n",
              "      <td>June Term</td>\n",
              "      <td>2</td>\n",
              "      <td>9</td>\n",
              "      <td>4.000000</td>\n",
              "      <td>0</td>\n",
              "      <td>0</td>\n",
              "      <td>0</td>\n",
              "    </tr>\n",
              "    <tr>\n",
              "      <th>6</th>\n",
              "      <td>Synopsis</td>\n",
              "      <td>1</td>\n",
              "      <td>8</td>\n",
              "      <td>8.000000</td>\n",
              "      <td>0</td>\n",
              "      <td>0</td>\n",
              "      <td>0</td>\n",
              "    </tr>\n",
              "    <tr>\n",
              "      <th>7</th>\n",
              "      <td>WRIT of Error to the Circuit Court of Sumter.</td>\n",
              "      <td>9</td>\n",
              "      <td>45</td>\n",
              "      <td>4.111111</td>\n",
              "      <td>4</td>\n",
              "      <td>0</td>\n",
              "      <td>0</td>\n",
              "    </tr>\n",
              "    <tr>\n",
              "      <th>8</th>\n",
              "      <td></td>\n",
              "      <td>1</td>\n",
              "      <td>1</td>\n",
              "      <td>0.000000</td>\n",
              "      <td>0</td>\n",
              "      <td>0</td>\n",
              "      <td>0</td>\n",
              "    </tr>\n",
              "    <tr>\n",
              "      <th>9</th>\n",
              "      <td>West Headnotes (2)</td>\n",
              "      <td>3</td>\n",
              "      <td>18</td>\n",
              "      <td>5.333333</td>\n",
              "      <td>0</td>\n",
              "      <td>0</td>\n",
              "      <td>0</td>\n",
              "    </tr>\n",
              "  </tbody>\n",
              "</table>\n",
              "</div>"
            ],
            "text/plain": [
              "                                  sentence_count  ...  numerics\n",
              "0                                     5 Ala. 740  ...         2\n",
              "1                      Supreme Court of Alabama.  ...         0\n",
              "2                                          ADAMS  ...         0\n",
              "3                                             v.  ...         0\n",
              "4                             TANNER AND HORTON.  ...         0\n",
              "5                                      June Term  ...         0\n",
              "6                                       Synopsis  ...         0\n",
              "7  WRIT of Error to the Circuit Court of Sumter.  ...         0\n",
              "8                                                 ...         0\n",
              "9                             West Headnotes (2)  ...         0\n",
              "\n",
              "[10 rows x 7 columns]"
            ]
          },
          "metadata": {
            "tags": []
          },
          "execution_count": 8
        }
      ]
    },
    {
      "cell_type": "code",
      "metadata": {
        "colab": {
          "base_uri": "https://localhost:8080/",
          "height": 340
        },
        "id": "KpAqOJpR1z2Q",
        "outputId": "5e3e2f43-2bf1-43cc-821f-ef9a2422b722"
      },
      "source": [
        "#num of uppercase words\r\n",
        "input_file['uppercase']=input_file['sentence_count'].apply(lambda x: len([x for x in x.split() if x.isupper()]))\r\n",
        "input_file[['sentence_count', 'word_count', 'char_count', 'avg_word_len', 'stopwords', 'special_char_count','numerics','uppercase']].head(10)\r\n"
      ],
      "execution_count": 9,
      "outputs": [
        {
          "output_type": "execute_result",
          "data": {
            "text/html": [
              "<div>\n",
              "<style scoped>\n",
              "    .dataframe tbody tr th:only-of-type {\n",
              "        vertical-align: middle;\n",
              "    }\n",
              "\n",
              "    .dataframe tbody tr th {\n",
              "        vertical-align: top;\n",
              "    }\n",
              "\n",
              "    .dataframe thead th {\n",
              "        text-align: right;\n",
              "    }\n",
              "</style>\n",
              "<table border=\"1\" class=\"dataframe\">\n",
              "  <thead>\n",
              "    <tr style=\"text-align: right;\">\n",
              "      <th></th>\n",
              "      <th>sentence_count</th>\n",
              "      <th>word_count</th>\n",
              "      <th>char_count</th>\n",
              "      <th>avg_word_len</th>\n",
              "      <th>stopwords</th>\n",
              "      <th>special_char_count</th>\n",
              "      <th>numerics</th>\n",
              "      <th>uppercase</th>\n",
              "    </tr>\n",
              "  </thead>\n",
              "  <tbody>\n",
              "    <tr>\n",
              "      <th>0</th>\n",
              "      <td>5 Ala. 740</td>\n",
              "      <td>3</td>\n",
              "      <td>10</td>\n",
              "      <td>2.666667</td>\n",
              "      <td>0</td>\n",
              "      <td>0</td>\n",
              "      <td>2</td>\n",
              "      <td>0</td>\n",
              "    </tr>\n",
              "    <tr>\n",
              "      <th>1</th>\n",
              "      <td>Supreme Court of Alabama.</td>\n",
              "      <td>4</td>\n",
              "      <td>25</td>\n",
              "      <td>5.500000</td>\n",
              "      <td>1</td>\n",
              "      <td>0</td>\n",
              "      <td>0</td>\n",
              "      <td>0</td>\n",
              "    </tr>\n",
              "    <tr>\n",
              "      <th>2</th>\n",
              "      <td>ADAMS</td>\n",
              "      <td>1</td>\n",
              "      <td>5</td>\n",
              "      <td>5.000000</td>\n",
              "      <td>0</td>\n",
              "      <td>0</td>\n",
              "      <td>0</td>\n",
              "      <td>1</td>\n",
              "    </tr>\n",
              "    <tr>\n",
              "      <th>3</th>\n",
              "      <td>v.</td>\n",
              "      <td>1</td>\n",
              "      <td>2</td>\n",
              "      <td>2.000000</td>\n",
              "      <td>0</td>\n",
              "      <td>0</td>\n",
              "      <td>0</td>\n",
              "      <td>0</td>\n",
              "    </tr>\n",
              "    <tr>\n",
              "      <th>4</th>\n",
              "      <td>TANNER AND HORTON.</td>\n",
              "      <td>3</td>\n",
              "      <td>18</td>\n",
              "      <td>5.333333</td>\n",
              "      <td>0</td>\n",
              "      <td>0</td>\n",
              "      <td>0</td>\n",
              "      <td>3</td>\n",
              "    </tr>\n",
              "    <tr>\n",
              "      <th>5</th>\n",
              "      <td>June Term</td>\n",
              "      <td>2</td>\n",
              "      <td>9</td>\n",
              "      <td>4.000000</td>\n",
              "      <td>0</td>\n",
              "      <td>0</td>\n",
              "      <td>0</td>\n",
              "      <td>0</td>\n",
              "    </tr>\n",
              "    <tr>\n",
              "      <th>6</th>\n",
              "      <td>Synopsis</td>\n",
              "      <td>1</td>\n",
              "      <td>8</td>\n",
              "      <td>8.000000</td>\n",
              "      <td>0</td>\n",
              "      <td>0</td>\n",
              "      <td>0</td>\n",
              "      <td>0</td>\n",
              "    </tr>\n",
              "    <tr>\n",
              "      <th>7</th>\n",
              "      <td>WRIT of Error to the Circuit Court of Sumter.</td>\n",
              "      <td>9</td>\n",
              "      <td>45</td>\n",
              "      <td>4.111111</td>\n",
              "      <td>4</td>\n",
              "      <td>0</td>\n",
              "      <td>0</td>\n",
              "      <td>1</td>\n",
              "    </tr>\n",
              "    <tr>\n",
              "      <th>8</th>\n",
              "      <td></td>\n",
              "      <td>1</td>\n",
              "      <td>1</td>\n",
              "      <td>0.000000</td>\n",
              "      <td>0</td>\n",
              "      <td>0</td>\n",
              "      <td>0</td>\n",
              "      <td>0</td>\n",
              "    </tr>\n",
              "    <tr>\n",
              "      <th>9</th>\n",
              "      <td>West Headnotes (2)</td>\n",
              "      <td>3</td>\n",
              "      <td>18</td>\n",
              "      <td>5.333333</td>\n",
              "      <td>0</td>\n",
              "      <td>0</td>\n",
              "      <td>0</td>\n",
              "      <td>0</td>\n",
              "    </tr>\n",
              "  </tbody>\n",
              "</table>\n",
              "</div>"
            ],
            "text/plain": [
              "                                  sentence_count  ...  uppercase\n",
              "0                                     5 Ala. 740  ...          0\n",
              "1                      Supreme Court of Alabama.  ...          0\n",
              "2                                          ADAMS  ...          1\n",
              "3                                             v.  ...          0\n",
              "4                             TANNER AND HORTON.  ...          3\n",
              "5                                      June Term  ...          0\n",
              "6                                       Synopsis  ...          0\n",
              "7  WRIT of Error to the Circuit Court of Sumter.  ...          1\n",
              "8                                                 ...          0\n",
              "9                             West Headnotes (2)  ...          0\n",
              "\n",
              "[10 rows x 8 columns]"
            ]
          },
          "metadata": {
            "tags": []
          },
          "execution_count": 9
        }
      ]
    },
    {
      "cell_type": "code",
      "metadata": {
        "colab": {
          "base_uri": "https://localhost:8080/"
        },
        "id": "vHX8e7WC1z4b",
        "outputId": "25ab84ef-4636-487e-92d0-c9d0e56fe342"
      },
      "source": [
        "# lower casing\r\n",
        "input_file['sentence_count']=input_file['sentence_count'].apply(lambda x: \" \".join(x.lower() for x in x.split()))\r\n",
        "input_file['sentence_count'].head(10)\r\n",
        "\r\n"
      ],
      "execution_count": 10,
      "outputs": [
        {
          "output_type": "execute_result",
          "data": {
            "text/plain": [
              "0                                       5 ala. 740\n",
              "1                        supreme court of alabama.\n",
              "2                                            adams\n",
              "3                                               v.\n",
              "4                               tanner and horton.\n",
              "5                                        june term\n",
              "6                                         synopsis\n",
              "7    writ of error to the circuit court of sumter.\n",
              "8                                                 \n",
              "9                               west headnotes (2)\n",
              "Name: sentence_count, dtype: object"
            ]
          },
          "metadata": {
            "tags": []
          },
          "execution_count": 10
        }
      ]
    },
    {
      "cell_type": "code",
      "metadata": {
        "colab": {
          "base_uri": "https://localhost:8080/"
        },
        "id": "9KpsPdq11z6o",
        "outputId": "feaf261d-0ab8-4c6c-ee80-ae18ddfe77bb"
      },
      "source": [
        "#removing punctuation\r\n",
        "input_file['sentence_count']=input_file['sentence_count'].str.replace('[^\\w\\s]','')\r\n",
        "input_file['sentence_count'].head(10)"
      ],
      "execution_count": 11,
      "outputs": [
        {
          "output_type": "execute_result",
          "data": {
            "text/plain": [
              "0                                       5 ala 740\n",
              "1                        supreme court of alabama\n",
              "2                                           adams\n",
              "3                                               v\n",
              "4                               tanner and horton\n",
              "5                                       june term\n",
              "6                                        synopsis\n",
              "7    writ of error to the circuit court of sumter\n",
              "8                                                \n",
              "9                                west headnotes 2\n",
              "Name: sentence_count, dtype: object"
            ]
          },
          "metadata": {
            "tags": []
          },
          "execution_count": 11
        }
      ]
    },
    {
      "cell_type": "code",
      "metadata": {
        "colab": {
          "base_uri": "https://localhost:8080/"
        },
        "id": "qeE6uTYh1z8v",
        "outputId": "5f6344d1-fcd8-417e-f478-82105bc6b801"
      },
      "source": [
        "#removing stopwords\r\n",
        "from nltk.corpus import stopwords\r\n",
        "stop = stopwords.words('english')\r\n",
        "input_file['sentence_count'] = input_file['sentence_count'].apply(lambda x: \" \".join(x for x in x.split() if x not in stop))\r\n",
        "input_file['sentence_count'].head(10)"
      ],
      "execution_count": 12,
      "outputs": [
        {
          "output_type": "execute_result",
          "data": {
            "text/plain": [
              "0                          5 ala 740\n",
              "1              supreme court alabama\n",
              "2                              adams\n",
              "3                                  v\n",
              "4                      tanner horton\n",
              "5                          june term\n",
              "6                           synopsis\n",
              "7    writ error circuit court sumter\n",
              "8                                   \n",
              "9                   west headnotes 2\n",
              "Name: sentence_count, dtype: object"
            ]
          },
          "metadata": {
            "tags": []
          },
          "execution_count": 12
        }
      ]
    },
    {
      "cell_type": "code",
      "metadata": {
        "colab": {
          "base_uri": "https://localhost:8080/"
        },
        "id": "T3zpQcdP1z-_",
        "outputId": "a16ae005-18b8-4d5c-ad32-3a9a660773a4"
      },
      "source": [
        "#frequent word removal\r\n",
        "freq = pd.Series(' '.join(input_file['sentence_count']).split()).value_counts()[:10]\r\n",
        "freq = list(freq.index)\r\n",
        "input_file['sentence_count'] = input_file['sentence_count'].apply(lambda x: \" \".join(x for x in x.split() if x not in freq))\r\n",
        "input_file['sentence_count'].head(10)"
      ],
      "execution_count": 13,
      "outputs": [
        {
          "output_type": "execute_result",
          "data": {
            "text/plain": [
              "0                  740\n",
              "1      supreme alabama\n",
              "2                adams\n",
              "3                     \n",
              "4        tanner horton\n",
              "5                 june\n",
              "6             synopsis\n",
              "7    writ error sumter\n",
              "8                     \n",
              "9       west headnotes\n",
              "Name: sentence_count, dtype: object"
            ]
          },
          "metadata": {
            "tags": []
          },
          "execution_count": 13
        }
      ]
    },
    {
      "cell_type": "code",
      "metadata": {
        "colab": {
          "base_uri": "https://localhost:8080/"
        },
        "id": "iU8JnhDk10BH",
        "outputId": "fa660b60-14ac-4955-93f2-1581b89ca8b5"
      },
      "source": [
        "#rare words removal\r\n",
        "freq = pd.Series(' '.join(input_file['sentence_count']).split()).value_counts()[-10:]\r\n",
        "freq = list(freq.index)\r\n",
        "input_file['sentence_count'] = input_file['sentence_count'].apply(lambda x: \" \".join(x for x in x.split() if x not in freq))\r\n",
        "input_file['sentence_count'].head(10)"
      ],
      "execution_count": 14,
      "outputs": [
        {
          "output_type": "execute_result",
          "data": {
            "text/plain": [
              "0                  740\n",
              "1      supreme alabama\n",
              "2                adams\n",
              "3                     \n",
              "4        tanner horton\n",
              "5                 june\n",
              "6             synopsis\n",
              "7    writ error sumter\n",
              "8                     \n",
              "9       west headnotes\n",
              "Name: sentence_count, dtype: object"
            ]
          },
          "metadata": {
            "tags": []
          },
          "execution_count": 14
        }
      ]
    },
    {
      "cell_type": "code",
      "metadata": {
        "colab": {
          "base_uri": "https://localhost:8080/"
        },
        "id": "20R4qQAv10av",
        "outputId": "6d6204fb-3f84-4c29-aeb3-1528f6348cc0"
      },
      "source": [
        "#spelling correction\r\n",
        "from textblob import TextBlob\r\n",
        "input_file['sentence_count'][:5].apply(lambda x: str(TextBlob(x).correct()))\r\n",
        "input_file['sentence_count'].head(10)"
      ],
      "execution_count": 15,
      "outputs": [
        {
          "output_type": "execute_result",
          "data": {
            "text/plain": [
              "0                  740\n",
              "1      supreme alabama\n",
              "2                adams\n",
              "3                     \n",
              "4        tanner horton\n",
              "5                 june\n",
              "6             synopsis\n",
              "7    writ error sumter\n",
              "8                     \n",
              "9       west headnotes\n",
              "Name: sentence_count, dtype: object"
            ]
          },
          "metadata": {
            "tags": []
          },
          "execution_count": 15
        }
      ]
    },
    {
      "cell_type": "code",
      "metadata": {
        "colab": {
          "base_uri": "https://localhost:8080/"
        },
        "id": "BpucUtHH10cx",
        "outputId": "61cf939c-0c3e-4ff1-b2e6-e8d6a861e894"
      },
      "source": [
        "#tokenization\r\n",
        "import nltk\r\n",
        "nltk.download('punkt')\r\n",
        "TextBlob(input_file['sentence_count'][1]).words"
      ],
      "execution_count": 16,
      "outputs": [
        {
          "output_type": "stream",
          "text": [
            "[nltk_data] Downloading package punkt to /root/nltk_data...\n",
            "[nltk_data]   Unzipping tokenizers/punkt.zip.\n"
          ],
          "name": "stdout"
        },
        {
          "output_type": "execute_result",
          "data": {
            "text/plain": [
              "WordList(['supreme', 'alabama'])"
            ]
          },
          "metadata": {
            "tags": []
          },
          "execution_count": 16
        }
      ]
    },
    {
      "cell_type": "code",
      "metadata": {
        "colab": {
          "base_uri": "https://localhost:8080/"
        },
        "id": "uSjLzlTS10fJ",
        "outputId": "bd026b72-3ff3-47d0-fe1d-0128a6d13280"
      },
      "source": [
        "#stemming\r\n",
        "from nltk.stem import PorterStemmer\r\n",
        "st = PorterStemmer()\r\n",
        "input_file['sentence_count'][:5].apply(lambda x: \" \".join([st.stem(word) for word in x.split()]))\r\n",
        "input_file['sentence_count'].head(10)\r\n"
      ],
      "execution_count": 17,
      "outputs": [
        {
          "output_type": "execute_result",
          "data": {
            "text/plain": [
              "0                  740\n",
              "1      supreme alabama\n",
              "2                adams\n",
              "3                     \n",
              "4        tanner horton\n",
              "5                 june\n",
              "6             synopsis\n",
              "7    writ error sumter\n",
              "8                     \n",
              "9       west headnotes\n",
              "Name: sentence_count, dtype: object"
            ]
          },
          "metadata": {
            "tags": []
          },
          "execution_count": 17
        }
      ]
    },
    {
      "cell_type": "code",
      "metadata": {
        "colab": {
          "base_uri": "https://localhost:8080/"
        },
        "id": "gJLpwszU10hc",
        "outputId": "d42c0d33-856f-4a76-f7f6-e5e2a0866c7c"
      },
      "source": [
        "#lemmatization\r\n",
        "from textblob import Word\r\n",
        "import nltk\r\n",
        "nltk.download('wordnet')\r\n",
        "\r\n",
        "input_file['sentence_count'] = input_file['sentence_count'].apply(lambda x: \" \".join([Word(word).lemmatize() for word in x.split()]))\r\n",
        "input_file['sentence_count'].head(10)"
      ],
      "execution_count": 18,
      "outputs": [
        {
          "output_type": "stream",
          "text": [
            "[nltk_data] Downloading package wordnet to /root/nltk_data...\n",
            "[nltk_data]   Unzipping corpora/wordnet.zip.\n"
          ],
          "name": "stdout"
        },
        {
          "output_type": "execute_result",
          "data": {
            "text/plain": [
              "0                  740\n",
              "1      supreme alabama\n",
              "2                 adam\n",
              "3                     \n",
              "4        tanner horton\n",
              "5                 june\n",
              "6             synopsis\n",
              "7    writ error sumter\n",
              "8                     \n",
              "9       west headnotes\n",
              "Name: sentence_count, dtype: object"
            ]
          },
          "metadata": {
            "tags": []
          },
          "execution_count": 18
        }
      ]
    },
    {
      "cell_type": "code",
      "metadata": {
        "id": "wzPIH63T10j1"
      },
      "source": [
        "#saving in csv file \r\n",
        "input_file['sentence_count'].to_csv(\"newlegalCase.csv\",header=True,index=False)"
      ],
      "execution_count": 20,
      "outputs": []
    },
    {
      "cell_type": "code",
      "metadata": {
        "colab": {
          "base_uri": "https://localhost:8080/",
          "height": 340
        },
        "id": "MzpV9LRl2aK8",
        "outputId": "28d9e125-0aa4-481e-acaa-3f0713fc65e6"
      },
      "source": [
        "#Calculate the term frequency of all the terms.\r\n",
        "tf1 = (input_file['sentence_count']).apply(lambda x: pd.value_counts(x.split(\" \"))).sum(axis = 0).reset_index()\r\n",
        "tf1.columns = ['words','tf']\r\n",
        "tf1.head(10)\r\n"
      ],
      "execution_count": 21,
      "outputs": [
        {
          "output_type": "execute_result",
          "data": {
            "text/html": [
              "<div>\n",
              "<style scoped>\n",
              "    .dataframe tbody tr th:only-of-type {\n",
              "        vertical-align: middle;\n",
              "    }\n",
              "\n",
              "    .dataframe tbody tr th {\n",
              "        vertical-align: top;\n",
              "    }\n",
              "\n",
              "    .dataframe thead th {\n",
              "        text-align: right;\n",
              "    }\n",
              "</style>\n",
              "<table border=\"1\" class=\"dataframe\">\n",
              "  <thead>\n",
              "    <tr style=\"text-align: right;\">\n",
              "      <th></th>\n",
              "      <th>words</th>\n",
              "      <th>tf</th>\n",
              "    </tr>\n",
              "  </thead>\n",
              "  <tbody>\n",
              "    <tr>\n",
              "      <th>0</th>\n",
              "      <td>740</td>\n",
              "      <td>2.0</td>\n",
              "    </tr>\n",
              "    <tr>\n",
              "      <th>1</th>\n",
              "      <td>alabama</td>\n",
              "      <td>1.0</td>\n",
              "    </tr>\n",
              "    <tr>\n",
              "      <th>2</th>\n",
              "      <td>supreme</td>\n",
              "      <td>1.0</td>\n",
              "    </tr>\n",
              "    <tr>\n",
              "      <th>3</th>\n",
              "      <td>adam</td>\n",
              "      <td>1.0</td>\n",
              "    </tr>\n",
              "    <tr>\n",
              "      <th>4</th>\n",
              "      <td></td>\n",
              "      <td>35.0</td>\n",
              "    </tr>\n",
              "    <tr>\n",
              "      <th>5</th>\n",
              "      <td>horton</td>\n",
              "      <td>1.0</td>\n",
              "    </tr>\n",
              "    <tr>\n",
              "      <th>6</th>\n",
              "      <td>tanner</td>\n",
              "      <td>1.0</td>\n",
              "    </tr>\n",
              "    <tr>\n",
              "      <th>7</th>\n",
              "      <td>june</td>\n",
              "      <td>1.0</td>\n",
              "    </tr>\n",
              "    <tr>\n",
              "      <th>8</th>\n",
              "      <td>synopsis</td>\n",
              "      <td>1.0</td>\n",
              "    </tr>\n",
              "    <tr>\n",
              "      <th>9</th>\n",
              "      <td>error</td>\n",
              "      <td>3.0</td>\n",
              "    </tr>\n",
              "  </tbody>\n",
              "</table>\n",
              "</div>"
            ],
            "text/plain": [
              "      words    tf\n",
              "0       740   2.0\n",
              "1   alabama   1.0\n",
              "2   supreme   1.0\n",
              "3      adam   1.0\n",
              "4            35.0\n",
              "5    horton   1.0\n",
              "6    tanner   1.0\n",
              "7      june   1.0\n",
              "8  synopsis   1.0\n",
              "9     error   3.0"
            ]
          },
          "metadata": {
            "tags": []
          },
          "execution_count": 21
        }
      ]
    },
    {
      "cell_type": "code",
      "metadata": {
        "colab": {
          "base_uri": "https://localhost:8080/"
        },
        "id": "8uQzUaap2aNn",
        "outputId": "f22f5717-ea82-4bf3-a035-ef4c8b18db3e"
      },
      "source": [
        "#Print out top 10 1-gram, top 10 2-grams, and top 10 3-grams terms as features.\r\n",
        "import pandas as pd\r\n",
        "from sklearn.feature_extraction.text import TfidfVectorizer\r\n",
        "\r\n",
        "data_file=\"newlegalCase.csv\"\r\n",
        "input_file=pd.read_csv(data_file,error_bad_lines=False,names=['sentence_count'])\r\n",
        "\r\n",
        "tfidf = TfidfVectorizer(max_features=1000, lowercase=True, analyzer='word', stop_words= 'english', ngram_range = (1,3))\r\n",
        "tfs = tfidf.fit_transform(input_file['sentence_count'].values.astype('U'))\r\n",
        "feature_names = tfidf.get_feature_names()\r\n",
        "print(feature_names)"
      ],
      "execution_count": 26,
      "outputs": [
        {
          "output_type": "stream",
          "text": [
            "['103', '103 alr', '103 alr 464', '108', '145', '182', '1852', '1857', '1858', '1871', '1872', '1876', '1880', '1887', '1936', '2019', '2019 thomson', '2019 thomson reuters', '21', '21 333', '266', '31', '31 526', '329', '333', '362', '39', '45', '45 329', '464', '526', '55', '55 266', '65', '740', '913', 'act', 'act considered', 'act considered connection', 'act subject', 'act subject policy', 'adam', 'admissible', 'admissible contradict', 'admitted', 'admitted contract', 'admitted contract defendant', 'admx', 'alabama', 'alr', 'alr 464', 'appeal', 'appeal barbour', 'appeal barbour tried', 'appeal city', 'appeal city montgomery', 'appeal etowah', 'appeal etowah tried', 'assert', 'assert right', 'attachment', 'attachment execution', 'attorney', 'attorney law', 'attorney law firm', 'austin', 'austin sawyer', 'autauga', 'autauga tried', 'autauga tried hon', 'authority', 'bale', 'bale cotton', 'bale cotton appeal', 'barbour', 'barbour tried', 'barbour tried hon', 'bibb', 'bibb janney', 'booker', 'booker jones', 'booker jones admx', 'bowman', 'brings', 'brings question', 'cal', 'cal 145', 'case', 'case cite', 'case cite headnote', 'charged', 'charged jury', 'chattel', 'chattel mortgage', 'citation', 'cite', 'cite headnote', 'citing', 'citing reference', 'city', 'city montgomery', 'city montgomery tried', 'claim', 'claim original', 'claim original government', 'claimant', 'claimant assert', 'claimant assert right', 'claimant previous', 'claimant previous levy', 'coat', 'collier', 'confirmation', 'confirmation correctness', 'confirmation correctness view', 'connection', 'connection act', 'connection act subject', 'consider', 'consider claimant', 'consider claimant assert', 'considered', 'considered connection', 'considered connection act', 'contract', 'contract defendant', 'contract defendant execution', 'contract pass', 'contract pass vest', 'contract sale', 'contradict', 'conversion', 'conversion bale', 'conversion bale cotton', 'conversion cotton', 'conversion cotton appeal', 'correctness', 'correctness view', 'correctness view necessary', 'cotton', 'cotton appeal', 'cotton appeal barbour', 'cotton appeal city', 'cotton appeal etowah', 'cow', 'cow 39', 'creditor', 'creditor remedy', 'crop', 'crop existence', 'crop existence mortgage', 'crop existence subject', 'crop subject', 'crop subject levy', 'cunningham', 'date', 'dec', 'dec 1876', 'defendant', 'defendant execution', 'depth', 'destroyed', 'destroyed injunction', 'dewey', 'dewey bowman', 'dissenting', 'dissenting opinion', 'document', 'doughty', 'edward', 'edward thompson', 'end', 'end document', 'enquiry', 'enter', 'enter enquiry', 'error', 'error autauga', 'error autauga tried', 'error sumter', 'error tuskaloosa', 'etowah', 'etowah tried', 'etowah tried hon', 'evans', 'evans lamar', 'evidence', 'evidence admissible', 'evidence admissible contradict', 'execution', 'execution destroyed', 'execution destroyed injunction', 'execution planted', 'execution planted crop', 'execution taken', 'execution taken possession', 'exemption', 'exemption appeal', 'exemption appeal city', 'existence', 'existence mortgage', 'existence mortgage contract', 'existence subject', 'existence subject matter', 'farm', 'farm year', 'filing', 'filing citation', 'firm', 'garnishment', 'garnishment waiver', 'garnishment waiver exemption', 'generally', 'government', 'government work', 'growing', 'growing crop', 'growing crop existence', 'growing crop subject', 'hale', 'headnote', 'headnotes', 'history', 'history result', 'history result citation', 'hon', 'hon hale', 'hon john', 'hon john cunningham', 'hon moore', 'hon wm', 'hon wm whitlock', 'horton', 'injunction', 'jan', 'jan 1858', 'jan 1871', 'jan 1872', 'janney', 'john', 'john 108', 'john cunningham', 'jones', 'jones admx', 'judge', 'judge mistaken', 'judge mistaken law', 'judgment', 'jul', 'jul 1857', 'jun', 'jun 1852', 'june', 'jury', 'lamar', 'lampley', 'law', 'law firm', 'law supposing', 'law supposing contract', 'lehman', 'levy', 'levy execution', 'levy execution planted', 'levy execution taken', 'levy seizure', 'levy seizure attachment', 'lien', 'lien execution', 'lien execution destroyed', 'matter', 'matter sale', 'mayfield', 'mckenzie', 'mckenzie lampley', 'mentioned', 'mistaken', 'mistaken law', 'mistaken law supposing', 'montgomery', 'montgomery tried', 'montgomery tried hon', 'moore', 'mortgage', 'mortgage contract', 'mortgage contract pass', 'murphy', 'nan', 'necessary', 'negative', 'negative treatment', 'negative treatment result', 'november', 'number', 'opinion', 'original', 'original government', 'original government work', 'ormond', 'page', 'page number', 'parol', 'parol evidence', 'parol evidence admissible', 'pass', 'pass vest', 'pass vest possession', 'perkins', 'perkins mayfield', 'planted', 'planted crop', 'policy', 'policy state', 'port', 'port 182', 'possession', 'possession crop', 'present', 'present question', 'previous', 'previous levy', 'previous levy execution', 'property', 'property cotton', 'property cotton appeal', 'property statute', 'property statute november', 'question', 'quoted', 'rees', 'rees coat', 'reference', 'referenced', 'referenced title', 'remedy', 'result', 'result citation', 'result said', 'reuters', 'reuters claim', 'reuters claim original', 'right', 'right levy', 'right levy execution', 'right property', 'right property cotton', 'right property statute', 'said', 'sale', 'sawyer', 'seizure', 'seizure attachment', 'seizure attachment execution', 'sentence_count', 'shall', 'shall enter', 'shall enter enquiry', 'smith', 'st1821', 'state', 'statute', 'statute november', 'statute present', 'statute present question', 'stewart', 'stewart doughty', 'subject', 'subject levy', 'subject levy seizure', 'subject matter', 'subject matter sale', 'subject policy', 'subject policy state', 'sumter', 'supposing', 'supposing contract', 'supposing contract sale', 'supreme', 'supreme alabama', 'sw', 'sw 913', 'synopsis', 'table', 'table authority', 'taken', 'taken possession', 'taken possession crop', 'tanner', 'tanner horton', 'thompson', 'thomson', 'thomson reuters', 'thomson reuters claim', 'title', 'treatment', 'treatment result', 'treatment result citation', 'trial', 'trial right', 'trial right property', 'tried', 'tried hon', 'tried hon hale', 'tried hon john', 'tried hon moore', 'tried hon wm', 'trover', 'trover conversion', 'trover conversion bale', 'trover conversion cotton', 'tuskaloosa', 'type', 'vest', 'vest possession', 'view', 'view necessary', 'waiver', 'waiver exemption', 'waiver exemption appeal', 'west', 'west headnotes', 'whitlock', 'wm', 'wm whitlock', 'work', 'writ', 'writ error', 'writ error sumter', 'writ error tuskaloosa', 'year']\n"
          ],
          "name": "stdout"
        }
      ]
    },
    {
      "cell_type": "code",
      "metadata": {
        "colab": {
          "base_uri": "https://localhost:8080/"
        },
        "id": "BYmcwH702aQK",
        "outputId": "1a4f2c6d-c745-470b-f441-1cc4972dda13"
      },
      "source": [
        "# Write your code here\r\n",
        "\r\n",
        "import re\r\n",
        "ip=\"260.08.094.109\"\r\n",
        "x =  re.sub('\\.[0]', '.', ip)\r\n",
        "\r\n",
        "print(x)"
      ],
      "execution_count": 23,
      "outputs": [
        {
          "output_type": "stream",
          "text": [
            "260.8.94.109\n"
          ],
          "name": "stdout"
        }
      ]
    },
    {
      "cell_type": "code",
      "metadata": {
        "colab": {
          "base_uri": "https://localhost:8080/"
        },
        "id": "QTNAYNHt2aTE",
        "outputId": "cebca27c-1bb2-4040-a82d-de597ee758fd"
      },
      "source": [
        "# Write your code here\r\n",
        "\r\n",
        "import re\r\n",
        "s = \"The 2010s were a dramatic decade, filled with ups and downs, more than 1000 stroies have happened. As the decade comes to a close, Insider took a look back at some of the biggest headline-grabbing stories, from 2010 to 2019. The result was 119 news stories that ranged from the heartwarming rescue of a Thai boys' soccer team from a flooded cave to the divisive election of President Donald Trump.\"\r\n",
        "yrs = re.findall(r\"2[\\d]{3}\", s)\r\n",
        "\r\n",
        "for i in yrs:\r\n",
        "  print(i)"
      ],
      "execution_count": 25,
      "outputs": [
        {
          "output_type": "stream",
          "text": [
            "2010\n",
            "2010\n",
            "2019\n"
          ],
          "name": "stdout"
        }
      ]
    },
    {
      "cell_type": "code",
      "metadata": {
        "id": "rlSmcn_J2aVk"
      },
      "source": [
        ""
      ],
      "execution_count": null,
      "outputs": []
    }
  ]
}