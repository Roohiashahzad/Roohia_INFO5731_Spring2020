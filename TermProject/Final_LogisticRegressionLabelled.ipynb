{
  "nbformat": 4,
  "nbformat_minor": 0,
  "metadata": {
    "colab": {
      "name": "Final_LogisticRegressionLabelled.ipynb",
      "provenance": [],
      "collapsed_sections": [],
      "toc_visible": true
    },
    "kernelspec": {
      "name": "python3",
      "display_name": "Python 3"
    },
    "language_info": {
      "name": "python"
    }
  },
  "cells": [
    {
      "cell_type": "markdown",
      "metadata": {
        "id": "8qzQMKR1mpCK"
      },
      "source": [
        "#Reading Files"
      ]
    },
    {
      "cell_type": "code",
      "metadata": {
        "id": "9eWps20D-oYa"
      },
      "source": [
        "import pandas as pd\n",
        "testfilename = \"/content/AllDataSet.csv\" #Test data file\n",
        "trainfilename = \"/content/Final_TrainData_ACL&ALL.csv\" #Training/labeled data file \n",
        "d1 = pd.read_csv(testfilename, encoding= 'unicode_escape')\n",
        "d2 = pd.read_csv(trainfilename, encoding= 'unicode_escape')\n"
      ],
      "execution_count": null,
      "outputs": []
    },
    {
      "cell_type": "code",
      "metadata": {
        "colab": {
          "base_uri": "https://localhost:8080/",
          "height": 195
        },
        "id": "63PyZkIIfFVb",
        "outputId": "9e784799-5ddf-466f-925c-cc8ace2562f1"
      },
      "source": [
        "d1.head()"
      ],
      "execution_count": null,
      "outputs": [
        {
          "output_type": "execute_result",
          "data": {
            "text/html": [
              "<div>\n",
              "<style scoped>\n",
              "    .dataframe tbody tr th:only-of-type {\n",
              "        vertical-align: middle;\n",
              "    }\n",
              "\n",
              "    .dataframe tbody tr th {\n",
              "        vertical-align: top;\n",
              "    }\n",
              "\n",
              "    .dataframe thead th {\n",
              "        text-align: right;\n",
              "    }\n",
              "</style>\n",
              "<table border=\"1\" class=\"dataframe\">\n",
              "  <thead>\n",
              "    <tr style=\"text-align: right;\">\n",
              "      <th></th>\n",
              "      <th>Title</th>\n",
              "      <th>Contributions</th>\n",
              "      <th>Source</th>\n",
              "      <th>Labels</th>\n",
              "    </tr>\n",
              "  </thead>\n",
              "  <tbody>\n",
              "    <tr>\n",
              "      <th>0</th>\n",
              "      <td>The measurement of âinterdisciplinarityâ a...</td>\n",
              "      <td>In this study, we discuss recent advances in t...</td>\n",
              "      <td>JASIST</td>\n",
              "      <td>NaN</td>\n",
              "    </tr>\n",
              "    <tr>\n",
              "      <th>1</th>\n",
              "      <td>Innovation adoption: Broadcasting versus virality</td>\n",
              "      <td>broadcasting and virality have similar diffusi...</td>\n",
              "      <td>JASIST</td>\n",
              "      <td>NaN</td>\n",
              "    </tr>\n",
              "    <tr>\n",
              "      <th>2</th>\n",
              "      <td>Discovering underlying sensations of human emo...</td>\n",
              "      <td>we report the results of our study on sensatio...</td>\n",
              "      <td>JASIST</td>\n",
              "      <td>NaN</td>\n",
              "    </tr>\n",
              "    <tr>\n",
              "      <th>3</th>\n",
              "      <td>Discovering underlying sensations of human emo...</td>\n",
              "      <td>in the second part of the paper, we define nov...</td>\n",
              "      <td>JASIST</td>\n",
              "      <td>NaN</td>\n",
              "    </tr>\n",
              "    <tr>\n",
              "      <th>4</th>\n",
              "      <td>Discovering underlying sensations of human emo...</td>\n",
              "      <td>we design a method to classify texts into ones...</td>\n",
              "      <td>JASIST</td>\n",
              "      <td>NaN</td>\n",
              "    </tr>\n",
              "  </tbody>\n",
              "</table>\n",
              "</div>"
            ],
            "text/plain": [
              "                                               Title  ... Labels\n",
              "0  The measurement of âinterdisciplinarityâ a...  ...    NaN\n",
              "1  Innovation adoption: Broadcasting versus virality  ...    NaN\n",
              "2  Discovering underlying sensations of human emo...  ...    NaN\n",
              "3  Discovering underlying sensations of human emo...  ...    NaN\n",
              "4  Discovering underlying sensations of human emo...  ...    NaN\n",
              "\n",
              "[5 rows x 4 columns]"
            ]
          },
          "metadata": {
            "tags": []
          },
          "execution_count": 2
        }
      ]
    },
    {
      "cell_type": "code",
      "metadata": {
        "colab": {
          "base_uri": "https://localhost:8080/",
          "height": 195
        },
        "id": "PMps7FmffGua",
        "outputId": "c6b11c4e-2d97-4c4e-ae92-15bfdc84a49b"
      },
      "source": [
        "d2.head()"
      ],
      "execution_count": null,
      "outputs": [
        {
          "output_type": "execute_result",
          "data": {
            "text/html": [
              "<div>\n",
              "<style scoped>\n",
              "    .dataframe tbody tr th:only-of-type {\n",
              "        vertical-align: middle;\n",
              "    }\n",
              "\n",
              "    .dataframe tbody tr th {\n",
              "        vertical-align: top;\n",
              "    }\n",
              "\n",
              "    .dataframe thead th {\n",
              "        text-align: right;\n",
              "    }\n",
              "</style>\n",
              "<table border=\"1\" class=\"dataframe\">\n",
              "  <thead>\n",
              "    <tr style=\"text-align: right;\">\n",
              "      <th></th>\n",
              "      <th>Title</th>\n",
              "      <th>Contributions</th>\n",
              "      <th>Source</th>\n",
              "      <th>Labels</th>\n",
              "    </tr>\n",
              "  </thead>\n",
              "  <tbody>\n",
              "    <tr>\n",
              "      <th>0</th>\n",
              "      <td>Text Mining for Personalized Knowledge Extract...</td>\n",
              "      <td>Extend and evaluate existing textâmining tec...</td>\n",
              "      <td>JASIST</td>\n",
              "      <td>Algorithm or Method or Technology Optimization</td>\n",
              "    </tr>\n",
              "    <tr>\n",
              "      <th>1</th>\n",
              "      <td>Text Mining for Personalized Knowledge Extract...</td>\n",
              "      <td>Design and develop a layer for extraction of k...</td>\n",
              "      <td>JASIST</td>\n",
              "      <td>New Algorithm or Method or Technology</td>\n",
              "    </tr>\n",
              "    <tr>\n",
              "      <th>2</th>\n",
              "      <td>Text Mining for Personalized Knowledge Extract...</td>\n",
              "      <td>Evaluate relevance, reliability, and demonstra...</td>\n",
              "      <td>JASIST</td>\n",
              "      <td>Performance Evaluation</td>\n",
              "    </tr>\n",
              "    <tr>\n",
              "      <th>3</th>\n",
              "      <td>PSI: A probabilistic semantic interpretable fr...</td>\n",
              "      <td>A novel semantic interpretable framework is pr...</td>\n",
              "      <td>JASIST</td>\n",
              "      <td>Model Construction</td>\n",
              "    </tr>\n",
              "    <tr>\n",
              "      <th>4</th>\n",
              "      <td>PSI: A probabilistic semantic interpretable fr...</td>\n",
              "      <td>with the attribute based representation and su...</td>\n",
              "      <td>JASIST</td>\n",
              "      <td>Algorithm or Method or Technology Optimization</td>\n",
              "    </tr>\n",
              "  </tbody>\n",
              "</table>\n",
              "</div>"
            ],
            "text/plain": [
              "                                               Title  ...                                          Labels\n",
              "0  Text Mining for Personalized Knowledge Extract...  ...  Algorithm or Method or Technology Optimization\n",
              "1  Text Mining for Personalized Knowledge Extract...  ...           New Algorithm or Method or Technology\n",
              "2  Text Mining for Personalized Knowledge Extract...  ...                          Performance Evaluation\n",
              "3  PSI: A probabilistic semantic interpretable fr...  ...                              Model Construction\n",
              "4  PSI: A probabilistic semantic interpretable fr...  ...  Algorithm or Method or Technology Optimization\n",
              "\n",
              "[5 rows x 4 columns]"
            ]
          },
          "metadata": {
            "tags": []
          },
          "execution_count": 3
        }
      ]
    },
    {
      "cell_type": "markdown",
      "metadata": {
        "id": "0UeOtlovmtA3"
      },
      "source": [
        "#Data Cleaning"
      ]
    },
    {
      "cell_type": "code",
      "metadata": {
        "id": "G1HpJX8aDxvr"
      },
      "source": [
        "d1['lower_Case'] = d1['Contributions'].apply(lambda x: \" \".join(x.lower() for x in str(x).split()))\n",
        "d2['lower_Case'] = d2['Contributions'].apply(lambda x: \" \".join(x.lower() for x in x.split()))"
      ],
      "execution_count": null,
      "outputs": []
    },
    {
      "cell_type": "code",
      "metadata": {
        "id": "7Siwg1h1DxxN"
      },
      "source": [
        "d1['remove_Punc'] = d1['lower_Case'].str.replace('[^\\w\\s]','')\n",
        "d2['remove_Punc'] = d2['lower_Case'].str.replace('[^\\w\\s]','')"
      ],
      "execution_count": null,
      "outputs": []
    },
    {
      "cell_type": "code",
      "metadata": {
        "colab": {
          "base_uri": "https://localhost:8080/"
        },
        "id": "BQLTVBfjDxzw",
        "outputId": "3b48969c-3d4e-4fd7-baeb-cd9920b8561b"
      },
      "source": [
        "import nltk\n",
        "nltk.download('punkt')\n",
        "nltk.download('stopwords')\n",
        "from nltk.corpus import stopwords\n",
        "stop_words = stopwords.words('english')\n",
        "d1['stop_words'] = d1['remove_Punc'].apply(lambda x: \" \".join(x for x in x.split() if x not in stop_words))\n",
        "d2['stop_words'] = d2['remove_Punc'].apply(lambda x: \" \".join(x for x in x.split() if x not in stop_words))"
      ],
      "execution_count": null,
      "outputs": [
        {
          "output_type": "stream",
          "text": [
            "[nltk_data] Downloading package punkt to /root/nltk_data...\n",
            "[nltk_data]   Unzipping tokenizers/punkt.zip.\n",
            "[nltk_data] Downloading package stopwords to /root/nltk_data...\n",
            "[nltk_data]   Unzipping corpora/stopwords.zip.\n"
          ],
          "name": "stdout"
        }
      ]
    },
    {
      "cell_type": "code",
      "metadata": {
        "id": "neDK5Pp4Dx1T"
      },
      "source": [
        "frequent_words = list(pd.Series(' '.join(str(d1['Contributions'])).split()).value_counts()[:15].index)\n",
        "d1[\"freq_words\"] = d1['stop_words'].apply(lambda x: ' '.join([i for i in x.split() if i not in frequent_words]))\n"
      ],
      "execution_count": null,
      "outputs": []
    },
    {
      "cell_type": "code",
      "metadata": {
        "id": "ijFy6yl3f56q"
      },
      "source": [
        "frequent_words = list(pd.Series(' '.join(d2['Contributions']).split()).value_counts()[:15].index)\n",
        "d2[\"freq_words\"] = d2['stop_words'].apply(lambda x: ' '.join([i for i in x.split() if i not in frequent_words]))\n"
      ],
      "execution_count": null,
      "outputs": []
    },
    {
      "cell_type": "code",
      "metadata": {
        "id": "XbDg3ZweDx_N"
      },
      "source": [
        "from textblob import TextBlob\n",
        "d1['word_tokenize'] = d1['freq_words'].apply(lambda x: TextBlob(x).words)"
      ],
      "execution_count": null,
      "outputs": []
    },
    {
      "cell_type": "code",
      "metadata": {
        "id": "1NXYmnXhf_9d"
      },
      "source": [
        "from textblob import TextBlob\n",
        "d2['word_tokenize'] = d2['freq_words'].apply(lambda x: TextBlob(x).words)"
      ],
      "execution_count": null,
      "outputs": []
    },
    {
      "cell_type": "code",
      "metadata": {
        "colab": {
          "base_uri": "https://localhost:8080/"
        },
        "id": "u0NNcc1hDyAv",
        "outputId": "6639a5c6-8fbc-4b15-e562-b95d38064cb3"
      },
      "source": [
        "import nltk\n",
        "nltk.download('wordnet')\n",
        "from textblob import Word\n",
        "d1['lemmatized'] = d1['word_tokenize'].apply(lambda x: \" \".join([Word(word).lemmatize() for word in x]))"
      ],
      "execution_count": null,
      "outputs": [
        {
          "output_type": "stream",
          "text": [
            "[nltk_data] Downloading package wordnet to /root/nltk_data...\n",
            "[nltk_data]   Unzipping corpora/wordnet.zip.\n"
          ],
          "name": "stdout"
        }
      ]
    },
    {
      "cell_type": "code",
      "metadata": {
        "id": "L1K24AR8gEr8"
      },
      "source": [
        "from textblob import Word\n",
        "d2['lemmatized'] = d2['word_tokenize'].apply(lambda x: \" \".join([Word(word).lemmatize() for word in x]))"
      ],
      "execution_count": null,
      "outputs": []
    },
    {
      "cell_type": "code",
      "metadata": {
        "id": "dFKv6dXxDyDW"
      },
      "source": [
        "test = d1[[ 'Contributions', 'Source', 'Labels']] #clean test data\n",
        "train = d2[['Contributions', 'Source', 'Labels']] #clean train data"
      ],
      "execution_count": null,
      "outputs": []
    },
    {
      "cell_type": "code",
      "metadata": {
        "id": "lRVpz0GaDyE9"
      },
      "source": [
        "test.to_csv('/content/test.csv', index = False)\n",
        "train.to_csv('/content/train.csv', index = False)"
      ],
      "execution_count": null,
      "outputs": []
    },
    {
      "cell_type": "code",
      "metadata": {
        "colab": {
          "base_uri": "https://localhost:8080/",
          "height": 402
        },
        "id": "NTJfUBlziQ5C",
        "outputId": "298659c1-6320-4b9a-ac94-a9067dd207a8"
      },
      "source": [
        "test"
      ],
      "execution_count": null,
      "outputs": [
        {
          "output_type": "execute_result",
          "data": {
            "text/html": [
              "<div>\n",
              "<style scoped>\n",
              "    .dataframe tbody tr th:only-of-type {\n",
              "        vertical-align: middle;\n",
              "    }\n",
              "\n",
              "    .dataframe tbody tr th {\n",
              "        vertical-align: top;\n",
              "    }\n",
              "\n",
              "    .dataframe thead th {\n",
              "        text-align: right;\n",
              "    }\n",
              "</style>\n",
              "<table border=\"1\" class=\"dataframe\">\n",
              "  <thead>\n",
              "    <tr style=\"text-align: right;\">\n",
              "      <th></th>\n",
              "      <th>Contributions</th>\n",
              "      <th>Source</th>\n",
              "      <th>Labels</th>\n",
              "    </tr>\n",
              "  </thead>\n",
              "  <tbody>\n",
              "    <tr>\n",
              "      <th>0</th>\n",
              "      <td>In this study, we discuss recent advances in t...</td>\n",
              "      <td>JASIST</td>\n",
              "      <td>NaN</td>\n",
              "    </tr>\n",
              "    <tr>\n",
              "      <th>1</th>\n",
              "      <td>broadcasting and virality have similar diffusi...</td>\n",
              "      <td>JASIST</td>\n",
              "      <td>NaN</td>\n",
              "    </tr>\n",
              "    <tr>\n",
              "      <th>2</th>\n",
              "      <td>we report the results of our study on sensatio...</td>\n",
              "      <td>JASIST</td>\n",
              "      <td>NaN</td>\n",
              "    </tr>\n",
              "    <tr>\n",
              "      <th>3</th>\n",
              "      <td>in the second part of the paper, we define nov...</td>\n",
              "      <td>JASIST</td>\n",
              "      <td>NaN</td>\n",
              "    </tr>\n",
              "    <tr>\n",
              "      <th>4</th>\n",
              "      <td>we design a method to classify texts into ones...</td>\n",
              "      <td>JASIST</td>\n",
              "      <td>NaN</td>\n",
              "    </tr>\n",
              "    <tr>\n",
              "      <th>...</th>\n",
              "      <td>...</td>\n",
              "      <td>...</td>\n",
              "      <td>...</td>\n",
              "    </tr>\n",
              "    <tr>\n",
              "      <th>4854</th>\n",
              "      <td>We collected and annotated Amharic data for th...</td>\n",
              "      <td>IPM</td>\n",
              "      <td>NaN</td>\n",
              "    </tr>\n",
              "    <tr>\n",
              "      <th>4855</th>\n",
              "      <td>We utilize Apache Spark distributed platform f...</td>\n",
              "      <td>IPM</td>\n",
              "      <td>NaN</td>\n",
              "    </tr>\n",
              "    <tr>\n",
              "      <th>4856</th>\n",
              "      <td>Latina immigrants to the U.S. Midwest have at ...</td>\n",
              "      <td>IPM</td>\n",
              "      <td>NaN</td>\n",
              "    </tr>\n",
              "    <tr>\n",
              "      <th>4857</th>\n",
              "      <td>ICTs support information seeking and use along...</td>\n",
              "      <td>IPM</td>\n",
              "      <td>NaN</td>\n",
              "    </tr>\n",
              "    <tr>\n",
              "      <th>4858</th>\n",
              "      <td>Digital inclusion efforts must account for lan...</td>\n",
              "      <td>IPM</td>\n",
              "      <td>NaN</td>\n",
              "    </tr>\n",
              "  </tbody>\n",
              "</table>\n",
              "<p>4859 rows × 3 columns</p>\n",
              "</div>"
            ],
            "text/plain": [
              "                                          Contributions  Source  Labels\n",
              "0     In this study, we discuss recent advances in t...  JASIST     NaN\n",
              "1     broadcasting and virality have similar diffusi...  JASIST     NaN\n",
              "2     we report the results of our study on sensatio...  JASIST     NaN\n",
              "3     in the second part of the paper, we define nov...  JASIST     NaN\n",
              "4     we design a method to classify texts into ones...  JASIST     NaN\n",
              "...                                                 ...     ...     ...\n",
              "4854  We collected and annotated Amharic data for th...     IPM     NaN\n",
              "4855  We utilize Apache Spark distributed platform f...     IPM     NaN\n",
              "4856  Latina immigrants to the U.S. Midwest have at ...     IPM     NaN\n",
              "4857  ICTs support information seeking and use along...     IPM     NaN\n",
              "4858  Digital inclusion efforts must account for lan...     IPM     NaN\n",
              "\n",
              "[4859 rows x 3 columns]"
            ]
          },
          "metadata": {
            "tags": []
          },
          "execution_count": 15
        }
      ]
    },
    {
      "cell_type": "code",
      "metadata": {
        "colab": {
          "base_uri": "https://localhost:8080/",
          "height": 402
        },
        "id": "iPf1MrcaiZPJ",
        "outputId": "ce7d8c9a-5424-4528-a3af-fd58147a94e1"
      },
      "source": [
        "train"
      ],
      "execution_count": null,
      "outputs": [
        {
          "output_type": "execute_result",
          "data": {
            "text/html": [
              "<div>\n",
              "<style scoped>\n",
              "    .dataframe tbody tr th:only-of-type {\n",
              "        vertical-align: middle;\n",
              "    }\n",
              "\n",
              "    .dataframe tbody tr th {\n",
              "        vertical-align: top;\n",
              "    }\n",
              "\n",
              "    .dataframe thead th {\n",
              "        text-align: right;\n",
              "    }\n",
              "</style>\n",
              "<table border=\"1\" class=\"dataframe\">\n",
              "  <thead>\n",
              "    <tr style=\"text-align: right;\">\n",
              "      <th></th>\n",
              "      <th>Contributions</th>\n",
              "      <th>Source</th>\n",
              "      <th>Labels</th>\n",
              "    </tr>\n",
              "  </thead>\n",
              "  <tbody>\n",
              "    <tr>\n",
              "      <th>0</th>\n",
              "      <td>Extend and evaluate existing textâmining tec...</td>\n",
              "      <td>JASIST</td>\n",
              "      <td>Algorithm or Method or Technology Optimization</td>\n",
              "    </tr>\n",
              "    <tr>\n",
              "      <th>1</th>\n",
              "      <td>Design and develop a layer for extraction of k...</td>\n",
              "      <td>JASIST</td>\n",
              "      <td>New Algorithm or Method or Technology</td>\n",
              "    </tr>\n",
              "    <tr>\n",
              "      <th>2</th>\n",
              "      <td>Evaluate relevance, reliability, and demonstra...</td>\n",
              "      <td>JASIST</td>\n",
              "      <td>Performance Evaluation</td>\n",
              "    </tr>\n",
              "    <tr>\n",
              "      <th>3</th>\n",
              "      <td>A novel semantic interpretable framework is pr...</td>\n",
              "      <td>JASIST</td>\n",
              "      <td>Model Construction</td>\n",
              "    </tr>\n",
              "    <tr>\n",
              "      <th>4</th>\n",
              "      <td>with the attribute based representation and su...</td>\n",
              "      <td>JASIST</td>\n",
              "      <td>Algorithm or Method or Technology Optimization</td>\n",
              "    </tr>\n",
              "    <tr>\n",
              "      <th>...</th>\n",
              "      <td>...</td>\n",
              "      <td>...</td>\n",
              "      <td>...</td>\n",
              "    </tr>\n",
              "    <tr>\n",
              "      <th>3128</th>\n",
              "      <td>we propose a simple and parameter-efficient ad...</td>\n",
              "      <td>ACL</td>\n",
              "      <td>Theory Proposal</td>\n",
              "    </tr>\n",
              "    <tr>\n",
              "      <th>3129</th>\n",
              "      <td>we propose an approach that uses both the sent...</td>\n",
              "      <td>ACL</td>\n",
              "      <td>Model Construction</td>\n",
              "    </tr>\n",
              "    <tr>\n",
              "      <th>3130</th>\n",
              "      <td>We propose an endto-end approach for jointly p...</td>\n",
              "      <td>ACL</td>\n",
              "      <td>Dataset Creation</td>\n",
              "    </tr>\n",
              "    <tr>\n",
              "      <th>3131</th>\n",
              "      <td>we aim to compare the performance of attention...</td>\n",
              "      <td>ACL</td>\n",
              "      <td>Performance Evaluation</td>\n",
              "    </tr>\n",
              "    <tr>\n",
              "      <th>3132</th>\n",
              "      <td>we propose a model that jointly identifies the...</td>\n",
              "      <td>ACL</td>\n",
              "      <td>Model Construction</td>\n",
              "    </tr>\n",
              "  </tbody>\n",
              "</table>\n",
              "<p>3133 rows × 3 columns</p>\n",
              "</div>"
            ],
            "text/plain": [
              "                                          Contributions  ...                                          Labels\n",
              "0     Extend and evaluate existing textâmining tec...  ...  Algorithm or Method or Technology Optimization\n",
              "1     Design and develop a layer for extraction of k...  ...           New Algorithm or Method or Technology\n",
              "2     Evaluate relevance, reliability, and demonstra...  ...                          Performance Evaluation\n",
              "3     A novel semantic interpretable framework is pr...  ...                              Model Construction\n",
              "4     with the attribute based representation and su...  ...  Algorithm or Method or Technology Optimization\n",
              "...                                                 ...  ...                                             ...\n",
              "3128  we propose a simple and parameter-efficient ad...  ...                                 Theory Proposal\n",
              "3129  we propose an approach that uses both the sent...  ...                              Model Construction\n",
              "3130  We propose an endto-end approach for jointly p...  ...                                Dataset Creation\n",
              "3131  we aim to compare the performance of attention...  ...                          Performance Evaluation\n",
              "3132  we propose a model that jointly identifies the...  ...                              Model Construction\n",
              "\n",
              "[3133 rows x 3 columns]"
            ]
          },
          "metadata": {
            "tags": []
          },
          "execution_count": 16
        }
      ]
    },
    {
      "cell_type": "code",
      "metadata": {
        "id": "ojgJxa-4fY7c"
      },
      "source": [
        "d2 = d2[pd.notnull(d2['Contributions'])]"
      ],
      "execution_count": null,
      "outputs": []
    },
    {
      "cell_type": "code",
      "metadata": {
        "colab": {
          "base_uri": "https://localhost:8080/"
        },
        "id": "WzxdSUsafaLM",
        "outputId": "b3d9b08b-2d15-47d2-87c6-34e7ee8a821d"
      },
      "source": [
        "d2.info()"
      ],
      "execution_count": null,
      "outputs": [
        {
          "output_type": "stream",
          "text": [
            "<class 'pandas.core.frame.DataFrame'>\n",
            "Int64Index: 3133 entries, 0 to 3132\n",
            "Data columns (total 10 columns):\n",
            " #   Column         Non-Null Count  Dtype \n",
            "---  ------         --------------  ----- \n",
            " 0   Title          1999 non-null   object\n",
            " 1   Contributions  3133 non-null   object\n",
            " 2   Source         3133 non-null   object\n",
            " 3   Labels         3133 non-null   object\n",
            " 4   lower_Case     3133 non-null   object\n",
            " 5   remove_Punc    3133 non-null   object\n",
            " 6   stop_words     3133 non-null   object\n",
            " 7   freq_words     3133 non-null   object\n",
            " 8   word_tokenize  3133 non-null   object\n",
            " 9   lemmatized     3133 non-null   object\n",
            "dtypes: object(10)\n",
            "memory usage: 269.2+ KB\n"
          ],
          "name": "stdout"
        }
      ]
    },
    {
      "cell_type": "code",
      "metadata": {
        "colab": {
          "base_uri": "https://localhost:8080/"
        },
        "id": "HS3it0r9faNF",
        "outputId": "3f9aa13d-95cd-4338-b49d-0a267a666f85"
      },
      "source": [
        "col = ['Contributions', 'Labels']\n",
        "d2 = d2[col]\n",
        "d2.columns\n"
      ],
      "execution_count": null,
      "outputs": [
        {
          "output_type": "execute_result",
          "data": {
            "text/plain": [
              "Index(['Contributions', 'Labels'], dtype='object')"
            ]
          },
          "metadata": {
            "tags": []
          },
          "execution_count": 19
        }
      ]
    },
    {
      "cell_type": "markdown",
      "metadata": {
        "id": "VS3-AYyHmz2F"
      },
      "source": [
        "#Assigning Category_id to Labels & Analyzing"
      ]
    },
    {
      "cell_type": "code",
      "metadata": {
        "id": "VNF8j4r6faPp"
      },
      "source": [
        "d2['category_id'] = d2['Labels'].factorize()[0]\n",
        "d2['Labels'] = d2['Labels'].apply(lambda x: \" \".join(x.upper() for x in x.split()))\n",
        "\n",
        "from io import StringIO\n",
        "category_id_d2 = d2[['Labels', 'category_id']].drop_duplicates().sort_values('category_id')\n",
        "category_to_id = dict(category_id_d2.values)\n",
        "id_to_category = dict(category_id_d2[['category_id', 'Labels']].values)"
      ],
      "execution_count": null,
      "outputs": []
    },
    {
      "cell_type": "code",
      "metadata": {
        "colab": {
          "base_uri": "https://localhost:8080/",
          "height": 639
        },
        "id": "i6m4nG_3faRg",
        "outputId": "0d0ad8b6-36a8-431f-c36b-89933de5737a"
      },
      "source": [
        "d2.head(20)"
      ],
      "execution_count": null,
      "outputs": [
        {
          "output_type": "execute_result",
          "data": {
            "text/html": [
              "<div>\n",
              "<style scoped>\n",
              "    .dataframe tbody tr th:only-of-type {\n",
              "        vertical-align: middle;\n",
              "    }\n",
              "\n",
              "    .dataframe tbody tr th {\n",
              "        vertical-align: top;\n",
              "    }\n",
              "\n",
              "    .dataframe thead th {\n",
              "        text-align: right;\n",
              "    }\n",
              "</style>\n",
              "<table border=\"1\" class=\"dataframe\">\n",
              "  <thead>\n",
              "    <tr style=\"text-align: right;\">\n",
              "      <th></th>\n",
              "      <th>Contributions</th>\n",
              "      <th>Labels</th>\n",
              "      <th>category_id</th>\n",
              "    </tr>\n",
              "  </thead>\n",
              "  <tbody>\n",
              "    <tr>\n",
              "      <th>0</th>\n",
              "      <td>Extend and evaluate existing textâmining tec...</td>\n",
              "      <td>ALGORITHM OR METHOD OR TECHNOLOGY OPTIMIZATION</td>\n",
              "      <td>0</td>\n",
              "    </tr>\n",
              "    <tr>\n",
              "      <th>1</th>\n",
              "      <td>Design and develop a layer for extraction of k...</td>\n",
              "      <td>NEW ALGORITHM OR METHOD OR TECHNOLOGY</td>\n",
              "      <td>1</td>\n",
              "    </tr>\n",
              "    <tr>\n",
              "      <th>2</th>\n",
              "      <td>Evaluate relevance, reliability, and demonstra...</td>\n",
              "      <td>PERFORMANCE EVALUATION</td>\n",
              "      <td>2</td>\n",
              "    </tr>\n",
              "    <tr>\n",
              "      <th>3</th>\n",
              "      <td>A novel semantic interpretable framework is pr...</td>\n",
              "      <td>MODEL CONSTRUCTION</td>\n",
              "      <td>3</td>\n",
              "    </tr>\n",
              "    <tr>\n",
              "      <th>4</th>\n",
              "      <td>with the attribute based representation and su...</td>\n",
              "      <td>ALGORITHM OR METHOD OR TECHNOLOGY OPTIMIZATION</td>\n",
              "      <td>0</td>\n",
              "    </tr>\n",
              "    <tr>\n",
              "      <th>5</th>\n",
              "      <td>combining multiple local rankers via the propo...</td>\n",
              "      <td>PERFORMANCE EVALUATION</td>\n",
              "      <td>2</td>\n",
              "    </tr>\n",
              "    <tr>\n",
              "      <th>6</th>\n",
              "      <td>Identifying reader characteristics.</td>\n",
              "      <td>RESOURCES</td>\n",
              "      <td>4</td>\n",
              "    </tr>\n",
              "    <tr>\n",
              "      <th>7</th>\n",
              "      <td>Illustrating the relationships between factors.</td>\n",
              "      <td>RESOURCES</td>\n",
              "      <td>4</td>\n",
              "    </tr>\n",
              "    <tr>\n",
              "      <th>8</th>\n",
              "      <td>Having the flexibility to build in different t...</td>\n",
              "      <td>RESOURCES</td>\n",
              "      <td>4</td>\n",
              "    </tr>\n",
              "    <tr>\n",
              "      <th>9</th>\n",
              "      <td>Enabling the further exploration of interactio...</td>\n",
              "      <td>RESOURCES</td>\n",
              "      <td>4</td>\n",
              "    </tr>\n",
              "    <tr>\n",
              "      <th>10</th>\n",
              "      <td>we enrich scientific literature on the generat...</td>\n",
              "      <td>RESOURCES</td>\n",
              "      <td>4</td>\n",
              "    </tr>\n",
              "    <tr>\n",
              "      <th>11</th>\n",
              "      <td>we enrich the literature on collective design ...</td>\n",
              "      <td>RESOURCES</td>\n",
              "      <td>4</td>\n",
              "    </tr>\n",
              "    <tr>\n",
              "      <th>12</th>\n",
              "      <td>This article guides practitioners in preparing...</td>\n",
              "      <td>DATASET CREATION</td>\n",
              "      <td>5</td>\n",
              "    </tr>\n",
              "    <tr>\n",
              "      <th>13</th>\n",
              "      <td>The article contributes a systematic approach ...</td>\n",
              "      <td>RESOURCES</td>\n",
              "      <td>4</td>\n",
              "    </tr>\n",
              "    <tr>\n",
              "      <th>14</th>\n",
              "      <td>facilitates the study of the impact of specifi...</td>\n",
              "      <td>THEORY PROPOSAL</td>\n",
              "      <td>6</td>\n",
              "    </tr>\n",
              "    <tr>\n",
              "      <th>15</th>\n",
              "      <td>Empirical: Analyzing the characteristics of CQ...</td>\n",
              "      <td>PERFORMANCE EVALUATION</td>\n",
              "      <td>2</td>\n",
              "    </tr>\n",
              "    <tr>\n",
              "      <th>16</th>\n",
              "      <td>Theoretical: Proposing an efficient algorithm ...</td>\n",
              "      <td>NEW ALGORITHM OR METHOD OR TECHNOLOGY</td>\n",
              "      <td>1</td>\n",
              "    </tr>\n",
              "    <tr>\n",
              "      <th>17</th>\n",
              "      <td>Introducing diffusionâofâinnovations theor...</td>\n",
              "      <td>THEORY PROPOSAL</td>\n",
              "      <td>6</td>\n",
              "    </tr>\n",
              "    <tr>\n",
              "      <th>18</th>\n",
              "      <td>Exploring how diffusion patterns influence sci...</td>\n",
              "      <td>PERFORMANCE EVALUATION</td>\n",
              "      <td>2</td>\n",
              "    </tr>\n",
              "    <tr>\n",
              "      <th>19</th>\n",
              "      <td>Providing a simple method for roughly estimati...</td>\n",
              "      <td>NEW ALGORITHM OR METHOD OR TECHNOLOGY</td>\n",
              "      <td>1</td>\n",
              "    </tr>\n",
              "  </tbody>\n",
              "</table>\n",
              "</div>"
            ],
            "text/plain": [
              "                                        Contributions  ... category_id\n",
              "0   Extend and evaluate existing textâmining tec...  ...           0\n",
              "1   Design and develop a layer for extraction of k...  ...           1\n",
              "2   Evaluate relevance, reliability, and demonstra...  ...           2\n",
              "3   A novel semantic interpretable framework is pr...  ...           3\n",
              "4   with the attribute based representation and su...  ...           0\n",
              "5   combining multiple local rankers via the propo...  ...           2\n",
              "6                 Identifying reader characteristics.  ...           4\n",
              "7     Illustrating the relationships between factors.  ...           4\n",
              "8   Having the flexibility to build in different t...  ...           4\n",
              "9   Enabling the further exploration of interactio...  ...           4\n",
              "10  we enrich scientific literature on the generat...  ...           4\n",
              "11  we enrich the literature on collective design ...  ...           4\n",
              "12  This article guides practitioners in preparing...  ...           5\n",
              "13  The article contributes a systematic approach ...  ...           4\n",
              "14  facilitates the study of the impact of specifi...  ...           6\n",
              "15  Empirical: Analyzing the characteristics of CQ...  ...           2\n",
              "16  Theoretical: Proposing an efficient algorithm ...  ...           1\n",
              "17  Introducing diffusionâofâinnovations theor...  ...           6\n",
              "18  Exploring how diffusion patterns influence sci...  ...           2\n",
              "19  Providing a simple method for roughly estimati...  ...           1\n",
              "\n",
              "[20 rows x 3 columns]"
            ]
          },
          "metadata": {
            "tags": []
          },
          "execution_count": 21
        }
      ]
    },
    {
      "cell_type": "code",
      "metadata": {
        "colab": {
          "base_uri": "https://localhost:8080/"
        },
        "id": "92qtGyEIiRnf",
        "outputId": "82fff2a0-4082-4916-b21b-c8a892cccecb"
      },
      "source": [
        "id_to_category"
      ],
      "execution_count": null,
      "outputs": [
        {
          "output_type": "execute_result",
          "data": {
            "text/plain": [
              "{0: 'ALGORITHM OR METHOD OR TECHNOLOGY OPTIMIZATION',\n",
              " 1: 'NEW ALGORITHM OR METHOD OR TECHNOLOGY',\n",
              " 2: 'PERFORMANCE EVALUATION',\n",
              " 3: 'MODEL CONSTRUCTION',\n",
              " 4: 'RESOURCES',\n",
              " 5: 'DATASET CREATION',\n",
              " 6: 'THEORY PROPOSAL',\n",
              " 7: 'MODEL OPTIMIZATION',\n",
              " 8: 'APPLICATIONS'}"
            ]
          },
          "metadata": {
            "tags": []
          },
          "execution_count": 22
        }
      ]
    },
    {
      "cell_type": "code",
      "metadata": {
        "colab": {
          "base_uri": "https://localhost:8080/",
          "height": 374
        },
        "id": "uVcucahvfaUE",
        "outputId": "61d44a4d-2414-4b77-fdc2-4203665a74b3"
      },
      "source": [
        "import matplotlib.pyplot as plt\n",
        "fig = plt.figure(figsize=(8,6))\n",
        "d2['Labels'] = d2['Labels'].apply(lambda x: \" \".join(x.upper() for x in x.split()))\n",
        "\n",
        "d2.groupby('Labels').Contributions.count().plot.barh(ylim=0)\n",
        "plt.show() #train data results --- rectify labels"
      ],
      "execution_count": null,
      "outputs": [
        {
          "output_type": "display_data",
          "data": {
            "image/png": "[encoded data removed]",
            "text/plain": [
              "<Figure size 576x432 with 1 Axes>"
            ]
          },
          "metadata": {
            "tags": [],
            "needs_background": "light"
          }
        }
      ]
    },
    {
      "cell_type": "markdown",
      "metadata": {
        "id": "5OSJma-Xm7jc"
      },
      "source": [
        "#Feature Extraction"
      ]
    },
    {
      "cell_type": "code",
      "metadata": {
        "colab": {
          "base_uri": "https://localhost:8080/"
        },
        "id": "EzQtWOb1faV4",
        "outputId": "c1705efb-1049-4b75-dc91-93db7901549b"
      },
      "source": [
        "#TF-IDF\n",
        "from sklearn.feature_extraction.text import TfidfVectorizer\n",
        "\n",
        "tfidf = TfidfVectorizer(sublinear_tf=True, min_df=5, norm='l2', encoding='latin-1', ngram_range=(1, 2), stop_words='english')\n",
        "\n",
        "features = tfidf.fit_transform(d2.Contributions).toarray()\n",
        "labels = d2.category_id\n",
        "features.shape"
      ],
      "execution_count": null,
      "outputs": [
        {
          "output_type": "execute_result",
          "data": {
            "text/plain": [
              "(3133, 2376)"
            ]
          },
          "metadata": {
            "tags": []
          },
          "execution_count": 24
        }
      ]
    },
    {
      "cell_type": "code",
      "metadata": {
        "colab": {
          "base_uri": "https://localhost:8080/"
        },
        "id": "QXRpMQm8faZZ",
        "outputId": "5c4ddd85-11d5-4ca8-ea68-3a165dcaabf9"
      },
      "source": [
        "#N-grams\n",
        "from sklearn.feature_selection import chi2\n",
        "import numpy as np\n",
        "\n",
        "N = 2\n",
        "for Labels, category_id in sorted(category_to_id.items()):\n",
        "  features_chi2 = chi2(features, labels == category_id) #chi squared test\n",
        "  indices = np.argsort(features_chi2[0])\n",
        "  feature_names = np.array(tfidf.get_feature_names())[indices]\n",
        "  unigrams = [v for v in feature_names if len(v.split(' ')) == 1]\n",
        "  bigrams = [v for v in feature_names if len(v.split(' ')) == 2]\n",
        "  print(\"# '{}':\".format(Labels))\n",
        "  print(\"  . Most correlated unigrams:\\n       . {}\".format('\\n       . '.join(unigrams[-N:])))\n",
        "  print(\"  . Most correlated bigrams:\\n       . {}\".format('\\n       . '.join(bigrams[-N:])))"
      ],
      "execution_count": null,
      "outputs": [
        {
          "output_type": "stream",
          "text": [
            "# 'ALGORITHM OR METHOD OR TECHNOLOGY OPTIMIZATION':\n",
            "  . Most correlated unigrams:\n",
            "       . method\n",
            "       . discriminative\n",
            "  . Most correlated bigrams:\n",
            "       . outperforms previous\n",
            "       . blockchain technology\n",
            "# 'APPLICATIONS':\n",
            "  . Most correlated unigrams:\n",
            "       . applying\n",
            "       . application\n",
            "  . Most correlated bigrams:\n",
            "       . community detection\n",
            "       . word sentence\n",
            "# 'DATASET CREATION':\n",
            "  . Most correlated unigrams:\n",
            "       . contains\n",
            "       . dataset\n",
            "  . Most correlated bigrams:\n",
            "       . data set\n",
            "       . new dataset\n",
            "# 'MODEL CONSTRUCTION':\n",
            "  . Most correlated unigrams:\n",
            "       . cnn\n",
            "       . model\n",
            "  . Most correlated bigrams:\n",
            "       . learning model\n",
            "       . neural model\n",
            "# 'MODEL OPTIMIZATION':\n",
            "  . Most correlated unigrams:\n",
            "       . outperforms\n",
            "       . model\n",
            "  . Most correlated bigrams:\n",
            "       . model outperforms\n",
            "       . proposed model\n",
            "# 'NEW ALGORITHM OR METHOD OR TECHNOLOGY':\n",
            "  . Most correlated unigrams:\n",
            "       . propose\n",
            "       . method\n",
            "  . Most correlated bigrams:\n",
            "       . propose novel\n",
            "       . novel method\n",
            "# 'PERFORMANCE EVALUATION':\n",
            "  . Most correlated unigrams:\n",
            "       . performance\n",
            "       . evaluation\n",
            "  . Most correlated bigrams:\n",
            "       . conduct extensive\n",
            "       . state art\n",
            "# 'RESOURCES':\n",
            "  . Most correlated unigrams:\n",
            "       . understanding\n",
            "       . contributes\n",
            "  . Most correlated bigrams:\n",
            "       . article contributes\n",
            "       . study contributes\n",
            "# 'THEORY PROPOSAL':\n",
            "  . Most correlated unigrams:\n",
            "       . method\n",
            "       . model\n",
            "  . Most correlated bigrams:\n",
            "       . willingness pay\n",
            "       . information needs\n"
          ],
          "name": "stdout"
        }
      ]
    },
    {
      "cell_type": "markdown",
      "metadata": {
        "id": "KbYQbLhwnJdn"
      },
      "source": [
        "#Naive Bayes"
      ]
    },
    {
      "cell_type": "code",
      "metadata": {
        "id": "OVFQUicoiCIk"
      },
      "source": [
        "#Count vectorizer\n",
        "from sklearn.model_selection import train_test_split\n",
        "from sklearn.feature_extraction.text import CountVectorizer\n",
        "from sklearn.feature_extraction.text import TfidfTransformer\n",
        "from sklearn.naive_bayes import MultinomialNB\n",
        "\n",
        "X_train, X_test, y_train, y_test = train_test_split(d2['Contributions'], d2['Labels'], random_state = 0)\n",
        "count_vect = CountVectorizer()\n",
        "X_train_counts = count_vect.fit_transform(X_train)\n",
        "tfidf_transformer = TfidfTransformer()\n",
        "X_train_tfidf = tfidf_transformer.fit_transform(X_train_counts)\n",
        "\n",
        "clf = MultinomialNB().fit(X_train_tfidf, y_train)"
      ],
      "execution_count": null,
      "outputs": []
    },
    {
      "cell_type": "markdown",
      "metadata": {
        "id": "CmsoEZGfnQP4"
      },
      "source": [
        "#Comparing 4 Classifers"
      ]
    },
    {
      "cell_type": "code",
      "metadata": {
        "id": "vA-_vW9xiCKk"
      },
      "source": [
        "from sklearn.linear_model import LogisticRegression\n",
        "from sklearn.ensemble import RandomForestClassifier\n",
        "from sklearn.naive_bayes import MultinomialNB\n",
        "from sklearn.svm import LinearSVC\n",
        "\n",
        "from sklearn.model_selection import cross_val_score\n",
        "\n",
        "\n",
        "models = [\n",
        "    RandomForestClassifier(n_estimators=200, max_depth=3, random_state=0),\n",
        "    LinearSVC(),\n",
        "    MultinomialNB(),\n",
        "    LogisticRegression(random_state=0),\n",
        "]\n",
        "CV = 5\n",
        "cv_df = pd.DataFrame(index=range(CV * len(models)))\n",
        "entries = []\n",
        "for model in models:\n",
        "  model_name = model.__class__.__name__\n",
        "  accuracies = cross_val_score(model, features, labels, scoring='accuracy', cv=CV)\n",
        "  for fold_idx, accuracy in enumerate(accuracies):\n",
        "    entries.append((model_name, fold_idx, accuracy))\n",
        "cv_df = pd.DataFrame(entries, columns=['model_name', 'fold_idx', 'accuracy'])"
      ],
      "execution_count": null,
      "outputs": []
    },
    {
      "cell_type": "code",
      "metadata": {
        "colab": {
          "base_uri": "https://localhost:8080/",
          "height": 280
        },
        "id": "ST9WC5W4iCMs",
        "outputId": "cd92b759-fc6c-4357-e3cf-88656e5539a3"
      },
      "source": [
        "import seaborn as sns\n",
        "\n",
        "sns.boxplot(x='model_name', y='accuracy', data=cv_df)\n",
        "sns.stripplot(x='model_name', y='accuracy', data=cv_df, \n",
        "              size=8, jitter=True, edgecolor=\"gray\", linewidth=2)\n",
        "plt.show()"
      ],
      "execution_count": null,
      "outputs": [
        {
          "output_type": "display_data",
          "data": {
            "image/png": "[encoded data removed]",
            "text/plain": [
              "<Figure size 432x288 with 1 Axes>"
            ]
          },
          "metadata": {
            "tags": [],
            "needs_background": "light"
          }
        }
      ]
    },
    {
      "cell_type": "markdown",
      "metadata": {
        "id": "9SGDFth-nV1V"
      },
      "source": [
        "Logistic Regression has Highest Score"
      ]
    },
    {
      "cell_type": "code",
      "metadata": {
        "colab": {
          "base_uri": "https://localhost:8080/"
        },
        "id": "277QHb-liCO2",
        "outputId": "5be3ef6c-f928-4832-8a9e-b2a9a57e10e7"
      },
      "source": [
        "cv_df.groupby('model_name').accuracy.mean()"
      ],
      "execution_count": null,
      "outputs": [
        {
          "output_type": "execute_result",
          "data": {
            "text/plain": [
              "model_name\n",
              "LinearSVC                 0.380453\n",
              "LogisticRegression        0.427688\n",
              "MultinomialNB             0.383955\n",
              "RandomForestClassifier    0.316952\n",
              "Name: accuracy, dtype: float64"
            ]
          },
          "metadata": {
            "tags": []
          },
          "execution_count": 29
        }
      ]
    },
    {
      "cell_type": "markdown",
      "metadata": {
        "id": "lsS_owKxnh7b"
      },
      "source": [
        "#Applying Logistic Regression"
      ]
    },
    {
      "cell_type": "code",
      "metadata": {
        "id": "h3yA0RsHiCQm"
      },
      "source": [
        "from sklearn.model_selection import train_test_split\n",
        "\n",
        "model = LogisticRegression()\n",
        "\n",
        "X_train, X_test, y_train, y_test, indices_train, indices_test = train_test_split(features, labels, d2.index, test_size=0.33, random_state=0)\n",
        "model.fit(X_train, y_train)\n",
        "y_pred = model.predict(X_test)"
      ],
      "execution_count": null,
      "outputs": []
    },
    {
      "cell_type": "markdown",
      "metadata": {
        "id": "JTU9ean6nlOW"
      },
      "source": [
        "#Confusion Matrix"
      ]
    },
    {
      "cell_type": "code",
      "metadata": {
        "colab": {
          "base_uri": "https://localhost:8080/",
          "height": 666
        },
        "id": "-IWml_CYiCSM",
        "outputId": "4216d373-e1d9-49dd-ca48-9adf5474493b"
      },
      "source": [
        "from sklearn.metrics import confusion_matrix\n",
        "\n",
        "conf_mat = confusion_matrix(y_test, y_pred)\n",
        "fig, ax = plt.subplots(figsize=(8,6))\n",
        "sns.heatmap(conf_mat, annot=True, fmt='d',\n",
        "            xticklabels=category_id_d2.Labels.values, yticklabels=category_id_d2.Labels.values)\n",
        "plt.ylabel('Actual')\n",
        "plt.xlabel('Predicted')\n",
        "plt.show()"
      ],
      "execution_count": null,
      "outputs": [
        {
          "output_type": "display_data",
          "data": {
            "image/png": "[encoded data removed]",
            "text/plain": [
              "<Figure size 576x432 with 2 Axes>"
            ]
          },
          "metadata": {
            "tags": [],
            "needs_background": "light"
          }
        }
      ]
    },
    {
      "cell_type": "markdown",
      "metadata": {
        "id": "jZH2C9zGnnpf"
      },
      "source": [
        "#Evaluation of Model"
      ]
    },
    {
      "cell_type": "code",
      "metadata": {
        "colab": {
          "base_uri": "https://localhost:8080/"
        },
        "id": "IoaAF334fafF",
        "outputId": "289ade15-afb4-473c-8d03-98c3646218da"
      },
      "source": [
        "from sklearn import metrics\n",
        "print(metrics.classification_report(y_test, y_pred, \n",
        "                                    target_names=d2['Labels'].unique()))"
      ],
      "execution_count": null,
      "outputs": [
        {
          "output_type": "stream",
          "text": [
            "                                                precision    recall  f1-score   support\n",
            "\n",
            "ALGORITHM OR METHOD OR TECHNOLOGY OPTIMIZATION       0.00      0.00      0.00        70\n",
            "         NEW ALGORITHM OR METHOD OR TECHNOLOGY       0.47      0.66      0.55       214\n",
            "                        PERFORMANCE EVALUATION       0.44      0.49      0.46       138\n",
            "                            MODEL CONSTRUCTION       0.51      0.28      0.36       105\n",
            "                                     RESOURCES       0.50      0.20      0.29        99\n",
            "                              DATASET CREATION       0.83      0.23      0.36        44\n",
            "                               THEORY PROPOSAL       0.42      0.72      0.53       272\n",
            "                            MODEL OPTIMIZATION       0.33      0.02      0.03        56\n",
            "                                  APPLICATIONS       0.00      0.00      0.00        36\n",
            "\n",
            "                                      accuracy                           0.45      1034\n",
            "                                     macro avg       0.39      0.29      0.29      1034\n",
            "                                  weighted avg       0.42      0.45      0.40      1034\n",
            "\n"
          ],
          "name": "stdout"
        },
        {
          "output_type": "stream",
          "text": [
            "/usr/local/lib/python3.7/dist-packages/sklearn/metrics/_classification.py:1272: UndefinedMetricWarning: Precision and F-score are ill-defined and being set to 0.0 in labels with no predicted samples. Use `zero_division` parameter to control this behavior.\n",
            "  _warn_prf(average, modifier, msg_start, len(result))\n"
          ],
          "name": "stderr"
        }
      ]
    },
    {
      "cell_type": "markdown",
      "metadata": {
        "id": "FjpgJwemvEHh"
      },
      "source": [
        "#Model Predicts Label for a contribution Sentence"
      ]
    },
    {
      "cell_type": "code",
      "metadata": {
        "colab": {
          "base_uri": "https://localhost:8080/"
        },
        "id": "xLJonCVDoBqq",
        "outputId": "04b94f90-8a8e-4516-d2b5-c4e31180f702"
      },
      "source": [
        "#Predicting sentence label\n",
        "\n",
        "predict_sentence = \"broadcasting and virality have similar diffusion power, but play different roles across diffusion stages.\"\n",
        "print(clf.predict(count_vect.transform([predict_sentence])))"
      ],
      "execution_count": null,
      "outputs": [
        {
          "output_type": "stream",
          "text": [
            "['THEORY PROPOSAL']\n"
          ],
          "name": "stdout"
        }
      ]
    },
    {
      "cell_type": "code",
      "metadata": {
        "id": "m-ed8jd-Kxpl",
        "colab": {
          "base_uri": "https://localhost:8080/"
        },
        "outputId": "5a579d9f-6c50-470d-e156-8fd1f9ca0450"
      },
      "source": [
        "#Predicting sentence label\n",
        "\n",
        "predict_sentence = \"we report the results of our study on sensation effects that underlie human emotions as revealed in social media. We focus on the key five types of sensations: sight, hearing, touch, smell, and taste. We first establish a correlation between emotion and sensation in terms of linguistic expressions\"\n",
        "print(clf.predict(count_vect.transform([predict_sentence])))"
      ],
      "execution_count": null,
      "outputs": [
        {
          "output_type": "stream",
          "text": [
            "['THEORY PROPOSAL']\n"
          ],
          "name": "stdout"
        }
      ]
    },
    {
      "cell_type": "code",
      "metadata": {
        "id": "8xJ9vo7cKxyW",
        "colab": {
          "base_uri": "https://localhost:8080/"
        },
        "outputId": "0f7a7022-79f8-4951-823b-0a40242747c9"
      },
      "source": [
        "#Predicting sentence label\n",
        "\n",
        "predict_sentence = \"We propose a novel method to score documents on their semantic progressiveness, thereby identifying documents on the vanguard of semantic change.\"\n",
        "print(clf.predict(count_vect.transform([predict_sentence])))"
      ],
      "execution_count": null,
      "outputs": [
        {
          "output_type": "stream",
          "text": [
            "['NEW ALGORITHM OR METHOD OR TECHNOLOGY']\n"
          ],
          "name": "stdout"
        }
      ]
    }
  ]
}